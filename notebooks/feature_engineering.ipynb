{
 "cells": [
  {
   "cell_type": "code",
   "execution_count": 1,
   "id": "c6b2a73a-3f97-4792-97cb-063a8fccc045",
   "metadata": {},
   "outputs": [],
   "source": [
    "import pathlib\n",
    "import re\n",
    "\n",
    "import numpy as np\n",
    "import pandas as pd\n",
    "import polars as pl\n",
    "import matplotlib.pyplot as plt\n",
    "import seaborn as sns\n",
    "from implicit import als, lmf\n",
    "from scipy.sparse import csr_matrix"
   ]
  },
  {
   "cell_type": "code",
   "execution_count": 2,
   "id": "b7ca5616-ddde-4567-bf42-5eba82ead732",
   "metadata": {},
   "outputs": [],
   "source": [
    "def load_reviews_dataset(folder_with_csvs_path=\"../data/raw/steam-reviews-dataset/\"):\n",
    "    # steam reviews dataset\n",
    "    chunk_paths = [path for path in pathlib.Path(folder_with_csvs_path).glob(\"*.csv\")]\n",
    "    dfs = []\n",
    "    for i in chunk_paths:\n",
    "        dfs.append(pd.read_csv(i))\n",
    "    return pd.concat(dfs).rename(columns={\"appid\": \"app_id\", \"steamid\": \"user_id\"})\n",
    "\n",
    "\n",
    "def load_game_recommendations_on_steam_games_dataset(csv_path=\"../data/raw/game-recommendations-on-steam/games.csv\"):\n",
    "    return (\n",
    "        pd.read_csv(csv_path)\n",
    "        .rename(columns={\n",
    "            \"date_release\": \"release_date\",\n",
    "            \"price_final\": \"final_price\",\n",
    "            \"price_original\": \"original_price\",\n",
    "            \"win\": \"win_support\",\n",
    "            \"mac\": \"mac_support\",\n",
    "            \"linux\": \"linux_support\",\n",
    "            \"steam_deck\": \"steam_deck_support\",\n",
    "        }).drop(\"discount\", axis=1)\n",
    "    )\n",
    "\n",
    "\n",
    "def load_steam_games_complete_dataset(csv_path=\"../data/raw/steam-games-complete-dataset/steam_games.csv\"):\n",
    "    def convert_price_to_float(x):\n",
    "        if isinstance(x, float):\n",
    "            return x\n",
    "        elif x.startswith(\"$\"):\n",
    "            return float(x.lstrip(\"$\"))\n",
    "        elif x == \"Free\":\n",
    "            return 0\n",
    "        else:\n",
    "            return None\n",
    "\n",
    "    # int(x.lstrip(\"$\") if x.startswith(\"$\") else (if )\n",
    "\n",
    "    df_games_complete = (\n",
    "        pd.read_csv(csv_path)\n",
    "        .query(\"types == 'app' | types == 'bundle'\")\n",
    "        .rename(columns={\"name\": \"title\", \"achievements\": \"n_game_achievements\"})\n",
    "        .assign(refined_price=lambda df: df[\"original_price\"].apply(convert_price_to_float))\n",
    "    )\n",
    "    df_games_complete[\"app_id\"] = (\n",
    "        df_games_complete.url\n",
    "        .str.removeprefix(\"https://store.steampowered.com/\")\n",
    "        .str.split(\"/\")\n",
    "        .apply(lambda x: x[1]).astype(int)\n",
    "    )\n",
    "    df_games_complete[\"app_id\"] = df_games_complete[\"app_id\"].astype(int)\n",
    "    return df_games_complete\n",
    "\n",
    "\n",
    "def load_dataset(\n",
    "    steam_reviews_dataframe,\n",
    "    game_rec_steam_dataframe,\n",
    "    steam_games_complete_dataframe,\n",
    "):\n",
    "    # @TODO: remove duplicates\n",
    "    duplicates = ((\"name\", \"title\"), (\"release_date\", \"date_release\"), (\"rating\", \"positive_ratio\", \"recent_reviews\"))\n",
    "    games_joined = (\n",
    "        steam_games_complete_dataframe.set_index(\"app_id\")\n",
    "        .join(game_rec_steam_dataframe.set_index(\"app_id\"), lsuffix=\"_sgcd\", rsuffix=\"_grps\")\n",
    "        .drop([\n",
    "            \"url\",\n",
    "            \"minimum_requirements\", \"recommended_requirements\",  # can be turned into features\n",
    "            # can be turned into features\n",
    "            \"discount_price\",\n",
    "            \"user_reviews\", \"rating\", \"positive_ratio\",  # can result in data leakage\n",
    "            \"final_price\", \"original_price_grps\",\n",
    "        ], axis=1)\n",
    "        .assign(\n",
    "            final_title=lambda df: df.apply(\n",
    "                lambda row: (row.title_grps if not pd.isna(row.title_grps) else row.title_sgcd),\n",
    "                axis=1),\n",
    "        )\n",
    "    )\n",
    "    return (\n",
    "        steam_reviews_dataframe.sort_values(by=\"app_id\")\n",
    "        .join(games_joined.sort_values(by=\"app_id\"), on=\"app_id\", lsuffix=\"srd\")\n",
    "    )"
   ]
  },
  {
   "cell_type": "code",
   "execution_count": 3,
   "id": "da5fca32-f6b0-419e-b93c-54e09691a0bc",
   "metadata": {},
   "outputs": [],
   "source": [
    "reviews = load_reviews_dataset()"
   ]
  },
  {
   "cell_type": "code",
   "execution_count": 4,
   "id": "3374a09c-bd70-44b5-abd1-089e38eee111",
   "metadata": {},
   "outputs": [],
   "source": [
    "df_games_rec = load_game_recommendations_on_steam_games_dataset()"
   ]
  },
  {
   "cell_type": "code",
   "execution_count": 5,
   "id": "df8df618-6f47-4adc-8025-b3a65a56352e",
   "metadata": {},
   "outputs": [],
   "source": [
    "games_complete = load_steam_games_complete_dataset()"
   ]
  },
  {
   "cell_type": "code",
   "execution_count": 6,
   "id": "fc4d38dc-61c2-4687-b375-af285f0aface",
   "metadata": {},
   "outputs": [],
   "source": [
    "ready_dataset = load_dataset(reviews, df_games_rec, games_complete)"
   ]
  },
  {
   "cell_type": "markdown",
   "id": "c29a34e5-be74-43b6-88da-0a26fa3031d5",
   "metadata": {},
   "source": [
    "## Missing imputation"
   ]
  },
  {
   "cell_type": "code",
   "execution_count": 7,
   "id": "f3dde1d9-3c0f-43de-886d-f2e244e12054",
   "metadata": {},
   "outputs": [
    {
     "name": "stdout",
     "output_type": "stream",
     "text": [
      "Column: \u001b[1mreview\u001b[0m, missing values percentage: \u001b[1m0.15%\u001b[0m\n",
      "Column: \u001b[1mlanguages\u001b[0m, missing values percentage: \u001b[1m2.73%\u001b[0m\n",
      "Column: \u001b[1mpublisher\u001b[0m, missing values percentage: \u001b[1m2.73%\u001b[0m\n",
      "Column: \u001b[1mdeveloper\u001b[0m, missing values percentage: \u001b[1m2.73%\u001b[0m\n",
      "Column: \u001b[1mfinal_title\u001b[0m, missing values percentage: \u001b[1m2.73%\u001b[0m\n",
      "Column: \u001b[1mdesc_snippet\u001b[0m, missing values percentage: \u001b[1m2.73%\u001b[0m\n",
      "Column: \u001b[1mtitle_sgcd\u001b[0m, missing values percentage: \u001b[1m2.73%\u001b[0m\n",
      "Column: \u001b[1mtypes\u001b[0m, missing values percentage: \u001b[1m2.73%\u001b[0m\n",
      "Column: \u001b[1mgenre\u001b[0m, missing values percentage: \u001b[1m2.74%\u001b[0m\n",
      "Column: \u001b[1mgame_details\u001b[0m, missing values percentage: \u001b[1m2.91%\u001b[0m\n",
      "Column: \u001b[1moriginal_price_sgcd\u001b[0m, missing values percentage: \u001b[1m3.83%\u001b[0m\n",
      "Column: \u001b[1mgame_description\u001b[0m, missing values percentage: \u001b[1m3.91%\u001b[0m\n",
      "Column: \u001b[1mpopular_tags\u001b[0m, missing values percentage: \u001b[1m3.91%\u001b[0m\n",
      "Column: \u001b[1mall_reviews\u001b[0m, missing values percentage: \u001b[1m3.91%\u001b[0m\n",
      "Column: \u001b[1mrelease_date_sgcd\u001b[0m, missing values percentage: \u001b[1m3.92%\u001b[0m\n",
      "Column: \u001b[1mtitle_grps\u001b[0m, missing values percentage: \u001b[1m5.61%\u001b[0m\n",
      "Column: \u001b[1mrelease_date_grps\u001b[0m, missing values percentage: \u001b[1m5.61%\u001b[0m\n",
      "Column: \u001b[1mwin_support\u001b[0m, missing values percentage: \u001b[1m5.61%\u001b[0m\n",
      "Column: \u001b[1mmac_support\u001b[0m, missing values percentage: \u001b[1m5.61%\u001b[0m\n",
      "Column: \u001b[1mlinux_support\u001b[0m, missing values percentage: \u001b[1m5.61%\u001b[0m\n",
      "Column: \u001b[1msteam_deck_support\u001b[0m, missing values percentage: \u001b[1m5.61%\u001b[0m\n",
      "Column: \u001b[1mrecent_reviews\u001b[0m, missing values percentage: \u001b[1m10.88%\u001b[0m\n",
      "Column: \u001b[1mrefined_price\u001b[0m, missing values percentage: \u001b[1m12.65%\u001b[0m\n",
      "Column: \u001b[1mn_game_achievements\u001b[0m, missing values percentage: \u001b[1m23.90%\u001b[0m\n",
      "Column: \u001b[1mmature_content\u001b[0m, missing values percentage: \u001b[1m79.09%\u001b[0m\n"
     ]
    }
   ],
   "source": [
    "for column, n_na in (\n",
    "    ready_dataset.isna().mean()\n",
    "    .where(lambda x: x > 0).dropna()\n",
    "    .sort_values().items()):\n",
    "    print(f\"Column: \\033[1m{column}\\033[0m, missing values percentage: \\033[1m{(n_na * 100):.2f}%\\033[0m\")"
   ]
  },
  {
   "cell_type": "markdown",
   "id": "023d7f94-8a98-4c2f-bf38-c37542ccdfa9",
   "metadata": {},
   "source": [
    "Imputation-ready columns:\n",
    "* Languages – unknown as additional category (dropped on training)\n",
    "* Publisher – uknown as additional category\n",
    "* Developer – uknown as additional category\n",
    "* types – transform into columns\n",
    "\n",
    "* win_support – KNN imputer based on other games?\n",
    "* mac_support – KNN imputer based on other games?\n",
    "* linux_support - KNN imputer based on other games?\n",
    "\n",
    "* release_date_grps ? release_date_sgcd join \n",
    "\n",
    "* refined_price – mean price or median based on distribution\n",
    "* n_game_archievements - mean price or median based on distribution\n",
    "* mature content – missing values category"
   ]
  },
  {
   "cell_type": "code",
   "execution_count": 8,
   "id": "eaa7db71-37f8-41f0-9ac2-09615c25212e",
   "metadata": {},
   "outputs": [],
   "source": [
    "languages_categories_to_include = ['English', 'French', 'Italian', 'German', 'Spanish - Spain',\n",
    "       'Japanese', 'Polish', 'Portuguese - Brazil', 'Russian',\n",
    "       'Traditional Chinese', 'Korean', 'Simplified Chinese', 'Arabic',\n",
    "       'Portuguese', 'Turkish', 'Thai', 'Ukrainian', 'Czech',\n",
    "       'Spanish - Latin America', 'Dutch', 'Hungarian', 'Danish',\n",
    "       'Finnish', 'Norwegian', 'Swedish', 'Romanian', 'Greek',\n",
    "       'Bulgarian','Vietnamese', \"Slovakian\"]\n",
    "\n",
    "genres_to_include = ['Action', 'Adventure', 'Massively Multiplayer', 'Strategy',\n",
    "       'Free to Play', 'RPG', 'Indie', 'Early Access', 'Simulation',\n",
    "       'Racing', 'Casual', 'Sports', 'Violent', 'Gore', 'Valve', 'Nudity', \n",
    "       'Sexual Content', 'Education', 'Video Production', 'Short']"
   ]
  },
  {
   "cell_type": "markdown",
   "id": "352248d5-863d-47c5-8b2c-80e4957b58ea",
   "metadata": {},
   "source": [
    "### DROP OTHER GENRES"
   ]
  },
  {
   "cell_type": "code",
   "execution_count": null,
   "id": "9bd315a1-c8ec-4edd-aaaf-ca5826ec8532",
   "metadata": {},
   "outputs": [],
   "source": [
    "# if i don't want to make separate category for uknown genre or languages, then I can remove \n",
    "# ready_dataset[\"languages\"].fillna([])\n",
    "# ready_dataset[\"genre\"].fillna([])"
   ]
  },
  {
   "cell_type": "code",
   "execution_count": 33,
   "id": "b8c96df5-41fc-434d-a7cb-4083a037df6a",
   "metadata": {},
   "outputs": [],
   "source": [
    "# for language in languages_categories_to_include:\n",
    "#     ready_dataset[f\"{language}_support\"] = ready_dataset[\"languages\"].apply(lambda x: (language in x) if not pd.isna(x) else False)"
   ]
  },
  {
   "cell_type": "code",
   "execution_count": 34,
   "id": "e18049ed-367f-487e-8e4d-e69f86060b3c",
   "metadata": {},
   "outputs": [],
   "source": [
    "# for genre in genres_to_include:\n",
    "#     ready_dataset[f\"is_{genre}\"] = ready_dataset[\"genre\"].apply(lambda x: (genre in x) if not pd.isna(x) else False)"
   ]
  },
  {
   "cell_type": "code",
   "execution_count": null,
   "id": "2b1dc7dc-ea5e-41b3-acc4-87082f0b4b37",
   "metadata": {},
   "outputs": [],
   "source": [
    "from sklearn import pipeline, impute, preprocessing\n",
    "\n",
    "pipe = pipeline.Pipeline([\n",
    "    (\"games_achievements_imputer\", SimpleImputer(missing_values=np.nan, strategy='mean')),\n",
    "    (\"refined_price_imputer\", SimpleImputer(missing_values=np.nan, strategy='mean')),\n",
    "    # languages\n",
    "    (\"languages_one_hot_imputer\", preprocessing.MultiLabelBinarizer(classes=languages_to_include)),\n",
    "    (\"languages_one_hot\", preprocessing.MultiLabelBinarizer(classes=languages_to_include)),\n",
    "    # genres\n",
    "    (\"genres_one_hot\", preprocessing.MultilabelBinarizer(classes=genres_to_include)),\n",
    "    # developer\n",
    "    (\"developer_imputer\", preprocessing.SimpleImputer(strategy=\"constant\", fill_value=\"none\")),\n",
    "    (\"developer_one_hot\", preprocessing.OneHotEncoder()),\n",
    "    # publisher\n",
    "    (\"publisher_imputer\", preprocessing.SimpleImputer(strategy=\"constant\", fill_value=\"none\")),\n",
    "    (\"publisher_one_hot\", preprocessing.OneHotEncoder()),\n",
    "])"
   ]
  },
  {
   "cell_type": "code",
   "execution_count": 9,
   "id": "70cc374f-1a53-4005-ae77-f686d6a825fe",
   "metadata": {},
   "outputs": [
    {
     "data": {
      "text/plain": [
       "user_id                   0.000000\n",
       "app_id                    0.000000\n",
       "voted_up                  0.000000\n",
       "votes_up                  0.000000\n",
       "votes_funny               0.000000\n",
       "weighted_vote_score       0.000000\n",
       "playtime_forever          0.000000\n",
       "playtime_at_review        0.000000\n",
       "num_games_owned           0.000000\n",
       "num_reviews               0.000000\n",
       "review                    0.001539\n",
       "unix_timestamp_created    0.000000\n",
       "unix_timestamp_updated    0.000000\n",
       "types                     0.027311\n",
       "title_sgcd                0.027311\n",
       "desc_snippet              0.027311\n",
       "recent_reviews            0.108849\n",
       "all_reviews               0.039099\n",
       "release_date_sgcd         0.039181\n",
       "developer                 0.027311\n",
       "publisher                 0.027311\n",
       "popular_tags              0.039099\n",
       "game_details              0.029096\n",
       "languages                 0.027311\n",
       "n_game_achievements       0.239011\n",
       "genre                     0.027388\n",
       "game_description          0.039099\n",
       "mature_content            0.790876\n",
       "original_price_sgcd       0.038268\n",
       "refined_price             0.126494\n",
       "title_grps                0.056059\n",
       "release_date_grps         0.056059\n",
       "win_support               0.056059\n",
       "mac_support               0.056059\n",
       "linux_support             0.056059\n",
       "steam_deck_support        0.056059\n",
       "final_title               0.027311\n",
       "dtype: float64"
      ]
     },
     "execution_count": 9,
     "metadata": {},
     "output_type": "execute_result"
    }
   ],
   "source": [
    "ready_dataset.isna().mean()"
   ]
  },
  {
   "cell_type": "code",
   "execution_count": null,
   "id": "7205328b-ec53-4ca6-8229-f157d43151ae",
   "metadata": {},
   "outputs": [],
   "source": []
  }
 ],
 "metadata": {
  "kernelspec": {
   "display_name": "Python 3 (ipykernel)",
   "language": "python",
   "name": "python3"
  },
  "language_info": {
   "codemirror_mode": {
    "name": "ipython",
    "version": 3
   },
   "file_extension": ".py",
   "mimetype": "text/x-python",
   "name": "python",
   "nbconvert_exporter": "python",
   "pygments_lexer": "ipython3",
   "version": "3.13.1"
  }
 },
 "nbformat": 4,
 "nbformat_minor": 5
}
