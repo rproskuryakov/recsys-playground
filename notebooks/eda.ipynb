{
 "cells": [
  {
   "cell_type": "code",
   "execution_count": 1,
   "id": "c6b2a73a-3f97-4792-97cb-063a8fccc045",
   "metadata": {},
   "outputs": [],
   "source": [
    "import pathlib\n",
    "import re\n",
    "\n",
    "import numpy as np\n",
    "import pandas as pd\n",
    "import matplotlib.pyplot as plt\n",
    "import seaborn as sns\n",
    "from implicit import als, lmf\n",
    "from scipy.sparse import csr_matrix"
   ]
  },
  {
   "cell_type": "markdown",
   "id": "2d0662a3-3a15-43fb-ae1c-8fa8736a2ad7",
   "metadata": {},
   "source": [
    "### steam reviews dataset"
   ]
  },
  {
   "cell_type": "code",
   "execution_count": 2,
   "id": "78627f11-48f1-4ee5-9af0-317400bcb750",
   "metadata": {},
   "outputs": [
    {
     "name": "stdout",
     "output_type": "stream",
     "text": [
      "CPU times: user 59.5 s, sys: 16.2 s, total: 1min 15s\n",
      "Wall time: 1min 22s\n"
     ]
    },
    {
     "data": {
      "text/html": [
       "<div>\n",
       "<style scoped>\n",
       "    .dataframe tbody tr th:only-of-type {\n",
       "        vertical-align: middle;\n",
       "    }\n",
       "\n",
       "    .dataframe tbody tr th {\n",
       "        vertical-align: top;\n",
       "    }\n",
       "\n",
       "    .dataframe thead th {\n",
       "        text-align: right;\n",
       "    }\n",
       "</style>\n",
       "<table border=\"1\" class=\"dataframe\">\n",
       "  <thead>\n",
       "    <tr style=\"text-align: right;\">\n",
       "      <th></th>\n",
       "      <th>user_id</th>\n",
       "      <th>app_id</th>\n",
       "      <th>voted_up</th>\n",
       "      <th>votes_up</th>\n",
       "      <th>votes_funny</th>\n",
       "      <th>weighted_vote_score</th>\n",
       "      <th>playtime_forever</th>\n",
       "      <th>playtime_at_review</th>\n",
       "      <th>num_games_owned</th>\n",
       "      <th>num_reviews</th>\n",
       "      <th>review</th>\n",
       "      <th>unix_timestamp_created</th>\n",
       "      <th>unix_timestamp_updated</th>\n",
       "    </tr>\n",
       "  </thead>\n",
       "  <tbody>\n",
       "    <tr>\n",
       "      <th>0</th>\n",
       "      <td>76561198024044792</td>\n",
       "      <td>342550</td>\n",
       "      <td>False</td>\n",
       "      <td>4</td>\n",
       "      <td>0</td>\n",
       "      <td>0.571289</td>\n",
       "      <td>39</td>\n",
       "      <td>39</td>\n",
       "      <td>574</td>\n",
       "      <td>22</td>\n",
       "      <td>While this game seems promising, it's really j...</td>\n",
       "      <td>1601155855</td>\n",
       "      <td>1601155855</td>\n",
       "    </tr>\n",
       "    <tr>\n",
       "      <th>1</th>\n",
       "      <td>76561198225145856</td>\n",
       "      <td>342550</td>\n",
       "      <td>False</td>\n",
       "      <td>0</td>\n",
       "      <td>0</td>\n",
       "      <td>0.000000</td>\n",
       "      <td>103</td>\n",
       "      <td>103</td>\n",
       "      <td>52</td>\n",
       "      <td>12</td>\n",
       "      <td>Fuck this game. No updates, no nothing. Just T...</td>\n",
       "      <td>1592746747</td>\n",
       "      <td>1592746747</td>\n",
       "    </tr>\n",
       "    <tr>\n",
       "      <th>2</th>\n",
       "      <td>76561198066087993</td>\n",
       "      <td>342550</td>\n",
       "      <td>False</td>\n",
       "      <td>1</td>\n",
       "      <td>0</td>\n",
       "      <td>0.476190</td>\n",
       "      <td>191</td>\n",
       "      <td>191</td>\n",
       "      <td>149</td>\n",
       "      <td>2</td>\n",
       "      <td>Nothing about this game should have legally be...</td>\n",
       "      <td>1590110583</td>\n",
       "      <td>1590110583</td>\n",
       "    </tr>\n",
       "    <tr>\n",
       "      <th>3</th>\n",
       "      <td>76561198118355028</td>\n",
       "      <td>342550</td>\n",
       "      <td>True</td>\n",
       "      <td>1</td>\n",
       "      <td>0</td>\n",
       "      <td>0.524829</td>\n",
       "      <td>1679</td>\n",
       "      <td>1679</td>\n",
       "      <td>98</td>\n",
       "      <td>33</td>\n",
       "      <td>The game looks interesting whit that Lovercraf...</td>\n",
       "      <td>1582193846</td>\n",
       "      <td>1582193846</td>\n",
       "    </tr>\n",
       "    <tr>\n",
       "      <th>4</th>\n",
       "      <td>76561198038091775</td>\n",
       "      <td>342550</td>\n",
       "      <td>False</td>\n",
       "      <td>0</td>\n",
       "      <td>0</td>\n",
       "      <td>0.000000</td>\n",
       "      <td>107</td>\n",
       "      <td>107</td>\n",
       "      <td>604</td>\n",
       "      <td>61</td>\n",
       "      <td>Got this game when it was a paid for. I enjoye...</td>\n",
       "      <td>1579007301</td>\n",
       "      <td>1579007301</td>\n",
       "    </tr>\n",
       "  </tbody>\n",
       "</table>\n",
       "</div>"
      ],
      "text/plain": [
       "             user_id  app_id  voted_up  votes_up  votes_funny  \\\n",
       "0  76561198024044792  342550     False         4            0   \n",
       "1  76561198225145856  342550     False         0            0   \n",
       "2  76561198066087993  342550     False         1            0   \n",
       "3  76561198118355028  342550      True         1            0   \n",
       "4  76561198038091775  342550     False         0            0   \n",
       "\n",
       "   weighted_vote_score  playtime_forever  playtime_at_review  num_games_owned  \\\n",
       "0             0.571289                39                  39              574   \n",
       "1             0.000000               103                 103               52   \n",
       "2             0.476190               191                 191              149   \n",
       "3             0.524829              1679                1679               98   \n",
       "4             0.000000               107                 107              604   \n",
       "\n",
       "   num_reviews                                             review  \\\n",
       "0           22  While this game seems promising, it's really j...   \n",
       "1           12  Fuck this game. No updates, no nothing. Just T...   \n",
       "2            2  Nothing about this game should have legally be...   \n",
       "3           33  The game looks interesting whit that Lovercraf...   \n",
       "4           61  Got this game when it was a paid for. I enjoye...   \n",
       "\n",
       "   unix_timestamp_created  unix_timestamp_updated  \n",
       "0              1601155855              1601155855  \n",
       "1              1592746747              1592746747  \n",
       "2              1590110583              1590110583  \n",
       "3              1582193846              1582193846  \n",
       "4              1579007301              1579007301  "
      ]
     },
     "execution_count": 2,
     "metadata": {},
     "output_type": "execute_result"
    }
   ],
   "source": [
    "%%time\n",
    "chunk_paths = [path for path in pathlib.Path(\"../data/raw/steam-reviews-dataset/\").glob(\"*.csv\")]\n",
    "dfs = []\n",
    "for i in chunk_paths:\n",
    "    dfs.append(pd.read_csv(i))\n",
    "df = pd.concat(dfs).rename(columns={\"appid\": \"app_id\", \"steamid\": \"user_id\"})\n",
    "# df = pd.read_csv(\"../data/raw/steam-reviews-dataset/reviews-1-115.csv\")\n",
    "df.head()"
   ]
  },
  {
   "cell_type": "code",
   "execution_count": 43,
   "id": "4647b860-a3cb-4077-affc-c613a4a0014d",
   "metadata": {},
   "outputs": [
    {
     "data": {
      "text/html": [
       "<div>\n",
       "<style scoped>\n",
       "    .dataframe tbody tr th:only-of-type {\n",
       "        vertical-align: middle;\n",
       "    }\n",
       "\n",
       "    .dataframe tbody tr th {\n",
       "        vertical-align: top;\n",
       "    }\n",
       "\n",
       "    .dataframe thead th {\n",
       "        text-align: right;\n",
       "    }\n",
       "</style>\n",
       "<table border=\"1\" class=\"dataframe\">\n",
       "  <thead>\n",
       "    <tr style=\"text-align: right;\">\n",
       "      <th></th>\n",
       "      <th>user_id</th>\n",
       "      <th>app_id</th>\n",
       "      <th>votes_up</th>\n",
       "      <th>votes_funny</th>\n",
       "      <th>weighted_vote_score</th>\n",
       "      <th>playtime_forever</th>\n",
       "      <th>playtime_at_review</th>\n",
       "      <th>num_games_owned</th>\n",
       "      <th>num_reviews</th>\n",
       "      <th>unix_timestamp_created</th>\n",
       "      <th>unix_timestamp_updated</th>\n",
       "      <th>ova_par_diff</th>\n",
       "    </tr>\n",
       "  </thead>\n",
       "  <tbody>\n",
       "    <tr>\n",
       "      <th>count</th>\n",
       "      <td>1.543747e+07</td>\n",
       "      <td>1.543747e+07</td>\n",
       "      <td>1.543747e+07</td>\n",
       "      <td>1.543747e+07</td>\n",
       "      <td>1.543747e+07</td>\n",
       "      <td>1.543747e+07</td>\n",
       "      <td>1.543747e+07</td>\n",
       "      <td>1.543747e+07</td>\n",
       "      <td>1.543747e+07</td>\n",
       "      <td>15437471</td>\n",
       "      <td>15437471</td>\n",
       "      <td>1.543747e+07</td>\n",
       "    </tr>\n",
       "    <tr>\n",
       "      <th>mean</th>\n",
       "      <td>7.656120e+16</td>\n",
       "      <td>3.052407e+05</td>\n",
       "      <td>2.379840e+00</td>\n",
       "      <td>1.616449e+05</td>\n",
       "      <td>1.964402e-01</td>\n",
       "      <td>1.532429e+04</td>\n",
       "      <td>8.100505e+03</td>\n",
       "      <td>1.985849e+02</td>\n",
       "      <td>1.718521e+01</td>\n",
       "      <td>2018-05-15 13:10:20.391237120</td>\n",
       "      <td>2018-06-28 06:37:56.202333696</td>\n",
       "      <td>7.223781e+03</td>\n",
       "    </tr>\n",
       "    <tr>\n",
       "      <th>min</th>\n",
       "      <td>7.656120e+16</td>\n",
       "      <td>1.000000e+01</td>\n",
       "      <td>0.000000e+00</td>\n",
       "      <td>0.000000e+00</td>\n",
       "      <td>0.000000e+00</td>\n",
       "      <td>0.000000e+00</td>\n",
       "      <td>0.000000e+00</td>\n",
       "      <td>0.000000e+00</td>\n",
       "      <td>1.000000e+00</td>\n",
       "      <td>2010-10-15 22:27:49</td>\n",
       "      <td>2010-10-15 23:25:11</td>\n",
       "      <td>-2.931300e+04</td>\n",
       "    </tr>\n",
       "    <tr>\n",
       "      <th>25%</th>\n",
       "      <td>7.656120e+16</td>\n",
       "      <td>2.038300e+05</td>\n",
       "      <td>0.000000e+00</td>\n",
       "      <td>0.000000e+00</td>\n",
       "      <td>0.000000e+00</td>\n",
       "      <td>7.030000e+02</td>\n",
       "      <td>3.780000e+02</td>\n",
       "      <td>3.700000e+01</td>\n",
       "      <td>2.000000e+00</td>\n",
       "      <td>2016-10-05 04:36:34</td>\n",
       "      <td>2016-11-25 10:54:17</td>\n",
       "      <td>4.200000e+01</td>\n",
       "    </tr>\n",
       "    <tr>\n",
       "      <th>50%</th>\n",
       "      <td>7.656120e+16</td>\n",
       "      <td>2.841600e+05</td>\n",
       "      <td>0.000000e+00</td>\n",
       "      <td>0.000000e+00</td>\n",
       "      <td>0.000000e+00</td>\n",
       "      <td>2.677000e+03</td>\n",
       "      <td>1.289000e+03</td>\n",
       "      <td>9.900000e+01</td>\n",
       "      <td>5.000000e+00</td>\n",
       "      <td>2018-11-22 06:03:42</td>\n",
       "      <td>2019-01-03 15:24:14</td>\n",
       "      <td>6.290000e+02</td>\n",
       "    </tr>\n",
       "    <tr>\n",
       "      <th>75%</th>\n",
       "      <td>7.656120e+16</td>\n",
       "      <td>4.183700e+05</td>\n",
       "      <td>1.000000e+00</td>\n",
       "      <td>0.000000e+00</td>\n",
       "      <td>4.958678e-01</td>\n",
       "      <td>1.136100e+04</td>\n",
       "      <td>5.114000e+03</td>\n",
       "      <td>2.260000e+02</td>\n",
       "      <td>1.500000e+01</td>\n",
       "      <td>2020-04-05 10:07:29.500000</td>\n",
       "      <td>2020-04-29 06:36:37</td>\n",
       "      <td>4.136000e+03</td>\n",
       "    </tr>\n",
       "    <tr>\n",
       "      <th>max</th>\n",
       "      <td>7.656120e+16</td>\n",
       "      <td>1.051310e+06</td>\n",
       "      <td>2.961200e+04</td>\n",
       "      <td>4.294967e+09</td>\n",
       "      <td>9.896134e-01</td>\n",
       "      <td>4.016239e+06</td>\n",
       "      <td>3.613888e+06</td>\n",
       "      <td>2.401300e+04</td>\n",
       "      <td>5.236000e+03</td>\n",
       "      <td>2021-04-23 04:35:33</td>\n",
       "      <td>2042-06-04 08:20:08</td>\n",
       "      <td>3.446956e+06</td>\n",
       "    </tr>\n",
       "    <tr>\n",
       "      <th>std</th>\n",
       "      <td>2.874500e+08</td>\n",
       "      <td>2.140719e+05</td>\n",
       "      <td>3.803336e+01</td>\n",
       "      <td>2.634824e+07</td>\n",
       "      <td>2.511118e-01</td>\n",
       "      <td>4.092439e+04</td>\n",
       "      <td>2.469106e+04</td>\n",
       "      <td>3.733376e+02</td>\n",
       "      <td>5.841957e+01</td>\n",
       "      <td>NaN</td>\n",
       "      <td>NaN</td>\n",
       "      <td>2.479323e+04</td>\n",
       "    </tr>\n",
       "  </tbody>\n",
       "</table>\n",
       "</div>"
      ],
      "text/plain": [
       "            user_id        app_id      votes_up   votes_funny  \\\n",
       "count  1.543747e+07  1.543747e+07  1.543747e+07  1.543747e+07   \n",
       "mean   7.656120e+16  3.052407e+05  2.379840e+00  1.616449e+05   \n",
       "min    7.656120e+16  1.000000e+01  0.000000e+00  0.000000e+00   \n",
       "25%    7.656120e+16  2.038300e+05  0.000000e+00  0.000000e+00   \n",
       "50%    7.656120e+16  2.841600e+05  0.000000e+00  0.000000e+00   \n",
       "75%    7.656120e+16  4.183700e+05  1.000000e+00  0.000000e+00   \n",
       "max    7.656120e+16  1.051310e+06  2.961200e+04  4.294967e+09   \n",
       "std    2.874500e+08  2.140719e+05  3.803336e+01  2.634824e+07   \n",
       "\n",
       "       weighted_vote_score  playtime_forever  playtime_at_review  \\\n",
       "count         1.543747e+07      1.543747e+07        1.543747e+07   \n",
       "mean          1.964402e-01      1.532429e+04        8.100505e+03   \n",
       "min           0.000000e+00      0.000000e+00        0.000000e+00   \n",
       "25%           0.000000e+00      7.030000e+02        3.780000e+02   \n",
       "50%           0.000000e+00      2.677000e+03        1.289000e+03   \n",
       "75%           4.958678e-01      1.136100e+04        5.114000e+03   \n",
       "max           9.896134e-01      4.016239e+06        3.613888e+06   \n",
       "std           2.511118e-01      4.092439e+04        2.469106e+04   \n",
       "\n",
       "       num_games_owned   num_reviews         unix_timestamp_created  \\\n",
       "count     1.543747e+07  1.543747e+07                       15437471   \n",
       "mean      1.985849e+02  1.718521e+01  2018-05-15 13:10:20.391237120   \n",
       "min       0.000000e+00  1.000000e+00            2010-10-15 22:27:49   \n",
       "25%       3.700000e+01  2.000000e+00            2016-10-05 04:36:34   \n",
       "50%       9.900000e+01  5.000000e+00            2018-11-22 06:03:42   \n",
       "75%       2.260000e+02  1.500000e+01     2020-04-05 10:07:29.500000   \n",
       "max       2.401300e+04  5.236000e+03            2021-04-23 04:35:33   \n",
       "std       3.733376e+02  5.841957e+01                            NaN   \n",
       "\n",
       "              unix_timestamp_updated  ova_par_diff  \n",
       "count                       15437471  1.543747e+07  \n",
       "mean   2018-06-28 06:37:56.202333696  7.223781e+03  \n",
       "min              2010-10-15 23:25:11 -2.931300e+04  \n",
       "25%              2016-11-25 10:54:17  4.200000e+01  \n",
       "50%              2019-01-03 15:24:14  6.290000e+02  \n",
       "75%              2020-04-29 06:36:37  4.136000e+03  \n",
       "max              2042-06-04 08:20:08  3.446956e+06  \n",
       "std                              NaN  2.479323e+04  "
      ]
     },
     "execution_count": 43,
     "metadata": {},
     "output_type": "execute_result"
    }
   ],
   "source": [
    "df.describe()"
   ]
  },
  {
   "cell_type": "code",
   "execution_count": 3,
   "id": "03f4c913-58ec-4545-97e7-8a4b160235f6",
   "metadata": {},
   "outputs": [
    {
     "name": "stdout",
     "output_type": "stream",
     "text": [
      "N games: 8183\n",
      "N users: 6976390\n"
     ]
    }
   ],
   "source": [
    "print(f\"N games: {df.app_id.nunique()}\")\n",
    "print(f\"N users: {df.user_id.nunique()}\")"
   ]
  },
  {
   "cell_type": "code",
   "execution_count": 4,
   "id": "81688a0b-937d-43a5-b059-a50b85ab8c0e",
   "metadata": {},
   "outputs": [],
   "source": [
    "df[\"unix_timestamp_created\"] = pd.to_datetime(df[\"unix_timestamp_created\"], unit=\"s\")\n",
    "df[\"unix_timestamp_updated\"] = pd.to_datetime(df[\"unix_timestamp_updated\"], unit=\"s\")"
   ]
  },
  {
   "cell_type": "code",
   "execution_count": 5,
   "id": "b0c89df2-9346-454c-b282-1b6965e5bb59",
   "metadata": {},
   "outputs": [
    {
     "data": {
      "image/png": "[encoded data removed]",
      "text/plain": [
       "<Figure size 640x480 with 1 Axes>"
      ]
     },
     "metadata": {},
     "output_type": "display_data"
    }
   ],
   "source": [
    "sns.histplot(df[\"app_id\"].value_counts(), log_scale=True)\n",
    "plt.title(\"Distribution of number of reviews per game\");"
   ]
  },
  {
   "cell_type": "code",
   "execution_count": 11,
   "id": "b9045be5-6339-4fc3-913f-75cc6af5d6df",
   "metadata": {},
   "outputs": [
    {
     "data": {
      "text/plain": [
       "user_id\n",
       "76561198293434888     1\n",
       "76561198142472548     6\n",
       "76561199032490400     3\n",
       "76561198143212734     1\n",
       "76561198003875797     1\n",
       "                     ..\n",
       "76561199030410349     1\n",
       "76561198283999342     1\n",
       "76561198162823263    14\n",
       "76561198146677092     1\n",
       "76561198041366487    12\n",
       "Name: count, Length: 34882, dtype: int64"
      ]
     },
     "execution_count": 11,
     "metadata": {},
     "output_type": "execute_result"
    }
   ],
   "source": [
    "df.sort_values(by=\"user_id\")[\"user_id\"].value_counts().sample(frac=0.05, random_state=20242412)"
   ]
  },
  {
   "cell_type": "code",
   "execution_count": 32,
   "id": "87532a4e-cea1-4859-9c37-3634c8bd5da4",
   "metadata": {},
   "outputs": [
    {
     "data": {
      "image/png": "[encoded data removed]",
      "text/plain": [
       "<Figure size 640x480 with 1 Axes>"
      ]
     },
     "metadata": {},
     "output_type": "display_data"
    }
   ],
   "source": [
    "# distribution of mean voted_up per game\n",
    "sns.histplot(\n",
    "    df[\"user_id\"]\n",
    "    .value_counts(),\n",
    "    # log_scale=True\n",
    "    # .sample(frac=0.1, random_state=20242412),\n",
    ")\n",
    "plt.title(\"Distribution of number of reviews per user\");"
   ]
  },
  {
   "cell_type": "code",
   "execution_count": 36,
   "id": "eeead188-0237-4025-bd0a-400eaef350a8",
   "metadata": {},
   "outputs": [
    {
     "data": {
      "image/png": "[encoded data removed]",
      "text/plain": [
       "<Figure size 640x480 with 1 Axes>"
      ]
     },
     "metadata": {},
     "output_type": "display_data"
    }
   ],
   "source": [
    "sns.histplot(df.groupby(\"app_id\")[\"voted_up\"].mean())\n",
    "plt.title(\"Distribution of positive review ratio per game\");"
   ]
  },
  {
   "cell_type": "code",
   "execution_count": 37,
   "id": "8a955670-5f79-46bc-939d-a0aa08acd30e",
   "metadata": {},
   "outputs": [
    {
     "data": {
      "image/png": "[encoded data removed]",
      "text/plain": [
       "<Figure size 640x480 with 1 Axes>"
      ]
     },
     "metadata": {},
     "output_type": "display_data"
    }
   ],
   "source": [
    "sns.histplot(df[\"playtime_at_review\"].value_counts())\n",
    "plt.title(\"Distribution of playtime at review\");"
   ]
  },
  {
   "cell_type": "code",
   "execution_count": 39,
   "id": "0b5c8ab8-077c-4ed5-b9e7-9f02ca210260",
   "metadata": {},
   "outputs": [
    {
     "data": {
      "image/png": "[encoded data removed]",
      "text/plain": [
       "<Figure size 640x480 with 1 Axes>"
      ]
     },
     "metadata": {},
     "output_type": "display_data"
    }
   ],
   "source": [
    "sns.histplot(df.groupby(\"app_id\")[\"playtime_at_review\"].mean(), log_scale=True)\n",
    "plt.title(\"Distribution of mean playtime at review per game\");"
   ]
  },
  {
   "cell_type": "code",
   "execution_count": 40,
   "id": "1b25df18-cf96-473b-ba00-7adf9c83b984",
   "metadata": {},
   "outputs": [
    {
     "data": {
      "image/png": "[encoded data removed]",
      "text/plain": [
       "<Figure size 640x480 with 1 Axes>"
      ]
     },
     "metadata": {},
     "output_type": "display_data"
    }
   ],
   "source": [
    "sns.histplot(df.groupby(\"app_id\")[\"playtime_forever\"].mean(), log_scale=True)\n",
    "plt.title(\"Distribution of mean playtime at review per game\");"
   ]
  },
  {
   "cell_type": "code",
   "execution_count": 44,
   "id": "e451a5d1-e233-4ee6-9569-cde8d9009ce5",
   "metadata": {},
   "outputs": [
    {
     "data": {
      "image/png": "[encoded data removed]",
      "text/plain": [
       "<Figure size 640x480 with 1 Axes>"
      ]
     },
     "metadata": {},
     "output_type": "display_data"
    }
   ],
   "source": [
    "df[\"ova_par_diff\"] = df[\"playtime_forever\"] - df[\"playtime_at_review\"]\n",
    "sns.histplot(df.groupby(\"app_id\")[\"ova_par_diff\"].mean())\n",
    "plt.title(\"Distribution of mean playtime at review per game\");"
   ]
  },
  {
   "cell_type": "code",
   "execution_count": 47,
   "id": "3d6699a4-2d81-440d-933e-9503fbb7472a",
   "metadata": {},
   "outputs": [
    {
     "data": {
      "image/png": "[encoded data removed]",
      "text/plain": [
       "<Figure size 640x480 with 1 Axes>"
      ]
     },
     "metadata": {},
     "output_type": "display_data"
    }
   ],
   "source": [
    "sns.histplot(df.groupby(\"app_id\")[\"num_reviews\"].mean(), log_scale=True)\n",
    "plt.title(\"Distribution of mean number of reviews per game\");"
   ]
  },
  {
   "cell_type": "markdown",
   "id": "84c65970-537e-4ae7-b7eb-d53f9d4008a0",
   "metadata": {},
   "source": [
    "### Game recommendations on steam"
   ]
  },
  {
   "cell_type": "code",
   "execution_count": 48,
   "id": "32627b15-40f2-4e9e-9014-fc6ef70c2235",
   "metadata": {},
   "outputs": [
    {
     "data": {
      "text/html": [
       "<div>\n",
       "<style scoped>\n",
       "    .dataframe tbody tr th:only-of-type {\n",
       "        vertical-align: middle;\n",
       "    }\n",
       "\n",
       "    .dataframe tbody tr th {\n",
       "        vertical-align: top;\n",
       "    }\n",
       "\n",
       "    .dataframe thead th {\n",
       "        text-align: right;\n",
       "    }\n",
       "</style>\n",
       "<table border=\"1\" class=\"dataframe\">\n",
       "  <thead>\n",
       "    <tr style=\"text-align: right;\">\n",
       "      <th></th>\n",
       "      <th>app_id</th>\n",
       "      <th>title</th>\n",
       "      <th>release_date</th>\n",
       "      <th>win_support</th>\n",
       "      <th>mac_support</th>\n",
       "      <th>linux_support</th>\n",
       "      <th>rating</th>\n",
       "      <th>positive_ratio</th>\n",
       "      <th>user_reviews</th>\n",
       "      <th>final_price</th>\n",
       "      <th>original_price</th>\n",
       "      <th>steam_deck_support</th>\n",
       "    </tr>\n",
       "  </thead>\n",
       "  <tbody>\n",
       "    <tr>\n",
       "      <th>0</th>\n",
       "      <td>13500</td>\n",
       "      <td>Prince of Persia: Warrior Within™</td>\n",
       "      <td>2008-11-21</td>\n",
       "      <td>True</td>\n",
       "      <td>False</td>\n",
       "      <td>False</td>\n",
       "      <td>Very Positive</td>\n",
       "      <td>84</td>\n",
       "      <td>2199</td>\n",
       "      <td>9.99</td>\n",
       "      <td>9.99</td>\n",
       "      <td>True</td>\n",
       "    </tr>\n",
       "    <tr>\n",
       "      <th>1</th>\n",
       "      <td>22364</td>\n",
       "      <td>BRINK: Agents of Change</td>\n",
       "      <td>2011-08-03</td>\n",
       "      <td>True</td>\n",
       "      <td>False</td>\n",
       "      <td>False</td>\n",
       "      <td>Positive</td>\n",
       "      <td>85</td>\n",
       "      <td>21</td>\n",
       "      <td>2.99</td>\n",
       "      <td>2.99</td>\n",
       "      <td>True</td>\n",
       "    </tr>\n",
       "    <tr>\n",
       "      <th>2</th>\n",
       "      <td>113020</td>\n",
       "      <td>Monaco: What's Yours Is Mine</td>\n",
       "      <td>2013-04-24</td>\n",
       "      <td>True</td>\n",
       "      <td>True</td>\n",
       "      <td>True</td>\n",
       "      <td>Very Positive</td>\n",
       "      <td>92</td>\n",
       "      <td>3722</td>\n",
       "      <td>14.99</td>\n",
       "      <td>14.99</td>\n",
       "      <td>True</td>\n",
       "    </tr>\n",
       "    <tr>\n",
       "      <th>3</th>\n",
       "      <td>226560</td>\n",
       "      <td>Escape Dead Island</td>\n",
       "      <td>2014-11-18</td>\n",
       "      <td>True</td>\n",
       "      <td>False</td>\n",
       "      <td>False</td>\n",
       "      <td>Mixed</td>\n",
       "      <td>61</td>\n",
       "      <td>873</td>\n",
       "      <td>14.99</td>\n",
       "      <td>14.99</td>\n",
       "      <td>True</td>\n",
       "    </tr>\n",
       "    <tr>\n",
       "      <th>4</th>\n",
       "      <td>249050</td>\n",
       "      <td>Dungeon of the ENDLESS™</td>\n",
       "      <td>2014-10-27</td>\n",
       "      <td>True</td>\n",
       "      <td>True</td>\n",
       "      <td>False</td>\n",
       "      <td>Very Positive</td>\n",
       "      <td>88</td>\n",
       "      <td>8784</td>\n",
       "      <td>11.99</td>\n",
       "      <td>11.99</td>\n",
       "      <td>True</td>\n",
       "    </tr>\n",
       "  </tbody>\n",
       "</table>\n",
       "</div>"
      ],
      "text/plain": [
       "   app_id                              title release_date  win_support  \\\n",
       "0   13500  Prince of Persia: Warrior Within™   2008-11-21         True   \n",
       "1   22364            BRINK: Agents of Change   2011-08-03         True   \n",
       "2  113020       Monaco: What's Yours Is Mine   2013-04-24         True   \n",
       "3  226560                 Escape Dead Island   2014-11-18         True   \n",
       "4  249050            Dungeon of the ENDLESS™   2014-10-27         True   \n",
       "\n",
       "   mac_support  linux_support         rating  positive_ratio  user_reviews  \\\n",
       "0        False          False  Very Positive              84          2199   \n",
       "1        False          False       Positive              85            21   \n",
       "2         True           True  Very Positive              92          3722   \n",
       "3        False          False          Mixed              61           873   \n",
       "4         True          False  Very Positive              88          8784   \n",
       "\n",
       "   final_price  original_price  steam_deck_support  \n",
       "0         9.99            9.99                True  \n",
       "1         2.99            2.99                True  \n",
       "2        14.99           14.99                True  \n",
       "3        14.99           14.99                True  \n",
       "4        11.99           11.99                True  "
      ]
     },
     "execution_count": 48,
     "metadata": {},
     "output_type": "execute_result"
    }
   ],
   "source": [
    "df_games = (\n",
    "    pd.read_csv(\"../data/raw/game-recommendations-on-steam/games.csv\")\n",
    "    .rename(columns={\n",
    "        \"date_release\": \"release_date\",\n",
    "        \"price_final\": \"final_price\",\n",
    "        \"price_original\": \"original_price\",\n",
    "        \"win\": \"win_support\",\n",
    "        \"mac\": \"mac_support\",\n",
    "        \"linux\": \"linux_support\",\n",
    "        \"steam_deck\": \"steam_deck_support\",\n",
    "    }).drop(\"discount\", axis=1)\n",
    ")\n",
    "df_games.head()"
   ]
  },
  {
   "cell_type": "markdown",
   "id": "76a3a91a-2f2e-465c-9da6-a8b53d7e5ad9",
   "metadata": {},
   "source": [
    "#### Platform support"
   ]
  },
  {
   "cell_type": "code",
   "execution_count": 79,
   "id": "cbacb6a8-dfb1-4feb-bc4c-4bc35065381d",
   "metadata": {},
   "outputs": [
    {
     "name": "stdout",
     "output_type": "stream",
     "text": [
      "0 missing values in win_support\n",
      "0 missing values in mac_support\n",
      "0 missing values in linux_support\n",
      "0 missing values in steam_deck_support\n"
     ]
    }
   ],
   "source": [
    "for column in [\"win_support\", \"mac_support\", \"linux_support\", \"steam_deck_support\"]:\n",
    "    print(f\"{df_games[column].isna().sum()} missing values in {column}\")"
   ]
  },
  {
   "cell_type": "code",
   "execution_count": 58,
   "id": "758ec7ea-1404-4c82-b22b-9c341c392350",
   "metadata": {},
   "outputs": [
    {
     "name": "stdout",
     "output_type": "stream",
     "text": [
      "Percent of games with windows support: 0.984352885673848\n",
      "Percent of games with mac support: 0.2558971536405095\n",
      "Percent of games with linux support: 0.17772055354615507\n"
     ]
    }
   ],
   "source": [
    "print(f\"Percent of games with windows support: {df_games.win_support.mean()}\")\n",
    "print(f\"Percent of games with mac support: {df_games.mac_support.mean()}\")\n",
    "print(f\"Percent of games with linux support: {df_games.linux_support.mean()}\")"
   ]
  },
  {
   "cell_type": "markdown",
   "id": "41f838b2-fbf2-4abb-8ed9-f9b7240998ce",
   "metadata": {},
   "source": [
    "#### Ratings"
   ]
  },
  {
   "cell_type": "code",
   "execution_count": 59,
   "id": "f8dd5553-17e6-4e11-9975-d62bc151eb08",
   "metadata": {},
   "outputs": [
    {
     "name": "stdout",
     "output_type": "stream",
     "text": [
      "0 missing values in rating\n"
     ]
    }
   ],
   "source": [
    "for column in [\"rating\"]:\n",
    "    print(f\"{df_games[column].isna().sum()} missing values in {column}\")"
   ]
  },
  {
   "cell_type": "code",
   "execution_count": 64,
   "id": "91f354b9-182b-4f3f-91ab-e631e4dc3a3c",
   "metadata": {},
   "outputs": [
    {
     "data": {
      "image/png": "[encoded data removed]",
      "text/plain": [
       "<Figure size 640x480 with 1 Axes>"
      ]
     },
     "metadata": {},
     "output_type": "display_data"
    }
   ],
   "source": [
    "sns.countplot(\n",
    "    data=df_games,\n",
    "    y=\"rating\",\n",
    "    order=[\n",
    "        \"Overwhelmingly Positive\", \"Very Positive\", \"Positive\", \"Mostly Positive\",\n",
    "        \"Mixed\", \"Mostly Negative\", \"Negative\", \"Very Negative\", \"Overwhelmingly Negative\"],\n",
    "    stat=\"percent\",\n",
    ")\n",
    "plt.title(\"Percent of reviews per each rating category\");"
   ]
  },
  {
   "cell_type": "code",
   "execution_count": 78,
   "id": "4af6c912-7204-48d8-9ebe-5799fc6cf9b7",
   "metadata": {},
   "outputs": [
    {
     "name": "stdout",
     "output_type": "stream",
     "text": [
      "0 missing values in release_date\n"
     ]
    }
   ],
   "source": [
    "for column in [\"release_date\"]:\n",
    "    print(f\"{df_games[column].isna().sum()} missing values in {column}\")"
   ]
  },
  {
   "cell_type": "code",
   "execution_count": 72,
   "id": "1f1f4144-60eb-4ecc-ae3b-7fc424a01be1",
   "metadata": {},
   "outputs": [],
   "source": [
    "df_games[\"release_date\"] = pd.to_datetime(df_games[\"release_date\"])"
   ]
  },
  {
   "cell_type": "code",
   "execution_count": 75,
   "id": "03d76289-f449-467b-9cb2-863f559a6ad3",
   "metadata": {},
   "outputs": [],
   "source": [
    "df_games[\"release_year\"] = df_games[\"release_date\"].dt.year"
   ]
  },
  {
   "cell_type": "code",
   "execution_count": 77,
   "id": "1242b994-1e54-489d-ab95-e091b774ceb7",
   "metadata": {},
   "outputs": [
    {
     "data": {
      "image/png": "[encoded data removed]",
      "text/plain": [
       "<Figure size 640x480 with 1 Axes>"
      ]
     },
     "metadata": {},
     "output_type": "display_data"
    }
   ],
   "source": [
    "# number of releases per year\n",
    "# may_flights = flights.query(\"month == 'May'\")\n",
    "sns.lineplot(data=df_games.groupby(\"release_year\").count(), x=\"release_year\", y=\"title\")\n",
    "plt.title(\"Number of releases per year\");"
   ]
  },
  {
   "cell_type": "code",
   "execution_count": null,
   "id": "72c9d3b4-b94b-4ddd-b1ba-ec9ae5421f97",
   "metadata": {},
   "outputs": [],
   "source": [
    "# number of releases per month"
   ]
  },
  {
   "cell_type": "markdown",
   "id": "bfeb3090-3732-45ae-886b-dec294e2a673",
   "metadata": {},
   "source": []
  },
  {
   "cell_type": "markdown",
   "id": "6826e87b-cb73-43b2-af98-4a96c33ce62d",
   "metadata": {
    "jp-MarkdownHeadingCollapsed": true
   },
   "source": [
    "## Game features\n",
    "\n",
    "- steam deck support\n",
    "- linux support\n",
    "- windows support\n",
    "- mac support\n",
    "\n",
    "Matching by description"
   ]
  },
  {
   "cell_type": "code",
   "execution_count": 153,
   "id": "e1183001-06a1-4088-811d-ab7255a0aba2",
   "metadata": {},
   "outputs": [],
   "source": [
    "# print(f\"N games: {df_games_meta.shape[0]}\")\n",
    "# n_games_from_reviews_with_metadata = np.isin(df.appid.unique(), df_games_meta.app_id.to_numpy()).sum()\n",
    "# print(f\"N games from reviews dataset in game metadata dataset: {n_games_from_reviews_with_metadata}\")\n",
    "# print(f\"N games from reviews dataset without metadata: {(df.appid.nunique() - n_games_from_reviews_with_metadata)}\")"
   ]
  },
  {
   "cell_type": "code",
   "execution_count": 154,
   "id": "6df80300-9960-4eb1-9aa3-7391f550f6f7",
   "metadata": {},
   "outputs": [],
   "source": [
    "# df_games_meta.query(\"app_id == 8500\")"
   ]
  },
  {
   "cell_type": "markdown",
   "id": "1bfec074-4b13-44bb-867c-996933889912",
   "metadata": {},
   "source": [
    "### Steam games complete dataset"
   ]
  },
  {
   "cell_type": "code",
   "execution_count": 222,
   "id": "7e208cd7-3cb4-47b7-a061-b80d80c93a1c",
   "metadata": {},
   "outputs": [
    {
     "data": {
      "text/html": [
       "<div>\n",
       "<style scoped>\n",
       "    .dataframe tbody tr th:only-of-type {\n",
       "        vertical-align: middle;\n",
       "    }\n",
       "\n",
       "    .dataframe tbody tr th {\n",
       "        vertical-align: top;\n",
       "    }\n",
       "\n",
       "    .dataframe thead th {\n",
       "        text-align: right;\n",
       "    }\n",
       "</style>\n",
       "<table border=\"1\" class=\"dataframe\">\n",
       "  <thead>\n",
       "    <tr style=\"text-align: right;\">\n",
       "      <th></th>\n",
       "      <th>url</th>\n",
       "      <th>types</th>\n",
       "      <th>title</th>\n",
       "      <th>desc_snippet</th>\n",
       "      <th>recent_reviews</th>\n",
       "      <th>all_reviews</th>\n",
       "      <th>release_date</th>\n",
       "      <th>developer</th>\n",
       "      <th>publisher</th>\n",
       "      <th>popular_tags</th>\n",
       "      <th>...</th>\n",
       "      <th>n_game_achievements</th>\n",
       "      <th>genre</th>\n",
       "      <th>game_description</th>\n",
       "      <th>mature_content</th>\n",
       "      <th>minimum_requirements</th>\n",
       "      <th>recommended_requirements</th>\n",
       "      <th>original_price</th>\n",
       "      <th>discount_price</th>\n",
       "      <th>refined_price</th>\n",
       "      <th>app_id</th>\n",
       "    </tr>\n",
       "  </thead>\n",
       "  <tbody>\n",
       "    <tr>\n",
       "      <th>0</th>\n",
       "      <td>https://store.steampowered.com/app/379720/DOOM/</td>\n",
       "      <td>app</td>\n",
       "      <td>DOOM</td>\n",
       "      <td>Now includes all three premium DLC packs (Unto...</td>\n",
       "      <td>Very Positive,(554),- 89% of the 554 user revi...</td>\n",
       "      <td>Very Positive,(42,550),- 92% of the 42,550 use...</td>\n",
       "      <td>May 12, 2016</td>\n",
       "      <td>id Software</td>\n",
       "      <td>Bethesda Softworks,Bethesda Softworks</td>\n",
       "      <td>FPS,Gore,Action,Demons,Shooter,First-Person,Gr...</td>\n",
       "      <td>...</td>\n",
       "      <td>54.0</td>\n",
       "      <td>Action</td>\n",
       "      <td>About This Game Developed by id software, the...</td>\n",
       "      <td>NaN</td>\n",
       "      <td>Minimum:,OS:,Windows 7/8.1/10 (64-bit versions...</td>\n",
       "      <td>Recommended:,OS:,Windows 7/8.1/10 (64-bit vers...</td>\n",
       "      <td>$19.99</td>\n",
       "      <td>$14.99</td>\n",
       "      <td>19.99</td>\n",
       "      <td>379720</td>\n",
       "    </tr>\n",
       "    <tr>\n",
       "      <th>1</th>\n",
       "      <td>https://store.steampowered.com/app/578080/PLAY...</td>\n",
       "      <td>app</td>\n",
       "      <td>PLAYERUNKNOWN'S BATTLEGROUNDS</td>\n",
       "      <td>PLAYERUNKNOWN'S BATTLEGROUNDS is a battle roya...</td>\n",
       "      <td>Mixed,(6,214),- 49% of the 6,214 user reviews ...</td>\n",
       "      <td>Mixed,(836,608),- 49% of the 836,608 user revi...</td>\n",
       "      <td>Dec 21, 2017</td>\n",
       "      <td>PUBG Corporation</td>\n",
       "      <td>PUBG Corporation,PUBG Corporation</td>\n",
       "      <td>Survival,Shooter,Multiplayer,Battle Royale,PvP...</td>\n",
       "      <td>...</td>\n",
       "      <td>37.0</td>\n",
       "      <td>Action,Adventure,Massively Multiplayer</td>\n",
       "      <td>About This Game  PLAYERUNKNOWN'S BATTLEGROUND...</td>\n",
       "      <td>Mature Content Description  The developers de...</td>\n",
       "      <td>Minimum:,Requires a 64-bit processor and opera...</td>\n",
       "      <td>Recommended:,Requires a 64-bit processor and o...</td>\n",
       "      <td>$29.99</td>\n",
       "      <td>NaN</td>\n",
       "      <td>29.99</td>\n",
       "      <td>578080</td>\n",
       "    </tr>\n",
       "    <tr>\n",
       "      <th>2</th>\n",
       "      <td>https://store.steampowered.com/app/637090/BATT...</td>\n",
       "      <td>app</td>\n",
       "      <td>BATTLETECH</td>\n",
       "      <td>Take command of your own mercenary outfit of '...</td>\n",
       "      <td>Mixed,(166),- 54% of the 166 user reviews in t...</td>\n",
       "      <td>Mostly Positive,(7,030),- 71% of the 7,030 use...</td>\n",
       "      <td>Apr 24, 2018</td>\n",
       "      <td>Harebrained Schemes</td>\n",
       "      <td>Paradox Interactive,Paradox Interactive</td>\n",
       "      <td>Mechs,Strategy,Turn-Based,Turn-Based Tactics,S...</td>\n",
       "      <td>...</td>\n",
       "      <td>128.0</td>\n",
       "      <td>Action,Adventure,Strategy</td>\n",
       "      <td>About This Game  From original BATTLETECH/Mec...</td>\n",
       "      <td>NaN</td>\n",
       "      <td>Minimum:,Requires a 64-bit processor and opera...</td>\n",
       "      <td>Recommended:,Requires a 64-bit processor and o...</td>\n",
       "      <td>$39.99</td>\n",
       "      <td>NaN</td>\n",
       "      <td>39.99</td>\n",
       "      <td>637090</td>\n",
       "    </tr>\n",
       "    <tr>\n",
       "      <th>3</th>\n",
       "      <td>https://store.steampowered.com/app/221100/DayZ/</td>\n",
       "      <td>app</td>\n",
       "      <td>DayZ</td>\n",
       "      <td>The post-soviet country of Chernarus is struck...</td>\n",
       "      <td>Mixed,(932),- 57% of the 932 user reviews in t...</td>\n",
       "      <td>Mixed,(167,115),- 61% of the 167,115 user revi...</td>\n",
       "      <td>Dec 13, 2018</td>\n",
       "      <td>Bohemia Interactive</td>\n",
       "      <td>Bohemia Interactive,Bohemia Interactive</td>\n",
       "      <td>Survival,Zombies,Open World,Multiplayer,PvP,Ma...</td>\n",
       "      <td>...</td>\n",
       "      <td>NaN</td>\n",
       "      <td>Action,Adventure,Massively Multiplayer</td>\n",
       "      <td>About This Game The post-soviet country of Ch...</td>\n",
       "      <td>NaN</td>\n",
       "      <td>Minimum:,OS:,Windows 7/8.1 64-bit,Processor:,I...</td>\n",
       "      <td>Recommended:,OS:,Windows 10 64-bit,Processor:,...</td>\n",
       "      <td>$44.99</td>\n",
       "      <td>NaN</td>\n",
       "      <td>44.99</td>\n",
       "      <td>221100</td>\n",
       "    </tr>\n",
       "    <tr>\n",
       "      <th>4</th>\n",
       "      <td>https://store.steampowered.com/app/8500/EVE_On...</td>\n",
       "      <td>app</td>\n",
       "      <td>EVE Online</td>\n",
       "      <td>EVE Online is a community-driven spaceship MMO...</td>\n",
       "      <td>Mixed,(287),- 54% of the 287 user reviews in t...</td>\n",
       "      <td>Mostly Positive,(11,481),- 74% of the 11,481 u...</td>\n",
       "      <td>May 6, 2003</td>\n",
       "      <td>CCP</td>\n",
       "      <td>CCP,CCP</td>\n",
       "      <td>Space,Massively Multiplayer,Sci-fi,Sandbox,MMO...</td>\n",
       "      <td>...</td>\n",
       "      <td>NaN</td>\n",
       "      <td>Action,Free to Play,Massively Multiplayer,RPG,...</td>\n",
       "      <td>About This Game</td>\n",
       "      <td>NaN</td>\n",
       "      <td>Minimum:,OS:,Windows 7,Processor:,Intel Dual C...</td>\n",
       "      <td>Recommended:,OS:,Windows 10,Processor:,Intel i...</td>\n",
       "      <td>Free</td>\n",
       "      <td>NaN</td>\n",
       "      <td>0.00</td>\n",
       "      <td>8500</td>\n",
       "    </tr>\n",
       "  </tbody>\n",
       "</table>\n",
       "<p>5 rows × 22 columns</p>\n",
       "</div>"
      ],
      "text/plain": [
       "                                                 url types  \\\n",
       "0    https://store.steampowered.com/app/379720/DOOM/   app   \n",
       "1  https://store.steampowered.com/app/578080/PLAY...   app   \n",
       "2  https://store.steampowered.com/app/637090/BATT...   app   \n",
       "3    https://store.steampowered.com/app/221100/DayZ/   app   \n",
       "4  https://store.steampowered.com/app/8500/EVE_On...   app   \n",
       "\n",
       "                           title  \\\n",
       "0                           DOOM   \n",
       "1  PLAYERUNKNOWN'S BATTLEGROUNDS   \n",
       "2                     BATTLETECH   \n",
       "3                           DayZ   \n",
       "4                     EVE Online   \n",
       "\n",
       "                                        desc_snippet  \\\n",
       "0  Now includes all three premium DLC packs (Unto...   \n",
       "1  PLAYERUNKNOWN'S BATTLEGROUNDS is a battle roya...   \n",
       "2  Take command of your own mercenary outfit of '...   \n",
       "3  The post-soviet country of Chernarus is struck...   \n",
       "4  EVE Online is a community-driven spaceship MMO...   \n",
       "\n",
       "                                      recent_reviews  \\\n",
       "0  Very Positive,(554),- 89% of the 554 user revi...   \n",
       "1  Mixed,(6,214),- 49% of the 6,214 user reviews ...   \n",
       "2  Mixed,(166),- 54% of the 166 user reviews in t...   \n",
       "3  Mixed,(932),- 57% of the 932 user reviews in t...   \n",
       "4  Mixed,(287),- 54% of the 287 user reviews in t...   \n",
       "\n",
       "                                         all_reviews  release_date  \\\n",
       "0  Very Positive,(42,550),- 92% of the 42,550 use...  May 12, 2016   \n",
       "1  Mixed,(836,608),- 49% of the 836,608 user revi...  Dec 21, 2017   \n",
       "2  Mostly Positive,(7,030),- 71% of the 7,030 use...  Apr 24, 2018   \n",
       "3  Mixed,(167,115),- 61% of the 167,115 user revi...  Dec 13, 2018   \n",
       "4  Mostly Positive,(11,481),- 74% of the 11,481 u...   May 6, 2003   \n",
       "\n",
       "             developer                                publisher  \\\n",
       "0          id Software    Bethesda Softworks,Bethesda Softworks   \n",
       "1     PUBG Corporation        PUBG Corporation,PUBG Corporation   \n",
       "2  Harebrained Schemes  Paradox Interactive,Paradox Interactive   \n",
       "3  Bohemia Interactive  Bohemia Interactive,Bohemia Interactive   \n",
       "4                  CCP                                  CCP,CCP   \n",
       "\n",
       "                                        popular_tags  ... n_game_achievements  \\\n",
       "0  FPS,Gore,Action,Demons,Shooter,First-Person,Gr...  ...                54.0   \n",
       "1  Survival,Shooter,Multiplayer,Battle Royale,PvP...  ...                37.0   \n",
       "2  Mechs,Strategy,Turn-Based,Turn-Based Tactics,S...  ...               128.0   \n",
       "3  Survival,Zombies,Open World,Multiplayer,PvP,Ma...  ...                 NaN   \n",
       "4  Space,Massively Multiplayer,Sci-fi,Sandbox,MMO...  ...                 NaN   \n",
       "\n",
       "                                               genre  \\\n",
       "0                                             Action   \n",
       "1             Action,Adventure,Massively Multiplayer   \n",
       "2                          Action,Adventure,Strategy   \n",
       "3             Action,Adventure,Massively Multiplayer   \n",
       "4  Action,Free to Play,Massively Multiplayer,RPG,...   \n",
       "\n",
       "                                    game_description  \\\n",
       "0   About This Game Developed by id software, the...   \n",
       "1   About This Game  PLAYERUNKNOWN'S BATTLEGROUND...   \n",
       "2   About This Game  From original BATTLETECH/Mec...   \n",
       "3   About This Game The post-soviet country of Ch...   \n",
       "4                                  About This Game     \n",
       "\n",
       "                                      mature_content  \\\n",
       "0                                                NaN   \n",
       "1   Mature Content Description  The developers de...   \n",
       "2                                                NaN   \n",
       "3                                                NaN   \n",
       "4                                                NaN   \n",
       "\n",
       "                                minimum_requirements  \\\n",
       "0  Minimum:,OS:,Windows 7/8.1/10 (64-bit versions...   \n",
       "1  Minimum:,Requires a 64-bit processor and opera...   \n",
       "2  Minimum:,Requires a 64-bit processor and opera...   \n",
       "3  Minimum:,OS:,Windows 7/8.1 64-bit,Processor:,I...   \n",
       "4  Minimum:,OS:,Windows 7,Processor:,Intel Dual C...   \n",
       "\n",
       "                            recommended_requirements original_price  \\\n",
       "0  Recommended:,OS:,Windows 7/8.1/10 (64-bit vers...         $19.99   \n",
       "1  Recommended:,Requires a 64-bit processor and o...         $29.99   \n",
       "2  Recommended:,Requires a 64-bit processor and o...         $39.99   \n",
       "3  Recommended:,OS:,Windows 10 64-bit,Processor:,...         $44.99   \n",
       "4  Recommended:,OS:,Windows 10,Processor:,Intel i...           Free   \n",
       "\n",
       "  discount_price refined_price  app_id  \n",
       "0         $14.99         19.99  379720  \n",
       "1            NaN         29.99  578080  \n",
       "2            NaN         39.99  637090  \n",
       "3            NaN         44.99  221100  \n",
       "4            NaN          0.00    8500  \n",
       "\n",
       "[5 rows x 22 columns]"
      ]
     },
     "execution_count": 222,
     "metadata": {},
     "output_type": "execute_result"
    }
   ],
   "source": [
    "def convert_price_to_float(x):\n",
    "    if isinstance(x, float):\n",
    "        return x\n",
    "    elif x.startswith(\"$\"):\n",
    "        return float(x.lstrip(\"$\"))\n",
    "    elif x == \"Free\":\n",
    "        return 0\n",
    "    else:\n",
    "        return None\n",
    "    # int(x.lstrip(\"$\") if x.startswith(\"$\") else (if )\n",
    "    \n",
    "df_games_complete = (\n",
    "    pd.read_csv(\"../data/raw/steam-games-complete-dataset/steam_games.csv\")\n",
    "    .query(\"types == 'app' | types == 'bundle'\")\n",
    "    .rename(columns={\"name\": \"title\", \"achievements\": \"n_game_achievements\"})\n",
    "    .assign(refined_price=lambda df: df[\"original_price\"].apply(convert_price_to_float))\n",
    ")\n",
    "df_games_complete[\"app_id\"] = (\n",
    "    df_games_complete.url\n",
    "    .str.removeprefix(\"https://store.steampowered.com/\")\n",
    "    .str.split(\"/\")\n",
    "    .apply(lambda x: x[1]).astype(int)\n",
    ")\n",
    "df_games_complete[\"app_id\"] = df_games_complete[\"app_id\"].astype(int)\n",
    "df_games_complete.head()"
   ]
  },
  {
   "cell_type": "code",
   "execution_count": 223,
   "id": "e9648916-96fe-4d1f-a778-688918775294",
   "metadata": {},
   "outputs": [
    {
     "name": "stdout",
     "output_type": "stream",
     "text": [
      "Column: title, missing values percentage: 0.03%\n",
      "Column: desc_snippet, missing values percentage: 32.56%\n",
      "Column: recent_reviews, missing values percentage: 93.33%\n",
      "Column: all_reviews, missing values percentage: 29.86%\n",
      "Column: release_date, missing values percentage: 7.24%\n",
      "Column: developer, missing values percentage: 0.84%\n",
      "Column: publisher, missing values percentage: 12.55%\n",
      "Column: popular_tags, missing values percentage: 6.66%\n",
      "Column: game_details, missing values percentage: 1.27%\n",
      "Column: languages, missing values percentage: 0.05%\n",
      "Column: n_game_achievements, missing values percentage: 69.96%\n",
      "Column: genre, missing values percentage: 1.07%\n",
      "Column: game_description, missing values percentage: 6.58%\n",
      "Column: mature_content, missing values percentage: 92.86%\n",
      "Column: minimum_requirements, missing values percentage: 48.10%\n",
      "Column: recommended_requirements, missing values percentage: 48.08%\n",
      "Column: original_price, missing values percentage: 13.08%\n",
      "Column: discount_price, missing values percentage: 64.73%\n",
      "Column: refined_price, missing values percentage: 17.37%\n"
     ]
    }
   ],
   "source": [
    "for column, n_na in df_games_complete.isna().mean().where(lambda x: x > 0).dropna().items():\n",
    "    print(f\"Column: {column}, missing values percentage: {(n_na * 100):.2f}%\")"
   ]
  },
  {
   "cell_type": "markdown",
   "id": "17666c09-40d8-4e66-92da-55a2bb33cba2",
   "metadata": {},
   "source": [
    "So, original dataset's app id is the same as steam games complete dataset"
   ]
  },
  {
   "cell_type": "markdown",
   "id": "3c6b2232-5722-4bc5-8734-82c0e84726f5",
   "metadata": {},
   "source": [
    "### Game features\n",
    "\n",
    "- type (app/bundle)\n",
    "- desc snippet embedding\n",
    "- N years from release date upon retrieval date\n",
    "- developer encoded\n",
    "- publisher encoded\n",
    "- tags binary encoding\n",
    "- languages\n",
    "- n achievements\n",
    "- genre one-hot\n",
    "- description fasttext embedding\n",
    "- minimum requirements?\n",
    "- recommended requirements?\n",
    "- original price\n",
    "- single-player bool\n",
    "- multi-player bool"
   ]
  },
  {
   "cell_type": "markdown",
   "id": "8dc91755-6e2f-4fc0-8e85-a39dd7d26615",
   "metadata": {},
   "source": [
    "## Matching datasets"
   ]
  },
  {
   "cell_type": "code",
   "execution_count": 174,
   "id": "78416fac-c2a4-4418-9d9e-c4204932e5ca",
   "metadata": {},
   "outputs": [
    {
     "name": "stdout",
     "output_type": "stream",
     "text": [
      "47730    DOOM\n",
      "Name: title, dtype: object\n",
      "-------------------\n",
      "0    DOOM\n",
      "Name: title, dtype: object\n"
     ]
    }
   ],
   "source": [
    "## DOOM\n",
    "test_game_id = 379720\n",
    "print(df_games.query(\"app_id == @test_game_id\").title)\n",
    "print(\"-------------------\")\n",
    "print(df_games_complete.query(\"app_id == @test_game_id\").title)\n",
    "# print(df[df.appid == test_game_id].title)"
   ]
  },
  {
   "cell_type": "code",
   "execution_count": 175,
   "id": "02e819d2-0355-4036-927f-c994dea35693",
   "metadata": {},
   "outputs": [
    {
     "data": {
      "text/plain": [
       "np.int64(3104)"
      ]
     },
     "execution_count": 175,
     "metadata": {},
     "output_type": "execute_result"
    }
   ],
   "source": [
    "df.query(\"app_id == @test_game_id\").review.apply(lambda x: \"doom\" in str(x)).sum()"
   ]
  },
  {
   "cell_type": "code",
   "execution_count": 176,
   "id": "6c1174e4-9846-4e23-ba63-b1c335be1e94",
   "metadata": {},
   "outputs": [
    {
     "name": "stdout",
     "output_type": "stream",
     "text": [
      "0    Prince of Persia: Warrior Within™\n",
      "Name: title, dtype: object\n",
      "-------------------\n",
      "3370    Prince of Persia: Warrior Within™\n",
      "Name: title, dtype: object\n"
     ]
    }
   ],
   "source": [
    "## prince persia warrior within\n",
    "test_game_id = 13500\n",
    "print(df_games.query(\"app_id == @test_game_id\").title)\n",
    "print(\"-------------------\")\n",
    "print(df_games_complete.query(\"app_id == @test_game_id\").title)\n",
    "# print(df[df.appid == test_game_id].title)"
   ]
  },
  {
   "cell_type": "code",
   "execution_count": 177,
   "id": "716586cb-d1d0-478a-af04-7491f5cb7f05",
   "metadata": {},
   "outputs": [
    {
     "data": {
      "text/plain": [
       "np.int64(2)"
      ]
     },
     "execution_count": 177,
     "metadata": {},
     "output_type": "execute_result"
    }
   ],
   "source": [
    "df.query(\"app_id == @test_game_id\").review.apply(lambda x: \"doom\" in str(x)).sum()"
   ]
  },
  {
   "cell_type": "code",
   "execution_count": 178,
   "id": "b42988b9-9bda-42f7-b9b0-a6a4d1190872",
   "metadata": {},
   "outputs": [
    {
     "data": {
      "text/plain": [
       "array(['app', 'bundle'], dtype=object)"
      ]
     },
     "execution_count": 178,
     "metadata": {},
     "output_type": "execute_result"
    }
   ],
   "source": [
    "df_games_complete.types.unique()"
   ]
  },
  {
   "cell_type": "markdown",
   "id": "57a45e9d-24ec-4dc7-985f-73599a9b4ece",
   "metadata": {},
   "source": [
    "### Merge dataframes"
   ]
  },
  {
   "cell_type": "code",
   "execution_count": 228,
   "id": "9d564a58-bd7f-4e8b-aa4a-1eed1da23c21",
   "metadata": {},
   "outputs": [
    {
     "data": {
      "text/plain": [
       "Index(['types', 'title_sgcd', 'desc_snippet', 'recent_reviews', 'all_reviews',\n",
       "       'release_date_sgcd', 'developer', 'publisher', 'popular_tags',\n",
       "       'game_details', 'languages', 'n_game_achievements', 'genre',\n",
       "       'game_description', 'mature_content', 'original_price_sgcd',\n",
       "       'refined_price', 'title_grps', 'release_date_grps', 'win_support',\n",
       "       'mac_support', 'linux_support', 'steam_deck_support', 'final_title'],\n",
       "      dtype='object')"
      ]
     },
     "execution_count": 228,
     "metadata": {},
     "output_type": "execute_result"
    }
   ],
   "source": [
    "duplicates = ((\"name\", \"title\"), (\"release_date\", \"date_release\"), (\"rating\", \"positive_ratio\", \"recent_reviews\"))\n",
    "games_joined = (\n",
    "    df_games_complete.set_index(\"app_id\")\n",
    "    .join(df_games.set_index(\"app_id\"), lsuffix=\"_sgcd\", rsuffix=\"_grps\")\n",
    "    .drop([\n",
    "        \"url\",\n",
    "        \"minimum_requirements\", \"recommended_requirements\", # can be turned into features\n",
    "         # can be turned into features\n",
    "        \"discount_price\",\n",
    "        \"user_reviews\", \"rating\", \"positive_ratio\", # can result in data leakage\n",
    "        \"final_price\", \"original_price_grps\",\n",
    "    ], axis=1)\n",
    "    .assign(\n",
    "        final_title=lambda df: df.apply(\n",
    "            lambda row: (row.title_grps if not pd.isna(row.title_grps) else row.title_sgcd),\n",
    "            axis=1),\n",
    "    )\n",
    ")\n",
    "games_joined.columns"
   ]
  },
  {
   "cell_type": "code",
   "execution_count": 235,
   "id": "b520b398-cb62-4329-81cb-b05b0b1e0437",
   "metadata": {},
   "outputs": [
    {
     "name": "stdout",
     "output_type": "stream",
     "text": [
      "Column: \u001b[1mtitle_sgcd\u001b[0m, missing values percentage: \u001b[1m0.03%\u001b[0m\n",
      "Column: \u001b[1mfinal_title\u001b[0m, missing values percentage: \u001b[1m0.03%\u001b[0m\n",
      "Column: \u001b[1mlanguages\u001b[0m, missing values percentage: \u001b[1m0.05%\u001b[0m\n",
      "Column: \u001b[1mdeveloper\u001b[0m, missing values percentage: \u001b[1m0.84%\u001b[0m\n",
      "Column: \u001b[1mgenre\u001b[0m, missing values percentage: \u001b[1m1.07%\u001b[0m\n",
      "Column: \u001b[1mgame_details\u001b[0m, missing values percentage: \u001b[1m1.27%\u001b[0m\n",
      "Column: \u001b[1mgame_description\u001b[0m, missing values percentage: \u001b[1m6.58%\u001b[0m\n",
      "Column: \u001b[1mpopular_tags\u001b[0m, missing values percentage: \u001b[1m6.66%\u001b[0m\n",
      "Column: \u001b[1mrelease_date_sgcd\u001b[0m, missing values percentage: \u001b[1m7.24%\u001b[0m\n",
      "Column: \u001b[1mpublisher\u001b[0m, missing values percentage: \u001b[1m12.55%\u001b[0m\n",
      "Column: \u001b[1moriginal_price_sgcd\u001b[0m, missing values percentage: \u001b[1m13.08%\u001b[0m\n",
      "Column: \u001b[1mrefined_price\u001b[0m, missing values percentage: \u001b[1m17.37%\u001b[0m\n",
      "Column: \u001b[1mall_reviews\u001b[0m, missing values percentage: \u001b[1m29.86%\u001b[0m\n",
      "Column: \u001b[1mdesc_snippet\u001b[0m, missing values percentage: \u001b[1m32.56%\u001b[0m\n",
      "Column: \u001b[1msteam_deck_support\u001b[0m, missing values percentage: \u001b[1m52.50%\u001b[0m\n",
      "Column: \u001b[1mtitle_grps\u001b[0m, missing values percentage: \u001b[1m52.50%\u001b[0m\n",
      "Column: \u001b[1mrelease_date_grps\u001b[0m, missing values percentage: \u001b[1m52.50%\u001b[0m\n",
      "Column: \u001b[1mwin_support\u001b[0m, missing values percentage: \u001b[1m52.50%\u001b[0m\n",
      "Column: \u001b[1mmac_support\u001b[0m, missing values percentage: \u001b[1m52.50%\u001b[0m\n",
      "Column: \u001b[1mlinux_support\u001b[0m, missing values percentage: \u001b[1m52.50%\u001b[0m\n",
      "Column: \u001b[1mn_game_achievements\u001b[0m, missing values percentage: \u001b[1m69.96%\u001b[0m\n",
      "Column: \u001b[1mmature_content\u001b[0m, missing values percentage: \u001b[1m92.86%\u001b[0m\n",
      "Column: \u001b[1mrecent_reviews\u001b[0m, missing values percentage: \u001b[1m93.33%\u001b[0m\n"
     ]
    }
   ],
   "source": [
    "for column, n_na in (\n",
    "    games_joined.isna().mean()\n",
    "    .where(lambda x: x > 0).dropna()\n",
    "    .sort_values().items()):\n",
    "    print(f\"Column: \\033[1m{column}\\033[0m, missing values percentage: \\033[1m{(n_na * 100):.2f}%\\033[0m\")"
   ]
  },
  {
   "cell_type": "markdown",
   "id": "10647d85-4de0-45d2-83c0-ab8a84dbddd6",
   "metadata": {},
   "source": [
    "#### languages eda"
   ]
  },
  {
   "cell_type": "code",
   "execution_count": 243,
   "id": "e905b76a-9c38-4b46-be87-5baaade0bd25",
   "metadata": {},
   "outputs": [
    {
     "data": {
      "text/plain": [
       "array(['English', 'French', 'Italian', 'German', 'Spanish - Spain',\n",
       "       'Japanese', 'Polish', 'Portuguese - Brazil', 'Russian',\n",
       "       'Traditional Chinese', 'Korean', 'Simplified Chinese', 'Arabic',\n",
       "       'Portuguese', 'Turkish', 'Thai', 'Ukrainian', 'Czech',\n",
       "       'Spanish - Latin America', 'Dutch', 'Hungarian', 'Danish',\n",
       "       'Finnish', 'Norwegian', 'Swedish', 'Romanian', 'Greek',\n",
       "       'Bulgarian', nan, 'Vietnamese',\n",
       "       '#lang_#lang_spanish*#lang_full_audio', 'Slovakian',\n",
       "       '(all with full audio support)', '#lang_german;',\n",
       "       '#lang_#lang_#lang_english**#lang_full_audio*#lang_full_audio'],\n",
       "      dtype=object)"
      ]
     },
     "execution_count": 243,
     "metadata": {},
     "output_type": "execute_result"
    }
   ],
   "source": [
    "unique_languages = set()\n",
    "# games_joined.languages.str.split(\",\").explode().apply(lambda x: x.strip()).unique()\n",
    "games_joined.languages.str.split(\",\").explode().str.strip().unique()"
   ]
  },
  {
   "cell_type": "code",
   "execution_count": 244,
   "id": "d063e024-d580-4d5c-b890-30073b8fae9a",
   "metadata": {},
   "outputs": [],
   "source": [
    "languages_categories_to_include = ['English', 'French', 'Italian', 'German', 'Spanish - Spain',\n",
    "       'Japanese', 'Polish', 'Portuguese - Brazil', 'Russian',\n",
    "       'Traditional Chinese', 'Korean', 'Simplified Chinese', 'Arabic',\n",
    "       'Portuguese', 'Turkish', 'Thai', 'Ukrainian', 'Czech',\n",
    "       'Spanish - Latin America', 'Dutch', 'Hungarian', 'Danish',\n",
    "       'Finnish', 'Norwegian', 'Swedish', 'Romanian', 'Greek',\n",
    "       'Bulgarian','Vietnamese', \"Slovakian\"]"
   ]
  },
  {
   "cell_type": "markdown",
   "id": "e05134e1-87a3-445a-ad66-5f71cf2c1ed0",
   "metadata": {},
   "source": [
    "### genre eda"
   ]
  },
  {
   "cell_type": "code",
   "execution_count": 257,
   "id": "5ea3735c-666e-4011-884f-6e812586841f",
   "metadata": {},
   "outputs": [
    {
     "name": "stdout",
     "output_type": "stream",
     "text": [
      "N unique genres: 35\n"
     ]
    }
   ],
   "source": [
    "print(f\"N unique genres: {games_joined.genre.str.split(\",\").explode().unique().shape[0]}\")"
   ]
  },
  {
   "cell_type": "code",
   "execution_count": 246,
   "id": "215909ba-19d9-4dae-8416-950aba145f85",
   "metadata": {},
   "outputs": [
    {
     "data": {
      "text/plain": [
       "array(['Action', 'Adventure', 'Massively Multiplayer', 'Strategy',\n",
       "       'Free to Play', 'RPG', 'Indie', 'Early Access', 'Simulation',\n",
       "       'Racing', 'Casual', 'Sports', 'Violent', 'Gore', 'Valve', nan,\n",
       "       'Nudity', 'Animation & Modeling', 'Design & Illustration',\n",
       "       'Utilities', 'Sexual Content', 'Game Development', 'Education',\n",
       "       'Software Training', 'Web Publishing', 'Video Production',\n",
       "       'Audio Production', 'Movie', 'Photo Editing', 'Accounting',\n",
       "       'Documentary', 'Short', '360 Video', 'Tutorial', 'HTC'],\n",
       "      dtype=object)"
      ]
     },
     "execution_count": 246,
     "metadata": {},
     "output_type": "execute_result"
    }
   ],
   "source": [
    "games_joined.genre.str.split(\",\").explode().unique()"
   ]
  },
  {
   "cell_type": "code",
   "execution_count": 247,
   "id": "c5845d46-5494-4cb2-becb-8acc03e1ccc0",
   "metadata": {},
   "outputs": [],
   "source": [
    "genres_to_include = ['Action', 'Adventure', 'Massively Multiplayer', 'Strategy',\n",
    "       'Free to Play', 'RPG', 'Indie', 'Early Access', 'Simulation',\n",
    "       'Racing', 'Casual', 'Sports', 'Violent', 'Gore', 'Valve', 'Nudity', \n",
    "       'Sexual Content', 'Education', 'Video Production', 'Short']"
   ]
  },
  {
   "cell_type": "markdown",
   "id": "737de6d7-d3a4-44f6-8407-313a7ede0fc9",
   "metadata": {},
   "source": [
    "### popular tags eda"
   ]
  },
  {
   "cell_type": "code",
   "execution_count": 261,
   "id": "93c4c428-0ee4-43c0-abe8-f1db154a00ef",
   "metadata": {},
   "outputs": [
    {
     "name": "stdout",
     "output_type": "stream",
     "text": [
      "N unique tags in popular tags: 377\n"
     ]
    }
   ],
   "source": [
    "print(f\"N unique tags in popular tags: {games_joined.popular_tags.str.split(\",\").explode().unique().shape[0]}\")"
   ]
  },
  {
   "cell_type": "markdown",
   "id": "4e4802d5-3a74-4fe8-b4b2-c7d29e9d21a0",
   "metadata": {},
   "source": [
    "- popular tags: average of target encoding, min of target encoding, max of target encoding"
   ]
  },
  {
   "cell_type": "markdown",
   "id": "97527791-0932-4ec1-9db0-60634d21d4ee",
   "metadata": {},
   "source": [
    "### additional preprocessing\n",
    "- game details\n",
    "- game description\n",
    "- publisher\n",
    "- all reviews\n",
    "- mature_content\n",
    "- recent_reviews\n",
    "\n",
    "### na filling strategy\n",
    "- developer: target encoding\n",
    "- genre: 000000000 in binary encoding\n",
    "- platform_supports: NaN as a category\n",
    "- mature_content: NaN as a category\n",
    "\n",
    "### new features\n",
    "- diversity of languages\n",
    "- diversity of popular tags\n",
    "- diversity of genre"
   ]
  },
  {
   "cell_type": "code",
   "execution_count": null,
   "id": "f1628423-7899-43c5-a80d-173c6c0de7e2",
   "metadata": {},
   "outputs": [],
   "source": [
    "games_joined[\"app_id\"] = games_joined[\"app_id\"].astype(\"category\")\n",
    "df[\"app_id\"] = ga"
   ]
  },
  {
   "cell_type": "code",
   "execution_count": 264,
   "id": "436955eb-759f-405f-b51f-0b3e88f8e78d",
   "metadata": {},
   "outputs": [
    {
     "name": "stdout",
     "output_type": "stream",
     "text": [
      "CPU times: user 8.82 s, sys: 17.2 s, total: 26 s\n",
      "Wall time: 51.9 s\n"
     ]
    }
   ],
   "source": [
    "%%time\n",
    "joined_dataset = df.sort_values(by=\"app_id\").join(games_joined.sort_values(by=\"app_id\"), on=\"app_id\", lsuffix=\"srd\")"
   ]
  },
  {
   "cell_type": "markdown",
   "id": "2555ed6b-02ed-4a29-b58a-b2447d98dc02",
   "metadata": {},
   "source": [
    "## Features\n",
    "\n",
    "### Features\n",
    "\n",
    "User\n",
    "- mean played time to retrieval date\n",
    "- sum played time to retrieval date\n",
    "- sum voted up upon retrieval\n",
    "- sum voted down upon retrieval\n",
    "- mean games rating upon retrieval\n",
    "- sum windows reviewed games\n",
    "- sum linux reviewed games\n",
    "- sum mac reviewed games\n",
    "- sum owned games (upon retrieval?)\n",
    "- num reviews (upon retrieval?)\n",
    "- n games reviews by developer\n",
    "- n games reviewed by publisher\n",
    "- n apps upon retrieval\n",
    "- n bundles upon retrieval\n",
    "\n",
    "\n",
    "Game\n",
    "- num reviews upon retrieval date\n",
    "- mean playtime hours on reviews upon retrieval\n",
    "- mean review rating upon retrieval date"
   ]
  },
  {
   "cell_type": "code",
   "execution_count": null,
   "id": "92ff7eb9-3923-4d2a-85f7-46db0b710188",
   "metadata": {},
   "outputs": [],
   "source": []
  }
 ],
 "metadata": {
  "kernelspec": {
   "display_name": "Python 3 (ipykernel)",
   "language": "python",
   "name": "python3"
  },
  "language_info": {
   "codemirror_mode": {
    "name": "ipython",
    "version": 3
   },
   "file_extension": ".py",
   "mimetype": "text/x-python",
   "name": "python",
   "nbconvert_exporter": "python",
   "pygments_lexer": "ipython3",
   "version": "3.13.1"
  }
 },
 "nbformat": 4,
 "nbformat_minor": 5
}
