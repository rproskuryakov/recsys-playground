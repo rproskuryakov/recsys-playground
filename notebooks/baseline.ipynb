{
 "cells": [
  {
   "cell_type": "code",
   "execution_count": 1,
   "id": "4dc26ffc-0ac5-4e75-985f-b5e06d13662c",
   "metadata": {},
   "outputs": [
    {
     "name": "stderr",
     "output_type": "stream",
     "text": [
      "/Users/rproskuryakov/Projects/recsys-playground/.venv/lib/python3.10/site-packages/lightfm/_lightfm_fast.py:9: UserWarning: LightFM was compiled without OpenMP support. Only a single thread will be used.\n",
      "  warnings.warn(\n"
     ]
    }
   ],
   "source": [
    "import pathlib\n",
    "\n",
    "import numpy as np\n",
    "import pandas as pd\n",
    "import matplotlib.pyplot as plt\n",
    "import seaborn as sns\n",
    "import faiss\n",
    "import polars as pl\n",
    "from lightfm import LightFM\n",
    "from lightfm.evaluation import precision_at_k\n",
    "from sklearn.metrics import ndcg_score, average_precision_score\n",
    "from scipy.sparse import csr_matrix, coo_matrix\n",
    "from sklearn.model_selection import TimeSeriesSplit, GridSearchCV"
   ]
  },
  {
   "cell_type": "code",
   "execution_count": 8,
   "id": "c2332abd-563f-4223-9a7d-820f8b818c3a",
   "metadata": {
    "scrolled": true
   },
   "outputs": [
    {
     "name": "stdout",
     "output_type": "stream",
     "text": [
      "CPU times: user 52.6 s, sys: 10.8 s, total: 1min 3s\n",
      "Wall time: 1min 9s\n"
     ]
    },
    {
     "data": {
      "text/html": [
       "<div>\n",
       "<style scoped>\n",
       "    .dataframe tbody tr th:only-of-type {\n",
       "        vertical-align: middle;\n",
       "    }\n",
       "\n",
       "    .dataframe tbody tr th {\n",
       "        vertical-align: top;\n",
       "    }\n",
       "\n",
       "    .dataframe thead th {\n",
       "        text-align: right;\n",
       "    }\n",
       "</style>\n",
       "<table border=\"1\" class=\"dataframe\">\n",
       "  <thead>\n",
       "    <tr style=\"text-align: right;\">\n",
       "      <th></th>\n",
       "      <th>steamid</th>\n",
       "      <th>appid</th>\n",
       "      <th>voted_up</th>\n",
       "      <th>votes_up</th>\n",
       "      <th>votes_funny</th>\n",
       "      <th>weighted_vote_score</th>\n",
       "      <th>playtime_forever</th>\n",
       "      <th>playtime_at_review</th>\n",
       "      <th>num_games_owned</th>\n",
       "      <th>num_reviews</th>\n",
       "      <th>review</th>\n",
       "      <th>unix_timestamp_created</th>\n",
       "      <th>unix_timestamp_updated</th>\n",
       "    </tr>\n",
       "  </thead>\n",
       "  <tbody>\n",
       "    <tr>\n",
       "      <th>0</th>\n",
       "      <td>76561198024044792</td>\n",
       "      <td>342550</td>\n",
       "      <td>False</td>\n",
       "      <td>4</td>\n",
       "      <td>0</td>\n",
       "      <td>0.571289</td>\n",
       "      <td>39</td>\n",
       "      <td>39</td>\n",
       "      <td>574</td>\n",
       "      <td>22</td>\n",
       "      <td>While this game seems promising, it's really j...</td>\n",
       "      <td>1601155855</td>\n",
       "      <td>1601155855</td>\n",
       "    </tr>\n",
       "    <tr>\n",
       "      <th>1</th>\n",
       "      <td>76561198225145856</td>\n",
       "      <td>342550</td>\n",
       "      <td>False</td>\n",
       "      <td>0</td>\n",
       "      <td>0</td>\n",
       "      <td>0.000000</td>\n",
       "      <td>103</td>\n",
       "      <td>103</td>\n",
       "      <td>52</td>\n",
       "      <td>12</td>\n",
       "      <td>Fuck this game. No updates, no nothing. Just T...</td>\n",
       "      <td>1592746747</td>\n",
       "      <td>1592746747</td>\n",
       "    </tr>\n",
       "    <tr>\n",
       "      <th>2</th>\n",
       "      <td>76561198066087993</td>\n",
       "      <td>342550</td>\n",
       "      <td>False</td>\n",
       "      <td>1</td>\n",
       "      <td>0</td>\n",
       "      <td>0.476190</td>\n",
       "      <td>191</td>\n",
       "      <td>191</td>\n",
       "      <td>149</td>\n",
       "      <td>2</td>\n",
       "      <td>Nothing about this game should have legally be...</td>\n",
       "      <td>1590110583</td>\n",
       "      <td>1590110583</td>\n",
       "    </tr>\n",
       "    <tr>\n",
       "      <th>3</th>\n",
       "      <td>76561198118355028</td>\n",
       "      <td>342550</td>\n",
       "      <td>True</td>\n",
       "      <td>1</td>\n",
       "      <td>0</td>\n",
       "      <td>0.524829</td>\n",
       "      <td>1679</td>\n",
       "      <td>1679</td>\n",
       "      <td>98</td>\n",
       "      <td>33</td>\n",
       "      <td>The game looks interesting whit that Lovercraf...</td>\n",
       "      <td>1582193846</td>\n",
       "      <td>1582193846</td>\n",
       "    </tr>\n",
       "    <tr>\n",
       "      <th>4</th>\n",
       "      <td>76561198038091775</td>\n",
       "      <td>342550</td>\n",
       "      <td>False</td>\n",
       "      <td>0</td>\n",
       "      <td>0</td>\n",
       "      <td>0.000000</td>\n",
       "      <td>107</td>\n",
       "      <td>107</td>\n",
       "      <td>604</td>\n",
       "      <td>61</td>\n",
       "      <td>Got this game when it was a paid for. I enjoye...</td>\n",
       "      <td>1579007301</td>\n",
       "      <td>1579007301</td>\n",
       "    </tr>\n",
       "  </tbody>\n",
       "</table>\n",
       "</div>"
      ],
      "text/plain": [
       "             steamid   appid  voted_up  votes_up  votes_funny  \\\n",
       "0  76561198024044792  342550     False         4            0   \n",
       "1  76561198225145856  342550     False         0            0   \n",
       "2  76561198066087993  342550     False         1            0   \n",
       "3  76561198118355028  342550      True         1            0   \n",
       "4  76561198038091775  342550     False         0            0   \n",
       "\n",
       "   weighted_vote_score  playtime_forever  playtime_at_review  num_games_owned  \\\n",
       "0             0.571289                39                  39              574   \n",
       "1             0.000000               103                 103               52   \n",
       "2             0.476190               191                 191              149   \n",
       "3             0.524829              1679                1679               98   \n",
       "4             0.000000               107                 107              604   \n",
       "\n",
       "   num_reviews                                             review  \\\n",
       "0           22  While this game seems promising, it's really j...   \n",
       "1           12  Fuck this game. No updates, no nothing. Just T...   \n",
       "2            2  Nothing about this game should have legally be...   \n",
       "3           33  The game looks interesting whit that Lovercraf...   \n",
       "4           61  Got this game when it was a paid for. I enjoye...   \n",
       "\n",
       "   unix_timestamp_created  unix_timestamp_updated  \n",
       "0              1601155855              1601155855  \n",
       "1              1592746747              1592746747  \n",
       "2              1590110583              1590110583  \n",
       "3              1582193846              1582193846  \n",
       "4              1579007301              1579007301  "
      ]
     },
     "execution_count": 8,
     "metadata": {},
     "output_type": "execute_result"
    }
   ],
   "source": [
    "%%time\n",
    "chunk_paths = [path for path in pathlib.Path(\"../data/raw/steam-reviews-dataset/\").glob(\"*.csv\")]\n",
    "dfs = []\n",
    "for i in chunk_paths:\n",
    "    dfs.append(pd.read_csv(i))\n",
    "df = pd.concat(dfs)\n",
    "df.head()"
   ]
  },
  {
   "cell_type": "code",
   "execution_count": 3,
   "id": "041db708-ad0a-4f68-b28f-4afefad50fae",
   "metadata": {},
   "outputs": [
    {
     "name": "stdout",
     "output_type": "stream",
     "text": [
      "(15437471, 13)\n"
     ]
    }
   ],
   "source": [
    "print(df.shape)"
   ]
  },
  {
   "cell_type": "code",
   "execution_count": 9,
   "id": "eb04faad-73e5-463b-a54f-efd15ae23eec",
   "metadata": {},
   "outputs": [],
   "source": [
    "df[\"unix_timestamp_created\"] = pd.to_datetime(df[\"unix_timestamp_created\"], unit=\"s\")\n",
    "df[\"unix_timestamp_updated\"] = pd.to_datetime(df[\"unix_timestamp_updated\"], unit=\"s\")\n",
    "# df[\"unix_timestamp_created\"] = \n",
    "df[\"voted_up\"] = df[\"voted_up\"].astype(int)"
   ]
  },
  {
   "cell_type": "markdown",
   "id": "8df5e8b4-7e8d-42e9-a1b4-5500329ce3ed",
   "metadata": {},
   "source": [
    "Let's take train from min timestamp to July of 2020. Test from July 2020 to December 2020. Validation from January 2021 to max timestamp."
   ]
  },
  {
   "cell_type": "code",
   "execution_count": 10,
   "id": "e093048f-bbd8-4960-b04b-be1dad69597c",
   "metadata": {},
   "outputs": [],
   "source": [
    "columns = [\"steamid\", \"appid\", \"voted_up\", \"playtime_at_review\", \"unix_timestamp_created\"]\n",
    "dataset_df = df[columns]"
   ]
  },
  {
   "cell_type": "code",
   "execution_count": 11,
   "id": "061f11a1-634e-481b-8c1f-e32b03854a2c",
   "metadata": {},
   "outputs": [],
   "source": [
    "train_df = dataset_df[dataset_df[\"unix_timestamp_created\"] < \"2020-06-01\"]\n",
    "test_df = dataset_df[(dataset_df[\"unix_timestamp_created\"] >= \"2020-06-01\") & (dataset_df[\"unix_timestamp_created\"] < \"2021-01-01\")]\n",
    "validation_df = dataset_df[dataset_df[\"unix_timestamp_created\"] >= \"2021-01-01\"]"
   ]
  },
  {
   "cell_type": "code",
   "execution_count": 12,
   "id": "195b8e57-2ea8-4765-88a7-dc3397ac61a4",
   "metadata": {},
   "outputs": [
    {
     "name": "stdout",
     "output_type": "stream",
     "text": [
      "(12231699, 5)\n",
      "(2080330, 5)\n",
      "(1125442, 5)\n"
     ]
    }
   ],
   "source": [
    "print(train_df.shape)\n",
    "print(test_df.shape)\n",
    "print(validation_df.shape)"
   ]
  },
  {
   "cell_type": "markdown",
   "id": "0f1959d6-8316-4cc8-a34b-f46dc5e5ed1e",
   "metadata": {},
   "source": [
    "### train/test/val split"
   ]
  },
  {
   "cell_type": "markdown",
   "id": "3f174d7b-d080-4b35-b78a-1fa7c103a0b6",
   "metadata": {},
   "source": [
    "Remove cold start games and users from test and validation sets"
   ]
  },
  {
   "cell_type": "code",
   "execution_count": 13,
   "id": "9357a777-65d5-49ae-9471-f63de8d17389",
   "metadata": {},
   "outputs": [],
   "source": [
    "test_df = test_df[test_df.steamid.isin(train_df.steamid) & test_df.appid.isin(train_df.appid)]\n",
    "validation_df = validation_df[validation_df.steamid.isin(train_df.steamid) & validation_df.appid.isin(train_df.appid)]"
   ]
  },
  {
   "cell_type": "code",
   "execution_count": 14,
   "id": "c5415974-fffb-4201-b443-ae658f4667c7",
   "metadata": {},
   "outputs": [
    {
     "name": "stdout",
     "output_type": "stream",
     "text": [
      "(12231699, 5)\n",
      "(1035993, 5)\n",
      "(443294, 5)\n"
     ]
    }
   ],
   "source": [
    "print(train_df.shape)\n",
    "print(test_df.shape)\n",
    "print(validation_df.shape)"
   ]
  },
  {
   "cell_type": "markdown",
   "id": "6e020634-8b8c-401b-87a4-fa663d885065",
   "metadata": {},
   "source": [
    "To form csr matrix we need to do indices for steam_id and app_id from [0...n] and [0...m] respectively"
   ]
  },
  {
   "cell_type": "code",
   "execution_count": 15,
   "id": "2d533985-a987-4dfc-a772-6ac2162e1dd3",
   "metadata": {},
   "outputs": [],
   "source": [
    "steamid_to_index = {steam_id: index for index, steam_id in enumerate(train_df[\"steamid\"].unique())}\n",
    "app_id_to_index = {app_id: index for index, app_id in enumerate(train_df[\"appid\"].unique())}"
   ]
  },
  {
   "cell_type": "markdown",
   "id": "1a73969d-b1a7-4ebf-ac18-0b3eb4d3c8cc",
   "metadata": {},
   "source": [
    "Map indices\n"
   ]
  },
  {
   "cell_type": "code",
   "execution_count": 16,
   "id": "4ad33915-c103-4c8b-8218-bed2eb8f9b5e",
   "metadata": {},
   "outputs": [
    {
     "name": "stderr",
     "output_type": "stream",
     "text": [
      "/var/folders/58/q1f7wcd51gjfk1jks4vsk0z80000gn/T/ipykernel_17906/1974468140.py:2: SettingWithCopyWarning: \n",
      "A value is trying to be set on a copy of a slice from a DataFrame.\n",
      "Try using .loc[row_indexer,col_indexer] = value instead\n",
      "\n",
      "See the caveats in the documentation: https://pandas.pydata.org/pandas-docs/stable/user_guide/indexing.html#returning-a-view-versus-a-copy\n",
      "  dataframe.loc[:, \"user_id\"] = dataframe[\"steamid\"].map(steamid_to_index)\n",
      "/var/folders/58/q1f7wcd51gjfk1jks4vsk0z80000gn/T/ipykernel_17906/1974468140.py:3: SettingWithCopyWarning: \n",
      "A value is trying to be set on a copy of a slice from a DataFrame.\n",
      "Try using .loc[row_indexer,col_indexer] = value instead\n",
      "\n",
      "See the caveats in the documentation: https://pandas.pydata.org/pandas-docs/stable/user_guide/indexing.html#returning-a-view-versus-a-copy\n",
      "  dataframe.loc[:, \"item_id\"] = dataframe[\"appid\"].map(app_id_to_index)\n"
     ]
    }
   ],
   "source": [
    "for dataframe in (train_df, test_df, validation_df):\n",
    "    dataframe.loc[:, \"user_id\"] = dataframe[\"steamid\"].map(steamid_to_index)\n",
    "    dataframe.loc[:, \"item_id\"] = dataframe[\"appid\"].map(app_id_to_index)"
   ]
  },
  {
   "cell_type": "markdown",
   "id": "b59fec9e-030c-4b5a-93b7-73f83f935e43",
   "metadata": {},
   "source": [
    "Let's form train matrix with implicit feedback with pure collaborative filtration without any user or item features"
   ]
  },
  {
   "cell_type": "code",
   "execution_count": 17,
   "id": "04f1977c-da0e-488c-8445-57e994d060c0",
   "metadata": {},
   "outputs": [
    {
     "data": {
      "text/html": [
       "<div>\n",
       "<style scoped>\n",
       "    .dataframe tbody tr th:only-of-type {\n",
       "        vertical-align: middle;\n",
       "    }\n",
       "\n",
       "    .dataframe tbody tr th {\n",
       "        vertical-align: top;\n",
       "    }\n",
       "\n",
       "    .dataframe thead th {\n",
       "        text-align: right;\n",
       "    }\n",
       "</style>\n",
       "<table border=\"1\" class=\"dataframe\">\n",
       "  <thead>\n",
       "    <tr style=\"text-align: right;\">\n",
       "      <th></th>\n",
       "      <th>steamid</th>\n",
       "      <th>appid</th>\n",
       "      <th>voted_up</th>\n",
       "      <th>playtime_at_review</th>\n",
       "      <th>unix_timestamp_created</th>\n",
       "      <th>user_id</th>\n",
       "      <th>item_id</th>\n",
       "    </tr>\n",
       "  </thead>\n",
       "  <tbody>\n",
       "    <tr>\n",
       "      <th>2</th>\n",
       "      <td>76561198066087993</td>\n",
       "      <td>342550</td>\n",
       "      <td>0</td>\n",
       "      <td>191</td>\n",
       "      <td>2020-05-22 01:23:03</td>\n",
       "      <td>0</td>\n",
       "      <td>0</td>\n",
       "    </tr>\n",
       "    <tr>\n",
       "      <th>3</th>\n",
       "      <td>76561198118355028</td>\n",
       "      <td>342550</td>\n",
       "      <td>1</td>\n",
       "      <td>1679</td>\n",
       "      <td>2020-02-20 10:17:26</td>\n",
       "      <td>1</td>\n",
       "      <td>0</td>\n",
       "    </tr>\n",
       "    <tr>\n",
       "      <th>4</th>\n",
       "      <td>76561198038091775</td>\n",
       "      <td>342550</td>\n",
       "      <td>0</td>\n",
       "      <td>107</td>\n",
       "      <td>2020-01-14 13:08:21</td>\n",
       "      <td>2</td>\n",
       "      <td>0</td>\n",
       "    </tr>\n",
       "    <tr>\n",
       "      <th>5</th>\n",
       "      <td>76561198432925868</td>\n",
       "      <td>342550</td>\n",
       "      <td>1</td>\n",
       "      <td>143</td>\n",
       "      <td>2019-10-05 10:42:53</td>\n",
       "      <td>3</td>\n",
       "      <td>0</td>\n",
       "    </tr>\n",
       "    <tr>\n",
       "      <th>6</th>\n",
       "      <td>76561198102945378</td>\n",
       "      <td>342550</td>\n",
       "      <td>0</td>\n",
       "      <td>56</td>\n",
       "      <td>2019-07-30 00:57:56</td>\n",
       "      <td>4</td>\n",
       "      <td>0</td>\n",
       "    </tr>\n",
       "  </tbody>\n",
       "</table>\n",
       "</div>"
      ],
      "text/plain": [
       "             steamid   appid  voted_up  playtime_at_review  \\\n",
       "2  76561198066087993  342550         0                 191   \n",
       "3  76561198118355028  342550         1                1679   \n",
       "4  76561198038091775  342550         0                 107   \n",
       "5  76561198432925868  342550         1                 143   \n",
       "6  76561198102945378  342550         0                  56   \n",
       "\n",
       "  unix_timestamp_created  user_id  item_id  \n",
       "2    2020-05-22 01:23:03        0        0  \n",
       "3    2020-02-20 10:17:26        1        0  \n",
       "4    2020-01-14 13:08:21        2        0  \n",
       "5    2019-10-05 10:42:53        3        0  \n",
       "6    2019-07-30 00:57:56        4        0  "
      ]
     },
     "execution_count": 17,
     "metadata": {},
     "output_type": "execute_result"
    }
   ],
   "source": [
    "train_df.head()"
   ]
  },
  {
   "cell_type": "markdown",
   "id": "9b07f1e0-ca31-4eb1-b084-58900f90c214",
   "metadata": {},
   "source": [
    "## Pure collaborative filtering with implicit feedback"
   ]
  },
  {
   "cell_type": "code",
   "execution_count": 18,
   "id": "22253336-94dd-43f8-b5eb-3c3f9c0d81dc",
   "metadata": {},
   "outputs": [
    {
     "name": "stdout",
     "output_type": "stream",
     "text": [
      "CPU times: user 30.9 ms, sys: 68.3 ms, total: 99.1 ms\n",
      "Wall time: 145 ms\n"
     ]
    }
   ],
   "source": [
    "%%time\n",
    "# positive_reviews = dataset.query(\"voted_up == 1\")\n",
    "train_user_item_matrix = coo_matrix(\n",
    "    (\n",
    "        train_df[\"playtime_at_review\"].to_numpy(),\n",
    "        (\n",
    "          train_df[\"user_id\"].to_numpy(),\n",
    "          train_df[\"item_id\"].to_numpy(),\n",
    "        )\n",
    "    ),\n",
    ")"
   ]
  },
  {
   "cell_type": "code",
   "execution_count": 19,
   "id": "68251a0a-8e3c-41b8-aeb0-7de90e13d16f",
   "metadata": {},
   "outputs": [],
   "source": [
    "N_EMBEDDING_DIMENSIONS = 64"
   ]
  },
  {
   "cell_type": "code",
   "execution_count": 20,
   "id": "b3573c23-1ab0-4cc6-b9ea-5ecff9c51046",
   "metadata": {},
   "outputs": [
    {
     "name": "stdout",
     "output_type": "stream",
     "text": [
      "CPU times: user 8min 42s, sys: 2min 13s, total: 10min 55s\n",
      "Wall time: 12min 40s\n"
     ]
    },
    {
     "data": {
      "text/plain": [
       "<lightfm.lightfm.LightFM at 0x6302b3220>"
      ]
     },
     "execution_count": 20,
     "metadata": {},
     "output_type": "execute_result"
    }
   ],
   "source": [
    "%%time\n",
    "model = LightFM(loss=\"warp\", random_state=20242812, no_components=N_EMBEDDING_DIMENSIONS)\n",
    "model.fit(train_user_item_matrix, epochs=30, num_threads=6)"
   ]
  },
  {
   "cell_type": "code",
   "execution_count": 21,
   "id": "4f414c09-8e8f-49ca-a355-78d283975ca9",
   "metadata": {},
   "outputs": [],
   "source": [
    "test_user_item_matrix = coo_matrix(\n",
    "    (test_df[\"playtime_at_review\"].to_numpy(),\n",
    "     (test_df[\"user_id\"].to_numpy(),\n",
    "      test_df[\"item_id\"].to_numpy())),\n",
    ")"
   ]
  },
  {
   "cell_type": "markdown",
   "id": "b3faaff2-7504-4d2d-876c-be03a651d423",
   "metadata": {},
   "source": [
    "Let's evaluate precision@k, mrr@k, mAp@k and ndcg@k"
   ]
  },
  {
   "cell_type": "code",
   "execution_count": 22,
   "id": "e6a58251-60c8-46db-af78-b2dad047efa3",
   "metadata": {},
   "outputs": [
    {
     "name": "stdout",
     "output_type": "stream",
     "text": [
      "CPU times: user 5.86 ms, sys: 36.3 ms, total: 42.2 ms\n",
      "Wall time: 148 ms\n"
     ]
    }
   ],
   "source": [
    "%%time\n",
    "item_biases, item_embeddings = model.get_item_representations()\n",
    "n_voronoi_cells = 8\n",
    "quantizer = faiss.IndexFlatIP(N_EMBEDDING_DIMENSIONS)  # the other index\n",
    "item_vector_index = faiss.IndexIVFFlat(quantizer, N_EMBEDDING_DIMENSIONS, n_voronoi_cells)\n",
    "# item_vector_index = faiss.index_factory(N_EMBEDDING_DIMENSIONS, \"IVF65536_HNSW32,Flat\")\n",
    "item_vector_index.nprobe = 1\n",
    "item_vector_index.train(item_embeddings)\n",
    "item_vector_index.add(item_embeddings)"
   ]
  },
  {
   "cell_type": "markdown",
   "id": "de95e267-955a-4935-91a1-d39a4f39f031",
   "metadata": {},
   "source": [
    "actually we need to consider item biases and user biases and add (1, b_u) and (b_i, 1) to each user and item vector respectively"
   ]
  },
  {
   "cell_type": "code",
   "execution_count": 23,
   "id": "ce07a926-2d65-4ffe-9bec-e4ded16f050c",
   "metadata": {},
   "outputs": [],
   "source": [
    "user_biases, user_train_embeddings = model.get_user_representations()"
   ]
  },
  {
   "cell_type": "markdown",
   "id": "bb8c743b-8ff0-40ce-bba3-613b6421c87c",
   "metadata": {},
   "source": [
    "Predicting train "
   ]
  },
  {
   "cell_type": "code",
   "execution_count": 24,
   "id": "244bc0f0-cd85-46e1-b0cf-4f2816026d94",
   "metadata": {},
   "outputs": [
    {
     "name": "stdout",
     "output_type": "stream",
     "text": [
      "CPU times: user 1min 5s, sys: 30.1 s, total: 1min 35s\n",
      "Wall time: 26.3 s\n"
     ]
    }
   ],
   "source": [
    "%%time\n",
    "train_user_to_recommended_items = []\n",
    "batch_size = 512\n",
    "K = 5\n",
    "for i in range(0, user_train_embeddings.shape[0], batch_size):\n",
    "    distances, labels = item_vector_index.search(user_train_embeddings[i:i+batch_size], k=K)\n",
    "    for j in range(0, labels.shape[0]):\n",
    "        train_user_to_recommended_items.extend(\n",
    "            [(i+j, label, rank) for rank, label in enumerate(labels[j])]\n",
    "        )"
   ]
  },
  {
   "cell_type": "code",
   "execution_count": 25,
   "id": "65ac4090-03ed-420f-92f9-4c0c6e9adb35",
   "metadata": {},
   "outputs": [
    {
     "data": {
      "text/html": [
       "<div>\n",
       "<style scoped>\n",
       "    .dataframe tbody tr th:only-of-type {\n",
       "        vertical-align: middle;\n",
       "    }\n",
       "\n",
       "    .dataframe tbody tr th {\n",
       "        vertical-align: top;\n",
       "    }\n",
       "\n",
       "    .dataframe thead th {\n",
       "        text-align: right;\n",
       "    }\n",
       "</style>\n",
       "<table border=\"1\" class=\"dataframe\">\n",
       "  <thead>\n",
       "    <tr style=\"text-align: right;\">\n",
       "      <th></th>\n",
       "      <th>user_id</th>\n",
       "      <th>item_id</th>\n",
       "      <th>rank</th>\n",
       "    </tr>\n",
       "  </thead>\n",
       "  <tbody>\n",
       "    <tr>\n",
       "      <th>0</th>\n",
       "      <td>0</td>\n",
       "      <td>4393</td>\n",
       "      <td>0</td>\n",
       "    </tr>\n",
       "    <tr>\n",
       "      <th>1</th>\n",
       "      <td>0</td>\n",
       "      <td>2133</td>\n",
       "      <td>1</td>\n",
       "    </tr>\n",
       "    <tr>\n",
       "      <th>2</th>\n",
       "      <td>0</td>\n",
       "      <td>3819</td>\n",
       "      <td>2</td>\n",
       "    </tr>\n",
       "    <tr>\n",
       "      <th>3</th>\n",
       "      <td>0</td>\n",
       "      <td>31</td>\n",
       "      <td>3</td>\n",
       "    </tr>\n",
       "    <tr>\n",
       "      <th>4</th>\n",
       "      <td>0</td>\n",
       "      <td>2181</td>\n",
       "      <td>4</td>\n",
       "    </tr>\n",
       "  </tbody>\n",
       "</table>\n",
       "</div>"
      ],
      "text/plain": [
       "   user_id  item_id  rank\n",
       "0        0     4393     0\n",
       "1        0     2133     1\n",
       "2        0     3819     2\n",
       "3        0       31     3\n",
       "4        0     2181     4"
      ]
     },
     "execution_count": 25,
     "metadata": {},
     "output_type": "execute_result"
    }
   ],
   "source": [
    "train_df_predicted = pd.DataFrame(data=np.array(train_user_to_recommended_items), columns=[\"user_id\", \"item_id\", \"rank\"])\n",
    "train_df_predicted.head()"
   ]
  },
  {
   "cell_type": "code",
   "execution_count": 26,
   "id": "0a2ea384-7cb8-49c6-9c3f-4da17be4ff8d",
   "metadata": {},
   "outputs": [],
   "source": [
    "## metrics functions\n",
    "def mrr_at_k_score(\n",
    "    df_true, df_pred,\n",
    "    predicted_col=\"rank\",\n",
    "    *, user_col, item_col, k=10,\n",
    "):\n",
    "    return df_true.set_index([user_col, item_col]).join(\n",
    "        df_pred.set_index([user_col, item_col]),\n",
    "        how=\"left\",\n",
    "        lsuffix=\"_true\",\n",
    "        rsuffix=\"_predicted\"\n",
    "    ).sort_values(by=[user_col, predicted_col]).assign(\n",
    "        reciprocal_rank=lambda x: 1 / x[predicted_col],\n",
    "    ).groupby(level=user_col).max().fillna(0).mean()\n",
    "\n",
    "\n",
    "def map_at_k_score(df_true, df_pred, predicted_col=\"rank\", *, user_col=\"user_id\", item_col=\"item_id\", k=10):\n",
    "    a = df_true.set_index([user_col, item_col]).join(\n",
    "        df_pred.set_index([user_col, item_col]),\n",
    "        how=\"left\",\n",
    "        lsuffix=\"_true\",\n",
    "        rsuffix=\"_predicted\"\n",
    "    ).sort_values(by=[user_col, predicted_col]).assign(\n",
    "        cumulative_rank=lambda x: x.groupby(level=user_col).cumcount() + 1\n",
    "    ).assign(\n",
    "        cumulative_rank=lambda x: x[\"cumulative_rank\"] / x[\"rank\"]\n",
    "    ).assign(\n",
    "        user_item_count=lambda x: x.groupby(level=user_col)[\"rank\"].transform(np.size)\n",
    "    )\n",
    "    users_count = a.index.get_level_values(user_col).nunique()\n",
    "    return (a[\"cumulative_rank\"] / a[\"users_item_count\"]).sum() / users_count\n"
   ]
  },
  {
   "cell_type": "code",
   "execution_count": 29,
   "id": "ccd4fb19-40da-4523-ad17-b96325d0d929",
   "metadata": {},
   "outputs": [
    {
     "ename": "KeyboardInterrupt",
     "evalue": "",
     "output_type": "error",
     "traceback": [
      "\u001b[0;31m---------------------------------------------------------------------------\u001b[0m",
      "\u001b[0;31mKeyboardInterrupt\u001b[0m                         Traceback (most recent call last)",
      "File \u001b[0;32m<timed eval>:1\u001b[0m\n",
      "Cell \u001b[0;32mIn[26], line 7\u001b[0m, in \u001b[0;36mmrr_at_k_score\u001b[0;34m(df_true, df_pred, predicted_col, user_col, item_col, k)\u001b[0m\n\u001b[1;32m      2\u001b[0m \u001b[38;5;28;01mdef\u001b[39;00m \u001b[38;5;21mmrr_at_k_score\u001b[39m(\n\u001b[1;32m      3\u001b[0m     df_true, df_pred,\n\u001b[1;32m      4\u001b[0m     predicted_col\u001b[38;5;241m=\u001b[39m\u001b[38;5;124m\"\u001b[39m\u001b[38;5;124mrank\u001b[39m\u001b[38;5;124m\"\u001b[39m,\n\u001b[1;32m      5\u001b[0m     \u001b[38;5;241m*\u001b[39m, user_col, item_col, k\u001b[38;5;241m=\u001b[39m\u001b[38;5;241m10\u001b[39m,\n\u001b[1;32m      6\u001b[0m ):\n\u001b[0;32m----> 7\u001b[0m     \u001b[38;5;28;01mreturn\u001b[39;00m \u001b[43mdf_true\u001b[49m\u001b[38;5;241;43m.\u001b[39;49m\u001b[43mset_index\u001b[49m\u001b[43m(\u001b[49m\u001b[43m[\u001b[49m\u001b[43muser_col\u001b[49m\u001b[43m,\u001b[49m\u001b[43m \u001b[49m\u001b[43mitem_col\u001b[49m\u001b[43m]\u001b[49m\u001b[43m)\u001b[49m\u001b[38;5;241;43m.\u001b[39;49m\u001b[43mjoin\u001b[49m\u001b[43m(\u001b[49m\n\u001b[1;32m      8\u001b[0m \u001b[43m        \u001b[49m\u001b[43mdf_pred\u001b[49m\u001b[38;5;241;43m.\u001b[39;49m\u001b[43mset_index\u001b[49m\u001b[43m(\u001b[49m\u001b[43m[\u001b[49m\u001b[43muser_col\u001b[49m\u001b[43m,\u001b[49m\u001b[43m \u001b[49m\u001b[43mitem_col\u001b[49m\u001b[43m]\u001b[49m\u001b[43m)\u001b[49m\u001b[43m,\u001b[49m\n\u001b[1;32m      9\u001b[0m \u001b[43m        \u001b[49m\u001b[43mhow\u001b[49m\u001b[38;5;241;43m=\u001b[39;49m\u001b[38;5;124;43m\"\u001b[39;49m\u001b[38;5;124;43mleft\u001b[39;49m\u001b[38;5;124;43m\"\u001b[39;49m\u001b[43m,\u001b[49m\n\u001b[1;32m     10\u001b[0m \u001b[43m        \u001b[49m\u001b[43mlsuffix\u001b[49m\u001b[38;5;241;43m=\u001b[39;49m\u001b[38;5;124;43m\"\u001b[39;49m\u001b[38;5;124;43m_true\u001b[39;49m\u001b[38;5;124;43m\"\u001b[39;49m\u001b[43m,\u001b[49m\n\u001b[1;32m     11\u001b[0m \u001b[43m        \u001b[49m\u001b[43mrsuffix\u001b[49m\u001b[38;5;241;43m=\u001b[39;49m\u001b[38;5;124;43m\"\u001b[39;49m\u001b[38;5;124;43m_predicted\u001b[39;49m\u001b[38;5;124;43m\"\u001b[39;49m\n\u001b[1;32m     12\u001b[0m \u001b[43m    \u001b[49m\u001b[43m)\u001b[49m\u001b[38;5;241m.\u001b[39msort_values(by\u001b[38;5;241m=\u001b[39m[user_col, predicted_col])\u001b[38;5;241m.\u001b[39massign(\n\u001b[1;32m     13\u001b[0m         reciprocal_rank\u001b[38;5;241m=\u001b[39m\u001b[38;5;28;01mlambda\u001b[39;00m x: \u001b[38;5;241m1\u001b[39m \u001b[38;5;241m/\u001b[39m x[predicted_col],\n\u001b[1;32m     14\u001b[0m     )\u001b[38;5;241m.\u001b[39mgroupby(level\u001b[38;5;241m=\u001b[39muser_col)\u001b[38;5;241m.\u001b[39mmax()\u001b[38;5;241m.\u001b[39mfillna(\u001b[38;5;241m0\u001b[39m)\u001b[38;5;241m.\u001b[39mmean()\n",
      "File \u001b[0;32m~/Projects/recsys-playground/.venv/lib/python3.10/site-packages/pandas/core/frame.py:10757\u001b[0m, in \u001b[0;36mDataFrame.join\u001b[0;34m(self, other, on, how, lsuffix, rsuffix, sort, validate)\u001b[0m\n\u001b[1;32m  10747\u001b[0m     \u001b[38;5;28;01mif\u001b[39;00m how \u001b[38;5;241m==\u001b[39m \u001b[38;5;124m\"\u001b[39m\u001b[38;5;124mcross\u001b[39m\u001b[38;5;124m\"\u001b[39m:\n\u001b[1;32m  10748\u001b[0m         \u001b[38;5;28;01mreturn\u001b[39;00m merge(\n\u001b[1;32m  10749\u001b[0m             \u001b[38;5;28mself\u001b[39m,\n\u001b[1;32m  10750\u001b[0m             other,\n\u001b[0;32m   (...)\u001b[0m\n\u001b[1;32m  10755\u001b[0m             validate\u001b[38;5;241m=\u001b[39mvalidate,\n\u001b[1;32m  10756\u001b[0m         )\n\u001b[0;32m> 10757\u001b[0m     \u001b[38;5;28;01mreturn\u001b[39;00m \u001b[43mmerge\u001b[49m\u001b[43m(\u001b[49m\n\u001b[1;32m  10758\u001b[0m \u001b[43m        \u001b[49m\u001b[38;5;28;43mself\u001b[39;49m\u001b[43m,\u001b[49m\n\u001b[1;32m  10759\u001b[0m \u001b[43m        \u001b[49m\u001b[43mother\u001b[49m\u001b[43m,\u001b[49m\n\u001b[1;32m  10760\u001b[0m \u001b[43m        \u001b[49m\u001b[43mleft_on\u001b[49m\u001b[38;5;241;43m=\u001b[39;49m\u001b[43mon\u001b[49m\u001b[43m,\u001b[49m\n\u001b[1;32m  10761\u001b[0m \u001b[43m        \u001b[49m\u001b[43mhow\u001b[49m\u001b[38;5;241;43m=\u001b[39;49m\u001b[43mhow\u001b[49m\u001b[43m,\u001b[49m\n\u001b[1;32m  10762\u001b[0m \u001b[43m        \u001b[49m\u001b[43mleft_index\u001b[49m\u001b[38;5;241;43m=\u001b[39;49m\u001b[43mon\u001b[49m\u001b[43m \u001b[49m\u001b[38;5;129;43;01mis\u001b[39;49;00m\u001b[43m \u001b[49m\u001b[38;5;28;43;01mNone\u001b[39;49;00m\u001b[43m,\u001b[49m\n\u001b[1;32m  10763\u001b[0m \u001b[43m        \u001b[49m\u001b[43mright_index\u001b[49m\u001b[38;5;241;43m=\u001b[39;49m\u001b[38;5;28;43;01mTrue\u001b[39;49;00m\u001b[43m,\u001b[49m\n\u001b[1;32m  10764\u001b[0m \u001b[43m        \u001b[49m\u001b[43msuffixes\u001b[49m\u001b[38;5;241;43m=\u001b[39;49m\u001b[43m(\u001b[49m\u001b[43mlsuffix\u001b[49m\u001b[43m,\u001b[49m\u001b[43m \u001b[49m\u001b[43mrsuffix\u001b[49m\u001b[43m)\u001b[49m\u001b[43m,\u001b[49m\n\u001b[1;32m  10765\u001b[0m \u001b[43m        \u001b[49m\u001b[43msort\u001b[49m\u001b[38;5;241;43m=\u001b[39;49m\u001b[43msort\u001b[49m\u001b[43m,\u001b[49m\n\u001b[1;32m  10766\u001b[0m \u001b[43m        \u001b[49m\u001b[43mvalidate\u001b[49m\u001b[38;5;241;43m=\u001b[39;49m\u001b[43mvalidate\u001b[49m\u001b[43m,\u001b[49m\n\u001b[1;32m  10767\u001b[0m \u001b[43m    \u001b[49m\u001b[43m)\u001b[49m\n\u001b[1;32m  10768\u001b[0m \u001b[38;5;28;01melse\u001b[39;00m:\n\u001b[1;32m  10769\u001b[0m     \u001b[38;5;28;01mif\u001b[39;00m on \u001b[38;5;129;01mis\u001b[39;00m \u001b[38;5;129;01mnot\u001b[39;00m \u001b[38;5;28;01mNone\u001b[39;00m:\n",
      "File \u001b[0;32m~/Projects/recsys-playground/.venv/lib/python3.10/site-packages/pandas/core/reshape/merge.py:184\u001b[0m, in \u001b[0;36mmerge\u001b[0;34m(left, right, how, on, left_on, right_on, left_index, right_index, sort, suffixes, copy, indicator, validate)\u001b[0m\n\u001b[1;32m    169\u001b[0m \u001b[38;5;28;01melse\u001b[39;00m:\n\u001b[1;32m    170\u001b[0m     op \u001b[38;5;241m=\u001b[39m _MergeOperation(\n\u001b[1;32m    171\u001b[0m         left_df,\n\u001b[1;32m    172\u001b[0m         right_df,\n\u001b[0;32m   (...)\u001b[0m\n\u001b[1;32m    182\u001b[0m         validate\u001b[38;5;241m=\u001b[39mvalidate,\n\u001b[1;32m    183\u001b[0m     )\n\u001b[0;32m--> 184\u001b[0m     \u001b[38;5;28;01mreturn\u001b[39;00m \u001b[43mop\u001b[49m\u001b[38;5;241;43m.\u001b[39;49m\u001b[43mget_result\u001b[49m\u001b[43m(\u001b[49m\u001b[43mcopy\u001b[49m\u001b[38;5;241;43m=\u001b[39;49m\u001b[43mcopy\u001b[49m\u001b[43m)\u001b[49m\n",
      "File \u001b[0;32m~/Projects/recsys-playground/.venv/lib/python3.10/site-packages/pandas/core/reshape/merge.py:886\u001b[0m, in \u001b[0;36m_MergeOperation.get_result\u001b[0;34m(self, copy)\u001b[0m\n\u001b[1;32m    883\u001b[0m \u001b[38;5;28;01mif\u001b[39;00m \u001b[38;5;28mself\u001b[39m\u001b[38;5;241m.\u001b[39mindicator:\n\u001b[1;32m    884\u001b[0m     \u001b[38;5;28mself\u001b[39m\u001b[38;5;241m.\u001b[39mleft, \u001b[38;5;28mself\u001b[39m\u001b[38;5;241m.\u001b[39mright \u001b[38;5;241m=\u001b[39m \u001b[38;5;28mself\u001b[39m\u001b[38;5;241m.\u001b[39m_indicator_pre_merge(\u001b[38;5;28mself\u001b[39m\u001b[38;5;241m.\u001b[39mleft, \u001b[38;5;28mself\u001b[39m\u001b[38;5;241m.\u001b[39mright)\n\u001b[0;32m--> 886\u001b[0m join_index, left_indexer, right_indexer \u001b[38;5;241m=\u001b[39m \u001b[38;5;28;43mself\u001b[39;49m\u001b[38;5;241;43m.\u001b[39;49m\u001b[43m_get_join_info\u001b[49m\u001b[43m(\u001b[49m\u001b[43m)\u001b[49m\n\u001b[1;32m    888\u001b[0m result \u001b[38;5;241m=\u001b[39m \u001b[38;5;28mself\u001b[39m\u001b[38;5;241m.\u001b[39m_reindex_and_concat(\n\u001b[1;32m    889\u001b[0m     join_index, left_indexer, right_indexer, copy\u001b[38;5;241m=\u001b[39mcopy\n\u001b[1;32m    890\u001b[0m )\n\u001b[1;32m    891\u001b[0m result \u001b[38;5;241m=\u001b[39m result\u001b[38;5;241m.\u001b[39m__finalize__(\u001b[38;5;28mself\u001b[39m, method\u001b[38;5;241m=\u001b[39m\u001b[38;5;28mself\u001b[39m\u001b[38;5;241m.\u001b[39m_merge_type)\n",
      "File \u001b[0;32m~/Projects/recsys-playground/.venv/lib/python3.10/site-packages/pandas/core/reshape/merge.py:1137\u001b[0m, in \u001b[0;36m_MergeOperation._get_join_info\u001b[0;34m(self)\u001b[0m\n\u001b[1;32m   1134\u001b[0m right_ax \u001b[38;5;241m=\u001b[39m \u001b[38;5;28mself\u001b[39m\u001b[38;5;241m.\u001b[39mright\u001b[38;5;241m.\u001b[39mindex\n\u001b[1;32m   1136\u001b[0m \u001b[38;5;28;01mif\u001b[39;00m \u001b[38;5;28mself\u001b[39m\u001b[38;5;241m.\u001b[39mleft_index \u001b[38;5;129;01mand\u001b[39;00m \u001b[38;5;28mself\u001b[39m\u001b[38;5;241m.\u001b[39mright_index \u001b[38;5;129;01mand\u001b[39;00m \u001b[38;5;28mself\u001b[39m\u001b[38;5;241m.\u001b[39mhow \u001b[38;5;241m!=\u001b[39m \u001b[38;5;124m\"\u001b[39m\u001b[38;5;124masof\u001b[39m\u001b[38;5;124m\"\u001b[39m:\n\u001b[0;32m-> 1137\u001b[0m     join_index, left_indexer, right_indexer \u001b[38;5;241m=\u001b[39m \u001b[43mleft_ax\u001b[49m\u001b[38;5;241;43m.\u001b[39;49m\u001b[43mjoin\u001b[49m\u001b[43m(\u001b[49m\n\u001b[1;32m   1138\u001b[0m \u001b[43m        \u001b[49m\u001b[43mright_ax\u001b[49m\u001b[43m,\u001b[49m\u001b[43m \u001b[49m\u001b[43mhow\u001b[49m\u001b[38;5;241;43m=\u001b[39;49m\u001b[38;5;28;43mself\u001b[39;49m\u001b[38;5;241;43m.\u001b[39;49m\u001b[43mhow\u001b[49m\u001b[43m,\u001b[49m\u001b[43m \u001b[49m\u001b[43mreturn_indexers\u001b[49m\u001b[38;5;241;43m=\u001b[39;49m\u001b[38;5;28;43;01mTrue\u001b[39;49;00m\u001b[43m,\u001b[49m\u001b[43m \u001b[49m\u001b[43msort\u001b[49m\u001b[38;5;241;43m=\u001b[39;49m\u001b[38;5;28;43mself\u001b[39;49m\u001b[38;5;241;43m.\u001b[39;49m\u001b[43msort\u001b[49m\n\u001b[1;32m   1139\u001b[0m \u001b[43m    \u001b[49m\u001b[43m)\u001b[49m\n\u001b[1;32m   1141\u001b[0m \u001b[38;5;28;01melif\u001b[39;00m \u001b[38;5;28mself\u001b[39m\u001b[38;5;241m.\u001b[39mright_index \u001b[38;5;129;01mand\u001b[39;00m \u001b[38;5;28mself\u001b[39m\u001b[38;5;241m.\u001b[39mhow \u001b[38;5;241m==\u001b[39m \u001b[38;5;124m\"\u001b[39m\u001b[38;5;124mleft\u001b[39m\u001b[38;5;124m\"\u001b[39m:\n\u001b[1;32m   1142\u001b[0m     join_index, left_indexer, right_indexer \u001b[38;5;241m=\u001b[39m _left_join_on_index(\n\u001b[1;32m   1143\u001b[0m         left_ax, right_ax, \u001b[38;5;28mself\u001b[39m\u001b[38;5;241m.\u001b[39mleft_join_keys, sort\u001b[38;5;241m=\u001b[39m\u001b[38;5;28mself\u001b[39m\u001b[38;5;241m.\u001b[39msort\n\u001b[1;32m   1144\u001b[0m     )\n",
      "File \u001b[0;32m~/Projects/recsys-playground/.venv/lib/python3.10/site-packages/pandas/core/indexes/base.py:279\u001b[0m, in \u001b[0;36m_maybe_return_indexers.<locals>.join\u001b[0;34m(self, other, how, level, return_indexers, sort)\u001b[0m\n\u001b[1;32m    269\u001b[0m \u001b[38;5;129m@functools\u001b[39m\u001b[38;5;241m.\u001b[39mwraps(meth)\n\u001b[1;32m    270\u001b[0m \u001b[38;5;28;01mdef\u001b[39;00m \u001b[38;5;21mjoin\u001b[39m(\n\u001b[1;32m    271\u001b[0m     \u001b[38;5;28mself\u001b[39m,\n\u001b[0;32m   (...)\u001b[0m\n\u001b[1;32m    277\u001b[0m     sort: \u001b[38;5;28mbool\u001b[39m \u001b[38;5;241m=\u001b[39m \u001b[38;5;28;01mFalse\u001b[39;00m,\n\u001b[1;32m    278\u001b[0m ):\n\u001b[0;32m--> 279\u001b[0m     join_index, lidx, ridx \u001b[38;5;241m=\u001b[39m \u001b[43mmeth\u001b[49m\u001b[43m(\u001b[49m\u001b[38;5;28;43mself\u001b[39;49m\u001b[43m,\u001b[49m\u001b[43m \u001b[49m\u001b[43mother\u001b[49m\u001b[43m,\u001b[49m\u001b[43m \u001b[49m\u001b[43mhow\u001b[49m\u001b[38;5;241;43m=\u001b[39;49m\u001b[43mhow\u001b[49m\u001b[43m,\u001b[49m\u001b[43m \u001b[49m\u001b[43mlevel\u001b[49m\u001b[38;5;241;43m=\u001b[39;49m\u001b[43mlevel\u001b[49m\u001b[43m,\u001b[49m\u001b[43m \u001b[49m\u001b[43msort\u001b[49m\u001b[38;5;241;43m=\u001b[39;49m\u001b[43msort\u001b[49m\u001b[43m)\u001b[49m\n\u001b[1;32m    280\u001b[0m     \u001b[38;5;28;01mif\u001b[39;00m \u001b[38;5;129;01mnot\u001b[39;00m return_indexers:\n\u001b[1;32m    281\u001b[0m         \u001b[38;5;28;01mreturn\u001b[39;00m join_index\n",
      "File \u001b[0;32m~/Projects/recsys-playground/.venv/lib/python3.10/site-packages/pandas/core/indexes/base.py:4657\u001b[0m, in \u001b[0;36mIndex.join\u001b[0;34m(self, other, how, level, return_indexers, sort)\u001b[0m\n\u001b[1;32m   4655\u001b[0m         \u001b[38;5;28;01mpass\u001b[39;00m\n\u001b[1;32m   4656\u001b[0m \u001b[38;5;28;01melif\u001b[39;00m \u001b[38;5;129;01mnot\u001b[39;00m \u001b[38;5;28mself\u001b[39m\u001b[38;5;241m.\u001b[39mis_unique \u001b[38;5;129;01mor\u001b[39;00m \u001b[38;5;129;01mnot\u001b[39;00m other\u001b[38;5;241m.\u001b[39mis_unique:\n\u001b[0;32m-> 4657\u001b[0m     \u001b[38;5;28;01mreturn\u001b[39;00m \u001b[38;5;28;43mself\u001b[39;49m\u001b[38;5;241;43m.\u001b[39;49m\u001b[43m_join_non_unique\u001b[49m\u001b[43m(\u001b[49m\u001b[43mother\u001b[49m\u001b[43m,\u001b[49m\u001b[43m \u001b[49m\u001b[43mhow\u001b[49m\u001b[38;5;241;43m=\u001b[39;49m\u001b[43mhow\u001b[49m\u001b[43m,\u001b[49m\u001b[43m \u001b[49m\u001b[43msort\u001b[49m\u001b[38;5;241;43m=\u001b[39;49m\u001b[43msort\u001b[49m\u001b[43m)\u001b[49m\n\u001b[1;32m   4659\u001b[0m \u001b[38;5;28;01mreturn\u001b[39;00m \u001b[38;5;28mself\u001b[39m\u001b[38;5;241m.\u001b[39m_join_via_get_indexer(other, how, sort)\n",
      "File \u001b[0;32m~/Projects/recsys-playground/.venv/lib/python3.10/site-packages/pandas/core/indexes/base.py:4821\u001b[0m, in \u001b[0;36mIndex._join_non_unique\u001b[0;34m(self, other, how, sort)\u001b[0m\n\u001b[1;32m   4818\u001b[0m \u001b[38;5;66;03m# We only get here if dtypes match\u001b[39;00m\n\u001b[1;32m   4819\u001b[0m \u001b[38;5;28;01massert\u001b[39;00m \u001b[38;5;28mself\u001b[39m\u001b[38;5;241m.\u001b[39mdtype \u001b[38;5;241m==\u001b[39m other\u001b[38;5;241m.\u001b[39mdtype\n\u001b[0;32m-> 4821\u001b[0m left_idx, right_idx \u001b[38;5;241m=\u001b[39m \u001b[43mget_join_indexers_non_unique\u001b[49m\u001b[43m(\u001b[49m\n\u001b[1;32m   4822\u001b[0m \u001b[43m    \u001b[49m\u001b[38;5;28;43mself\u001b[39;49m\u001b[38;5;241;43m.\u001b[39;49m\u001b[43m_values\u001b[49m\u001b[43m,\u001b[49m\u001b[43m \u001b[49m\u001b[43mother\u001b[49m\u001b[38;5;241;43m.\u001b[39;49m\u001b[43m_values\u001b[49m\u001b[43m,\u001b[49m\u001b[43m \u001b[49m\u001b[43mhow\u001b[49m\u001b[38;5;241;43m=\u001b[39;49m\u001b[43mhow\u001b[49m\u001b[43m,\u001b[49m\u001b[43m \u001b[49m\u001b[43msort\u001b[49m\u001b[38;5;241;43m=\u001b[39;49m\u001b[43msort\u001b[49m\n\u001b[1;32m   4823\u001b[0m \u001b[43m\u001b[49m\u001b[43m)\u001b[49m\n\u001b[1;32m   4824\u001b[0m mask \u001b[38;5;241m=\u001b[39m left_idx \u001b[38;5;241m==\u001b[39m \u001b[38;5;241m-\u001b[39m\u001b[38;5;241m1\u001b[39m\n\u001b[1;32m   4826\u001b[0m join_idx \u001b[38;5;241m=\u001b[39m \u001b[38;5;28mself\u001b[39m\u001b[38;5;241m.\u001b[39mtake(left_idx)\n",
      "File \u001b[0;32m~/Projects/recsys-playground/.venv/lib/python3.10/site-packages/pandas/core/reshape/merge.py:1793\u001b[0m, in \u001b[0;36mget_join_indexers_non_unique\u001b[0;34m(left, right, sort, how)\u001b[0m\n\u001b[1;32m   1770\u001b[0m \u001b[38;5;28;01mdef\u001b[39;00m \u001b[38;5;21mget_join_indexers_non_unique\u001b[39m(\n\u001b[1;32m   1771\u001b[0m     left: ArrayLike,\n\u001b[1;32m   1772\u001b[0m     right: ArrayLike,\n\u001b[1;32m   1773\u001b[0m     sort: \u001b[38;5;28mbool\u001b[39m \u001b[38;5;241m=\u001b[39m \u001b[38;5;28;01mFalse\u001b[39;00m,\n\u001b[1;32m   1774\u001b[0m     how: JoinHow \u001b[38;5;241m=\u001b[39m \u001b[38;5;124m\"\u001b[39m\u001b[38;5;124minner\u001b[39m\u001b[38;5;124m\"\u001b[39m,\n\u001b[1;32m   1775\u001b[0m ) \u001b[38;5;241m-\u001b[39m\u001b[38;5;241m>\u001b[39m \u001b[38;5;28mtuple\u001b[39m[npt\u001b[38;5;241m.\u001b[39mNDArray[np\u001b[38;5;241m.\u001b[39mintp], npt\u001b[38;5;241m.\u001b[39mNDArray[np\u001b[38;5;241m.\u001b[39mintp]]:\n\u001b[1;32m   1776\u001b[0m \u001b[38;5;250m    \u001b[39m\u001b[38;5;124;03m\"\"\"\u001b[39;00m\n\u001b[1;32m   1777\u001b[0m \u001b[38;5;124;03m    Get join indexers for left and right.\u001b[39;00m\n\u001b[1;32m   1778\u001b[0m \n\u001b[0;32m   (...)\u001b[0m\n\u001b[1;32m   1791\u001b[0m \u001b[38;5;124;03m        Indexer into right.\u001b[39;00m\n\u001b[1;32m   1792\u001b[0m \u001b[38;5;124;03m    \"\"\"\u001b[39;00m\n\u001b[0;32m-> 1793\u001b[0m     lkey, rkey, count \u001b[38;5;241m=\u001b[39m \u001b[43m_factorize_keys\u001b[49m\u001b[43m(\u001b[49m\u001b[43mleft\u001b[49m\u001b[43m,\u001b[49m\u001b[43m \u001b[49m\u001b[43mright\u001b[49m\u001b[43m,\u001b[49m\u001b[43m \u001b[49m\u001b[43msort\u001b[49m\u001b[38;5;241;43m=\u001b[39;49m\u001b[43msort\u001b[49m\u001b[43m)\u001b[49m\n\u001b[1;32m   1794\u001b[0m     \u001b[38;5;28;01mif\u001b[39;00m how \u001b[38;5;241m==\u001b[39m \u001b[38;5;124m\"\u001b[39m\u001b[38;5;124mleft\u001b[39m\u001b[38;5;124m\"\u001b[39m:\n\u001b[1;32m   1795\u001b[0m         lidx, ridx \u001b[38;5;241m=\u001b[39m libjoin\u001b[38;5;241m.\u001b[39mleft_outer_join(lkey, rkey, count, sort\u001b[38;5;241m=\u001b[39msort)\n",
      "File \u001b[0;32m~/Projects/recsys-playground/.venv/lib/python3.10/site-packages/pandas/core/reshape/merge.py:2562\u001b[0m, in \u001b[0;36m_factorize_keys\u001b[0;34m(lk, rk, sort)\u001b[0m\n\u001b[1;32m   2557\u001b[0m \u001b[38;5;28;01melse\u001b[39;00m:\n\u001b[1;32m   2558\u001b[0m     \u001b[38;5;66;03m# Argument 1 to \"factorize\" of \"ObjectFactorizer\" has incompatible type\u001b[39;00m\n\u001b[1;32m   2559\u001b[0m     \u001b[38;5;66;03m# \"Union[ndarray[Any, dtype[signedinteger[_64Bit]]],\u001b[39;00m\n\u001b[1;32m   2560\u001b[0m     \u001b[38;5;66;03m# ndarray[Any, dtype[object_]]]\"; expected \"ndarray[Any, dtype[object_]]\"\u001b[39;00m\n\u001b[1;32m   2561\u001b[0m     llab \u001b[38;5;241m=\u001b[39m rizer\u001b[38;5;241m.\u001b[39mfactorize(lk)  \u001b[38;5;66;03m# type: ignore[arg-type]\u001b[39;00m\n\u001b[0;32m-> 2562\u001b[0m     rlab \u001b[38;5;241m=\u001b[39m \u001b[43mrizer\u001b[49m\u001b[38;5;241;43m.\u001b[39;49m\u001b[43mfactorize\u001b[49m\u001b[43m(\u001b[49m\u001b[43mrk\u001b[49m\u001b[43m)\u001b[49m  \u001b[38;5;66;03m# type: ignore[arg-type]\u001b[39;00m\n\u001b[1;32m   2563\u001b[0m \u001b[38;5;28;01massert\u001b[39;00m llab\u001b[38;5;241m.\u001b[39mdtype \u001b[38;5;241m==\u001b[39m np\u001b[38;5;241m.\u001b[39mdtype(np\u001b[38;5;241m.\u001b[39mintp), llab\u001b[38;5;241m.\u001b[39mdtype\n\u001b[1;32m   2564\u001b[0m \u001b[38;5;28;01massert\u001b[39;00m rlab\u001b[38;5;241m.\u001b[39mdtype \u001b[38;5;241m==\u001b[39m np\u001b[38;5;241m.\u001b[39mdtype(np\u001b[38;5;241m.\u001b[39mintp), rlab\u001b[38;5;241m.\u001b[39mdtype\n",
      "\u001b[0;31mKeyboardInterrupt\u001b[0m: "
     ]
    }
   ],
   "source": [
    "%%time\n",
    "print(f\"\"\"Train MRR@5: {mrr_at_k_score(\n",
    "    train_df, train_df_predicted,\n",
    "    predicted_col='rank', user_col='user_id',\n",
    "    item_col='item_id', k=5,\n",
    ")}\"\"\")"
   ]
  },
  {
   "cell_type": "code",
   "execution_count": null,
   "id": "055017da-23e0-4346-8f90-e72ca572cebe",
   "metadata": {},
   "outputs": [],
   "source": [
    "%%time\n",
    "print(f\"\"\"Train mAp@5: {map_at_k_score(\n",
    "    train_df, train_df_predicted,\n",
    "    predicted_col=\"rank\", user_col=\"user_id\",\n",
    "    item_col=\"item_id\", k=5,\n",
    ")}\"\"\")"
   ]
  },
  {
   "cell_type": "code",
   "execution_count": null,
   "id": "63f7791b-e33e-4b2a-9f3e-b819ca3da5c6",
   "metadata": {},
   "outputs": [],
   "source": [
    "%%time\n",
    "train_metrics_df = (\n",
    "    train_df.set_index([\"user_id\", \"item_id\"])\n",
    "    .join(\n",
    "        train_df_predicted.set_index([\"user_id\", \"item_id\"]),\n",
    "        how=\"left\",\n",
    "        lsuffix=\"_true\",\n",
    "        rsuffix=\"_predicted\",\n",
    "    )\n",
    "    # [[\"user_id_gt]\n",
    ")\n",
    "train_metrics_df.head()"
   ]
  },
  {
   "cell_type": "code",
   "execution_count": 64,
   "id": "939f05db-9f8c-4b54-a8bf-b16f2382f71d",
   "metadata": {},
   "outputs": [
    {
     "ename": "KeyboardInterrupt",
     "evalue": "",
     "output_type": "error",
     "traceback": [
      "\u001b[0;31m---------------------------------------------------------------------------\u001b[0m",
      "\u001b[0;31mKeyboardInterrupt\u001b[0m                         Traceback (most recent call last)",
      "\u001b[0;32m<timed exec>\u001b[0m in \u001b[0;36m?\u001b[0;34m()\u001b[0m\n\u001b[1;32m      1\u001b[0m \u001b[0;34m'Could not get source, probably due dynamically evaluated source code.'\u001b[0m\u001b[0;34m\u001b[0m\u001b[0;34m\u001b[0m\u001b[0m\n",
      "\u001b[0;32m~/Projects/recsys-playground/.venv/lib/python3.10/site-packages/faiss/class_wrappers.py\u001b[0m in \u001b[0;36m?\u001b[0;34m(self, x, k, params, D, I)\u001b[0m\n\u001b[1;32m    339\u001b[0m             \u001b[0mI\u001b[0m \u001b[0;34m=\u001b[0m \u001b[0mnp\u001b[0m\u001b[0;34m.\u001b[0m\u001b[0mempty\u001b[0m\u001b[0;34m(\u001b[0m\u001b[0;34m(\u001b[0m\u001b[0mn\u001b[0m\u001b[0;34m,\u001b[0m \u001b[0mk\u001b[0m\u001b[0;34m)\u001b[0m\u001b[0;34m,\u001b[0m \u001b[0mdtype\u001b[0m\u001b[0;34m=\u001b[0m\u001b[0mnp\u001b[0m\u001b[0;34m.\u001b[0m\u001b[0mint64\u001b[0m\u001b[0;34m)\u001b[0m\u001b[0;34m\u001b[0m\u001b[0;34m\u001b[0m\u001b[0m\n\u001b[1;32m    340\u001b[0m         \u001b[0;32melse\u001b[0m\u001b[0;34m:\u001b[0m\u001b[0;34m\u001b[0m\u001b[0;34m\u001b[0m\u001b[0m\n\u001b[1;32m    341\u001b[0m             \u001b[0;32massert\u001b[0m \u001b[0mI\u001b[0m\u001b[0;34m.\u001b[0m\u001b[0mshape\u001b[0m \u001b[0;34m==\u001b[0m \u001b[0;34m(\u001b[0m\u001b[0mn\u001b[0m\u001b[0;34m,\u001b[0m \u001b[0mk\u001b[0m\u001b[0;34m)\u001b[0m\u001b[0;34m\u001b[0m\u001b[0;34m\u001b[0m\u001b[0m\n\u001b[1;32m    342\u001b[0m \u001b[0;34m\u001b[0m\u001b[0m\n\u001b[0;32m--> 343\u001b[0;31m         \u001b[0mself\u001b[0m\u001b[0;34m.\u001b[0m\u001b[0msearch_c\u001b[0m\u001b[0;34m(\u001b[0m\u001b[0mn\u001b[0m\u001b[0;34m,\u001b[0m \u001b[0mswig_ptr\u001b[0m\u001b[0;34m(\u001b[0m\u001b[0mx\u001b[0m\u001b[0;34m)\u001b[0m\u001b[0;34m,\u001b[0m \u001b[0mk\u001b[0m\u001b[0;34m,\u001b[0m \u001b[0mswig_ptr\u001b[0m\u001b[0;34m(\u001b[0m\u001b[0mD\u001b[0m\u001b[0;34m)\u001b[0m\u001b[0;34m,\u001b[0m \u001b[0mswig_ptr\u001b[0m\u001b[0;34m(\u001b[0m\u001b[0mI\u001b[0m\u001b[0;34m)\u001b[0m\u001b[0;34m,\u001b[0m \u001b[0mparams\u001b[0m\u001b[0;34m)\u001b[0m\u001b[0;34m\u001b[0m\u001b[0;34m\u001b[0m\u001b[0m\n\u001b[0m\u001b[1;32m    344\u001b[0m         \u001b[0;32mreturn\u001b[0m \u001b[0mD\u001b[0m\u001b[0;34m,\u001b[0m \u001b[0mI\u001b[0m\u001b[0;34m\u001b[0m\u001b[0;34m\u001b[0m\u001b[0m\n",
      "\u001b[0;32m~/Projects/recsys-playground/.venv/lib/python3.10/site-packages/faiss/swigfaiss.py\u001b[0m in \u001b[0;36m?\u001b[0;34m(self, n, x, k, distances, labels, params)\u001b[0m\n\u001b[1;32m   6155\u001b[0m     \u001b[0;32mdef\u001b[0m \u001b[0msearch\u001b[0m\u001b[0;34m(\u001b[0m\u001b[0mself\u001b[0m\u001b[0;34m,\u001b[0m \u001b[0mn\u001b[0m\u001b[0;34m,\u001b[0m \u001b[0mx\u001b[0m\u001b[0;34m,\u001b[0m \u001b[0mk\u001b[0m\u001b[0;34m,\u001b[0m \u001b[0mdistances\u001b[0m\u001b[0;34m,\u001b[0m \u001b[0mlabels\u001b[0m\u001b[0;34m,\u001b[0m \u001b[0mparams\u001b[0m\u001b[0;34m=\u001b[0m\u001b[0;32mNone\u001b[0m\u001b[0;34m)\u001b[0m\u001b[0;34m:\u001b[0m\u001b[0;34m\u001b[0m\u001b[0;34m\u001b[0m\u001b[0m\n\u001b[1;32m   6156\u001b[0m         \u001b[0;34mr\"\"\"assign the vectors, then call search_preassign\"\"\"\u001b[0m\u001b[0;34m\u001b[0m\u001b[0;34m\u001b[0m\u001b[0m\n\u001b[0;32m-> 6157\u001b[0;31m         \u001b[0;32mreturn\u001b[0m \u001b[0m_swigfaiss\u001b[0m\u001b[0;34m.\u001b[0m\u001b[0mIndexIVF_search\u001b[0m\u001b[0;34m(\u001b[0m\u001b[0mself\u001b[0m\u001b[0;34m,\u001b[0m \u001b[0mn\u001b[0m\u001b[0;34m,\u001b[0m \u001b[0mx\u001b[0m\u001b[0;34m,\u001b[0m \u001b[0mk\u001b[0m\u001b[0;34m,\u001b[0m \u001b[0mdistances\u001b[0m\u001b[0;34m,\u001b[0m \u001b[0mlabels\u001b[0m\u001b[0;34m,\u001b[0m \u001b[0mparams\u001b[0m\u001b[0;34m)\u001b[0m\u001b[0;34m\u001b[0m\u001b[0;34m\u001b[0m\u001b[0m\n\u001b[0m",
      "\u001b[0;31mKeyboardInterrupt\u001b[0m: "
     ]
    }
   ],
   "source": [
    "%%time\n",
    "test_user_to_recommended_items = []\n",
    "batch_size = 512\n",
    "K = 5\n",
    "for i in range(0, user_train_embeddings.shape[0], batch_size):\n",
    "    distances, labels = item_vector_index.search(user_train_embeddings[i:i+batch_size], k=K)\n",
    "    for j in range(0, labels.shape[0]):\n",
    "        train_user_to_recommended_items.extend(\n",
    "            [(i+j, label, rank) for rank, label in enumerate(labels[j])]\n",
    "        )"
   ]
  },
  {
   "cell_type": "code",
   "execution_count": null,
   "id": "6c9ea8af-97be-478c-8ea8-bfc94a7d561d",
   "metadata": {},
   "outputs": [],
   "source": [
    "train_predicted_df = pd.DataFrame(\n",
    "    {\"user_id\": np.array(train_user_to_recommended_items)[:, 0],\n",
    "     \"item_id\": np.array(train_user_to_recommended_items)[:, 1],\n",
    "     \"rank\": np.array(train_user_to_recommended_items)[:, 2],}\n",
    ")\n",
    "train_eval_df = train_df[[\"user_id\", \"item_id\"]].join(train_predicted_df, on=\"user_id\", how=\"left\")"
   ]
  },
  {
   "cell_type": "code",
   "execution_count": null,
   "id": "8130b596-350f-4d48-a883-d97fb0c8cb0d",
   "metadata": {},
   "outputs": [],
   "source": [
    "%%time\n",
    "print(\"Train precision: %.2f\" % precision_at_k(model, train_user_item_matrix, k=5, num_threads=6).mean())\n",
    "print(\"Test precision: %.2f\" % precision_at_k(model, test_user_item_matrix, k=5, num_threads=6).mean())"
   ]
  },
  {
   "cell_type": "markdown",
   "id": "508ecc55-9c78-4627-b91b-6572b53232b2",
   "metadata": {},
   "source": [
    "## Hybrid lightfm model"
   ]
  },
  {
   "cell_type": "markdown",
   "id": "1fb622d8-9725-49ea-a3a9-aa41d5f97fb6",
   "metadata": {},
   "source": [
    "!? predict forever playtime and train model on it?"
   ]
  },
  {
   "cell_type": "code",
   "execution_count": null,
   "id": "d766a630-db5e-4d10-af08-9b4e2a285e6f",
   "metadata": {},
   "outputs": [],
   "source": [
    "def load_steam_games_complete_dataset(csv_path=\"../data/raw/steam-games-complete-dataset/steam_games.csv\"):\n",
    "    def convert_price_to_float(x):\n",
    "        if isinstance(x, float):\n",
    "            return x\n",
    "        elif x.startswith(\"$\"):\n",
    "            return float(x.lstrip(\"$\"))\n",
    "        elif x == \"Free\":\n",
    "            return 0\n",
    "        else:\n",
    "            return None\n",
    "\n",
    "    # int(x.lstrip(\"$\") if x.startswith(\"$\") else (if )\n",
    "\n",
    "    df_games_complete = (\n",
    "        pd.read_csv(csv_path)\n",
    "        .query(\"types == 'app' | types == 'bundle'\")\n",
    "        .rename(columns={\"name\": \"title\", \"achievements\": \"n_game_achievements\"})\n",
    "        .assign(refined_price=lambda df: df[\"original_price\"].apply(convert_price_to_float))\n",
    "    )\n",
    "    df_games_complete[\"app_id\"] = (\n",
    "        df_games_complete.url\n",
    "        .str.removeprefix(\"https://store.steampowered.com/\")\n",
    "        .str.split(\"/\")\n",
    "        .apply(lambda x: x[1]).astype(int)\n",
    "    )\n",
    "    df_games_complete[\"app_id\"] = df_games_complete[\"app_id\"].astype(int)\n",
    "    return df_games_complete"
   ]
  },
  {
   "cell_type": "code",
   "execution_count": null,
   "id": "2f1d7e53-0a65-4502-82de-0b435481aa34",
   "metadata": {},
   "outputs": [],
   "source": [
    "df_games_complete = (\n",
    "        pd.read_csv(csv_path)\n",
    "        .query(\"types == 'app' | types == 'bundle'\")\n",
    "        .rename(columns={\"name\": \"title\", \"achievements\": \"n_game_achievements\"})\n",
    "        .assign(refined_price=lambda df: df[\"original_price\"].apply(convert_price_to_float))\n",
    "    )\n",
    "    df_games_complete[\"app_id\"] = (\n",
    "        df_games_complete.url\n",
    "        .str.removeprefix(\"https://store.steampowered.com/\")\n",
    "        .str.split(\"/\")\n",
    "        .apply(lambda x: x[1]).astype(int)\n",
    "    )"
   ]
  },
  {
   "cell_type": "code",
   "execution_count": null,
   "id": "263e11e8-d1f2-4054-9ac7-404b4fdec166",
   "metadata": {},
   "outputs": [],
   "source": [
    "developers = []\n",
    "genres = []"
   ]
  },
  {
   "cell_type": "code",
   "execution_count": null,
   "id": "fc36f379-1e3d-4ea3-ae99-493b4d59e393",
   "metadata": {},
   "outputs": [],
   "source": [
    "columns = [\"steamid\", \"appid\", \"voted_up\", \"playtime_at_review\", \"unix_timestamp_created\"]\n",
    "user_feature_columns = [\n",
    "    \"num_reviews_upon_review\", \"total_reviews_items_playtime_upon_review\", \"mean_review_score_upon_review\",\n",
    "    \"sum_votes_up_upon_review\", \"mean_votes_up_upon_review\", \"num_games_owned_upon_review\",\n",
    "]\n",
    "\n",
    "game_feature_columns = [\n",
    "    *[f\"is_developer_{x}\" for dev in developers], # one hot\n",
    "    *[f\"is_genre_{x}\" for genre in genres], # one hot\n",
    "    *[f\"desc_multilingual_embed_component_{x}\" for component in range(0, k_dim)], # dense embedding\n",
    "    *[f\"is_publisher_{x}\" for publisher in publishers], # one hot\n",
    "    *[f\"language_{x}_support\" for lang in languages], # one hot\n",
    "    # \"n_days_from_release\", \"n_months_from_release\", \"n_years_from_release\",\n",
    "    \"n_game_achievements\",\n",
    "    \"win_support\", \"mac_support\", \"linux_support\", \"steam_deck_support\",\n",
    ")"
   ]
  },
  {
   "cell_type": "code",
   "execution_count": null,
   "id": "b3ad62da-d9b6-4fa9-a719-3219ad3f8a45",
   "metadata": {},
   "outputs": [],
   "source": []
  }
 ],
 "metadata": {
  "kernelspec": {
   "display_name": "Python 3 (ipykernel)",
   "language": "python",
   "name": "python3"
  },
  "language_info": {
   "codemirror_mode": {
    "name": "ipython",
    "version": 3
   },
   "file_extension": ".py",
   "mimetype": "text/x-python",
   "name": "python",
   "nbconvert_exporter": "python",
   "pygments_lexer": "ipython3",
   "version": "3.10.13"
  }
 },
 "nbformat": 4,
 "nbformat_minor": 5
}
