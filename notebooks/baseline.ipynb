{
 "cells": [
  {
   "cell_type": "code",
   "execution_count": 25,
   "id": "4dc26ffc-0ac5-4e75-985f-b5e06d13662c",
   "metadata": {},
   "outputs": [],
   "source": [
    "import pathlib\n",
    "\n",
    "import numpy as np\n",
    "import pandas as pd\n",
    "import matplotlib.pyplot as plt\n",
    "import seaborn as sns\n",
    "from implicit import als, lmf\n",
    "from scipy.sparse import csr_matrix"
   ]
  },
  {
   "cell_type": "code",
   "execution_count": 26,
   "id": "c2332abd-563f-4223-9a7d-820f8b818c3a",
   "metadata": {
    "scrolled": true
   },
   "outputs": [
    {
     "name": "stdout",
     "output_type": "stream",
     "text": [
      "CPU times: user 59 s, sys: 9.75 s, total: 1min 8s\n",
      "Wall time: 1min 12s\n"
     ]
    },
    {
     "data": {
      "text/html": [
       "<div>\n",
       "<style scoped>\n",
       "    .dataframe tbody tr th:only-of-type {\n",
       "        vertical-align: middle;\n",
       "    }\n",
       "\n",
       "    .dataframe tbody tr th {\n",
       "        vertical-align: top;\n",
       "    }\n",
       "\n",
       "    .dataframe thead th {\n",
       "        text-align: right;\n",
       "    }\n",
       "</style>\n",
       "<table border=\"1\" class=\"dataframe\">\n",
       "  <thead>\n",
       "    <tr style=\"text-align: right;\">\n",
       "      <th></th>\n",
       "      <th>steamid</th>\n",
       "      <th>appid</th>\n",
       "      <th>voted_up</th>\n",
       "      <th>votes_up</th>\n",
       "      <th>votes_funny</th>\n",
       "      <th>weighted_vote_score</th>\n",
       "      <th>playtime_forever</th>\n",
       "      <th>playtime_at_review</th>\n",
       "      <th>num_games_owned</th>\n",
       "      <th>num_reviews</th>\n",
       "      <th>review</th>\n",
       "      <th>unix_timestamp_created</th>\n",
       "      <th>unix_timestamp_updated</th>\n",
       "    </tr>\n",
       "  </thead>\n",
       "  <tbody>\n",
       "    <tr>\n",
       "      <th>0</th>\n",
       "      <td>76561198024044792</td>\n",
       "      <td>342550</td>\n",
       "      <td>False</td>\n",
       "      <td>4</td>\n",
       "      <td>0</td>\n",
       "      <td>0.571289</td>\n",
       "      <td>39</td>\n",
       "      <td>39</td>\n",
       "      <td>574</td>\n",
       "      <td>22</td>\n",
       "      <td>While this game seems promising, it's really j...</td>\n",
       "      <td>1601155855</td>\n",
       "      <td>1601155855</td>\n",
       "    </tr>\n",
       "    <tr>\n",
       "      <th>1</th>\n",
       "      <td>76561198225145856</td>\n",
       "      <td>342550</td>\n",
       "      <td>False</td>\n",
       "      <td>0</td>\n",
       "      <td>0</td>\n",
       "      <td>0.000000</td>\n",
       "      <td>103</td>\n",
       "      <td>103</td>\n",
       "      <td>52</td>\n",
       "      <td>12</td>\n",
       "      <td>Fuck this game. No updates, no nothing. Just T...</td>\n",
       "      <td>1592746747</td>\n",
       "      <td>1592746747</td>\n",
       "    </tr>\n",
       "    <tr>\n",
       "      <th>2</th>\n",
       "      <td>76561198066087993</td>\n",
       "      <td>342550</td>\n",
       "      <td>False</td>\n",
       "      <td>1</td>\n",
       "      <td>0</td>\n",
       "      <td>0.476190</td>\n",
       "      <td>191</td>\n",
       "      <td>191</td>\n",
       "      <td>149</td>\n",
       "      <td>2</td>\n",
       "      <td>Nothing about this game should have legally be...</td>\n",
       "      <td>1590110583</td>\n",
       "      <td>1590110583</td>\n",
       "    </tr>\n",
       "    <tr>\n",
       "      <th>3</th>\n",
       "      <td>76561198118355028</td>\n",
       "      <td>342550</td>\n",
       "      <td>True</td>\n",
       "      <td>1</td>\n",
       "      <td>0</td>\n",
       "      <td>0.524829</td>\n",
       "      <td>1679</td>\n",
       "      <td>1679</td>\n",
       "      <td>98</td>\n",
       "      <td>33</td>\n",
       "      <td>The game looks interesting whit that Lovercraf...</td>\n",
       "      <td>1582193846</td>\n",
       "      <td>1582193846</td>\n",
       "    </tr>\n",
       "    <tr>\n",
       "      <th>4</th>\n",
       "      <td>76561198038091775</td>\n",
       "      <td>342550</td>\n",
       "      <td>False</td>\n",
       "      <td>0</td>\n",
       "      <td>0</td>\n",
       "      <td>0.000000</td>\n",
       "      <td>107</td>\n",
       "      <td>107</td>\n",
       "      <td>604</td>\n",
       "      <td>61</td>\n",
       "      <td>Got this game when it was a paid for. I enjoye...</td>\n",
       "      <td>1579007301</td>\n",
       "      <td>1579007301</td>\n",
       "    </tr>\n",
       "  </tbody>\n",
       "</table>\n",
       "</div>"
      ],
      "text/plain": [
       "             steamid   appid  voted_up  votes_up  votes_funny  \\\n",
       "0  76561198024044792  342550     False         4            0   \n",
       "1  76561198225145856  342550     False         0            0   \n",
       "2  76561198066087993  342550     False         1            0   \n",
       "3  76561198118355028  342550      True         1            0   \n",
       "4  76561198038091775  342550     False         0            0   \n",
       "\n",
       "   weighted_vote_score  playtime_forever  playtime_at_review  num_games_owned  \\\n",
       "0             0.571289                39                  39              574   \n",
       "1             0.000000               103                 103               52   \n",
       "2             0.476190               191                 191              149   \n",
       "3             0.524829              1679                1679               98   \n",
       "4             0.000000               107                 107              604   \n",
       "\n",
       "   num_reviews                                             review  \\\n",
       "0           22  While this game seems promising, it's really j...   \n",
       "1           12  Fuck this game. No updates, no nothing. Just T...   \n",
       "2            2  Nothing about this game should have legally be...   \n",
       "3           33  The game looks interesting whit that Lovercraf...   \n",
       "4           61  Got this game when it was a paid for. I enjoye...   \n",
       "\n",
       "   unix_timestamp_created  unix_timestamp_updated  \n",
       "0              1601155855              1601155855  \n",
       "1              1592746747              1592746747  \n",
       "2              1590110583              1590110583  \n",
       "3              1582193846              1582193846  \n",
       "4              1579007301              1579007301  "
      ]
     },
     "execution_count": 26,
     "metadata": {},
     "output_type": "execute_result"
    }
   ],
   "source": [
    "%%time\n",
    "chunk_paths = [path for path in pathlib.Path(\"../data/raw/steam-reviews-dataset/\").glob(\"*.csv\")]\n",
    "dfs = []\n",
    "for i in chunk_paths:\n",
    "    dfs.append(pd.read_csv(i))\n",
    "df = pd.concat(dfs)\n",
    "# df = pd.read_csv(\"../data/raw/steam-reviews-dataset/reviews-1-115.csv\")\n",
    "df.head()"
   ]
  },
  {
   "cell_type": "code",
   "execution_count": 27,
   "id": "041db708-ad0a-4f68-b28f-4afefad50fae",
   "metadata": {},
   "outputs": [
    {
     "name": "stdout",
     "output_type": "stream",
     "text": [
      "(15437471, 13)\n"
     ]
    }
   ],
   "source": [
    "print(df.shape)"
   ]
  },
  {
   "cell_type": "code",
   "execution_count": 28,
   "id": "eb04faad-73e5-463b-a54f-efd15ae23eec",
   "metadata": {},
   "outputs": [],
   "source": [
    "df[\"unix_timestamp_created\"] = pd.to_datetime(df[\"unix_timestamp_created\"], unit=\"s\")\n",
    "df[\"unix_timestamp_updated\"] = pd.to_datetime(df[\"unix_timestamp_updated\"], unit=\"s\")\n",
    "# df[\"unix_timestamp_created\"] = \n",
    "df[\"voted_up\"] = df[\"voted_up\"].astype(int)"
   ]
  },
  {
   "cell_type": "code",
   "execution_count": 31,
   "id": "1f141cc1-ab51-4331-b613-56b83e1283e0",
   "metadata": {},
   "outputs": [
    {
     "name": "stdout",
     "output_type": "stream",
     "text": [
      "2010-10-15 22:27:49\n",
      "2021-04-23 04:35:33\n"
     ]
    }
   ],
   "source": [
    "print(df[\"unix_timestamp_created\"].min())\n",
    "print(df[\"unix_timestamp_created\"].max())"
   ]
  },
  {
   "cell_type": "markdown",
   "id": "8df5e8b4-7e8d-42e9-a1b4-5500329ce3ed",
   "metadata": {},
   "source": [
    "Let's take train from min timestamp to July of 2020. Test from July 2020 to December 2020. Validation from January 2021 to max timestamp."
   ]
  },
  {
   "cell_type": "code",
   "execution_count": 34,
   "id": "0e258e30-d652-4c68-b2c6-6dceaa7ff1f9",
   "metadata": {},
   "outputs": [
    {
     "data": {
      "text/plain": [
       "0         False\n",
       "1         False\n",
       "2          True\n",
       "3          True\n",
       "4          True\n",
       "          ...  \n",
       "623037     True\n",
       "623038     True\n",
       "623039     True\n",
       "623040     True\n",
       "623041     True\n",
       "Name: unix_timestamp_created, Length: 15437471, dtype: bool"
      ]
     },
     "execution_count": 34,
     "metadata": {},
     "output_type": "execute_result"
    }
   ],
   "source": []
  },
  {
   "cell_type": "code",
   "execution_count": 37,
   "id": "061f11a1-634e-481b-8c1f-e32b03854a2c",
   "metadata": {},
   "outputs": [],
   "source": [
    "train_df = df[df[\"unix_timestamp_created\"] < \"2020-06-01\"]\n",
    "test_df = df[(df[\"unix_timestamp_created\"] >= \"2020-06-01\") & (df[\"unix_timestamp_created\"] < \"2021-01-01\")]\n",
    "validation_df = df[df[\"unix_timestamp_created\"] >= \"2021-01-01\"]"
   ]
  },
  {
   "cell_type": "code",
   "execution_count": 38,
   "id": "195b8e57-2ea8-4765-88a7-dc3397ac61a4",
   "metadata": {},
   "outputs": [
    {
     "name": "stdout",
     "output_type": "stream",
     "text": [
      "(12231699, 13)\n",
      "(2080330, 13)\n",
      "(1125442, 13)\n"
     ]
    }
   ],
   "source": [
    "print(train_df.shape)\n",
    "print(test_df.shape)\n",
    "print(validation_df.shape)"
   ]
  },
  {
   "cell_type": "markdown",
   "id": "3f174d7b-d080-4b35-b78a-1fa7c103a0b6",
   "metadata": {},
   "source": [
    "Remove cold start games and users from test and validation sets"
   ]
  },
  {
   "cell_type": "code",
   "execution_count": 39,
   "id": "9357a777-65d5-49ae-9471-f63de8d17389",
   "metadata": {},
   "outputs": [],
   "source": [
    "test_df = test_df[test_df.steamid.isin(train_df.steamid) & test_df.appid.isin(train_df.appid)]\n",
    "validation_df = validation_df[validation_df.steamid.isin(train_df.steamid) & validation_df.appid.isin(train_df.appid)]"
   ]
  },
  {
   "cell_type": "code",
   "execution_count": 42,
   "id": "c5415974-fffb-4201-b443-ae658f4667c7",
   "metadata": {},
   "outputs": [
    {
     "name": "stdout",
     "output_type": "stream",
     "text": [
      "(12231699, 13)\n",
      "(1035993, 13)\n",
      "(443294, 13)\n"
     ]
    }
   ],
   "source": [
    "print(train_df.shape)\n",
    "print(test_df.shape)\n",
    "print(validation_df.shape)"
   ]
  },
  {
   "cell_type": "markdown",
   "id": "61f3843f-76b5-486b-9376-09efeccf8185",
   "metadata": {},
   "source": [
    "Form dataset"
   ]
  },
  {
   "cell_type": "code",
   "execution_count": 43,
   "id": "ab61865d-9bb6-4ad2-b0d9-f47e0d9d3a90",
   "metadata": {},
   "outputs": [],
   "source": [
    "columns = [\"steamid\", \"appid\", \"voted_up\", \"playtime_at_review\", \"unix_timestamp_created\"]"
   ]
  },
  {
   "cell_type": "code",
   "execution_count": 21,
   "id": "4ad33915-c103-4c8b-8218-bed2eb8f9b5e",
   "metadata": {},
   "outputs": [
    {
     "name": "stderr",
     "output_type": "stream",
     "text": [
      "/var/folders/58/q1f7wcd51gjfk1jks4vsk0z80000gn/T/ipykernel_21855/1354114264.py:4: SettingWithCopyWarning: \n",
      "A value is trying to be set on a copy of a slice from a DataFrame.\n",
      "Try using .loc[row_indexer,col_indexer] = value instead\n",
      "\n",
      "See the caveats in the documentation: https://pandas.pydata.org/pandas-docs/stable/user_guide/indexing.html#returning-a-view-versus-a-copy\n",
      "  dataset.loc[:, \"user_id\"] = dataset[\"steamid\"].map(steamid_to_index)\n",
      "/var/folders/58/q1f7wcd51gjfk1jks4vsk0z80000gn/T/ipykernel_21855/1354114264.py:5: SettingWithCopyWarning: \n",
      "A value is trying to be set on a copy of a slice from a DataFrame.\n",
      "Try using .loc[row_indexer,col_indexer] = value instead\n",
      "\n",
      "See the caveats in the documentation: https://pandas.pydata.org/pandas-docs/stable/user_guide/indexing.html#returning-a-view-versus-a-copy\n",
      "  dataset.loc[:, \"item_id\"] = dataset[\"appid\"].map(app_id_to_index)\n"
     ]
    }
   ],
   "source": [
    "dataset = df[[\"steamid\", \"appid\", \"voted_up\", \"playtime_at_review\", \"unix_timestamp_created\"]]\n",
    "steamid_to_index = {steam_id: index for index, steam_id in enumerate(dataset[\"steamid\"].values)}\n",
    "app_id_to_index = {app_id: index for index, app_id in enumerate(dataset[\"appid\"].values)}\n",
    "dataset.loc[:, \"user_id\"] = dataset[\"steamid\"].map(steamid_to_index)\n",
    "dataset.loc[:, \"item_id\"] = dataset[\"appid\"].map(app_id_to_index)\n",
    "# dataset.to_csv(\"../data/interim/steam-games-review-interim.csv\")"
   ]
  },
  {
   "cell_type": "markdown",
   "id": "b83f5809-684c-4970-92c6-9735d62115da",
   "metadata": {},
   "source": [
    "Add train-test-split on datetime"
   ]
  },
  {
   "cell_type": "markdown",
   "id": "b59fec9e-030c-4b5a-93b7-73f83f935e43",
   "metadata": {},
   "source": [
    "## Explicit feedback"
   ]
  },
  {
   "cell_type": "code",
   "execution_count": 10,
   "id": "22253336-94dd-43f8-b5eb-3c3f9c0d81dc",
   "metadata": {},
   "outputs": [
    {
     "name": "stdout",
     "output_type": "stream",
     "text": [
      "CPU times: user 27.6 ms, sys: 16.9 ms, total: 44.5 ms\n",
      "Wall time: 43.3 ms\n"
     ]
    }
   ],
   "source": [
    "%%time\n",
    "# positive_reviews = dataset.query(\"voted_up == 1\")\n",
    "user_item_matrix = csr_matrix(\n",
    "    (dataset[\"voted_up\"].to_numpy(), (dataset[\"user_id\"].to_numpy(), dataset[\"item_id\"].to_numpy())),\n",
    "    # shape=(dataset[\"steamid\"].nunique(), dataset[\"appid\"].nunique()),\n",
    ")"
   ]
  },
  {
   "cell_type": "code",
   "execution_count": 12,
   "id": "b3573c23-1ab0-4cc6-b9ea-5ecff9c51046",
   "metadata": {},
   "outputs": [
    {
     "data": {
      "application/vnd.jupyter.widget-view+json": {
       "model_id": "2d14d28f77874193854e4a2f79d74f3f",
       "version_major": 2,
       "version_minor": 0
      },
      "text/plain": [
       "  0%|          | 0/15 [00:00<?, ?it/s]"
      ]
     },
     "metadata": {},
     "output_type": "display_data"
    },
    {
     "name": "stdout",
     "output_type": "stream",
     "text": [
      "CPU times: user 45 s, sys: 952 ms, total: 46 s\n",
      "Wall time: 47.2 s\n"
     ]
    }
   ],
   "source": [
    "%%time\n",
    "# Initialize and train the ALS model\n",
    "model = als.AlternatingLeastSquares(factors=50, regularization=0.1, random_state=21122024) #factors is the number of latent factors\n",
    "model.fit(user_item_matrix)"
   ]
  },
  {
   "cell_type": "code",
   "execution_count": 60,
   "id": "9ac0b19b-dd02-4755-8482-df3c0075d99d",
   "metadata": {},
   "outputs": [],
   "source": [
    "model.save(\"../models/als-all-reviews-f-50-r-0.1-21-12-2024.npz\")"
   ]
  },
  {
   "cell_type": "markdown",
   "id": "e5768bef-e009-484f-a2f7-4b701f184058",
   "metadata": {},
   "source": [
    "Calculate mAp@10, calculate diversity and novelty. Cold start on games or users? "
   ]
  },
  {
   "cell_type": "code",
   "execution_count": null,
   "id": "8329df6a-15c0-4dce-a0dd-a20ea9607606",
   "metadata": {},
   "outputs": [],
   "source": [
    "# Recommend items for a user\n",
    "user_id = 0\n",
    "recommendations = model.recommend(user_id, user_item_matrix[user_id])\n",
    "print(recommendations)\n",
    "\n",
    "# Get similar items\n",
    "item_id = 0\n",
    "similar = model.similar_items(item_id)\n",
    "print(similar)"
   ]
  },
  {
   "cell_type": "markdown",
   "id": "265470e6-90ec-450e-b31b-5e597314ff9c",
   "metadata": {},
   "source": [
    "## Implicit feedback"
   ]
  },
  {
   "cell_type": "code",
   "execution_count": 22,
   "id": "eeddfade-2205-4878-bb43-c91fff3fdfc0",
   "metadata": {},
   "outputs": [],
   "source": [
    "user_item_matrix_implicit = csr_matrix(\n",
    "    (dataset[\"playtime_at_review\"].to_numpy(), (dataset[\"user_id\"].to_numpy(), dataset[\"item_id\"].to_numpy())),\n",
    "    # shape=(dataset[\"steamid\"].nunique(), dataset[\"appid\"].nunique()),\n",
    ")"
   ]
  },
  {
   "cell_type": "code",
   "execution_count": 24,
   "id": "b3c1f9ec-6202-41c6-b6b0-e7c492c25465",
   "metadata": {},
   "outputs": [
    {
     "data": {
      "application/vnd.jupyter.widget-view+json": {
       "model_id": "4fef2c4b1618413a99d271d0a21bfcee",
       "version_major": 2,
       "version_minor": 0
      },
      "text/plain": [
       "  0%|          | 0/30 [00:00<?, ?it/s]"
      ]
     },
     "metadata": {},
     "output_type": "display_data"
    }
   ],
   "source": [
    "model_implicit = lmf.LogisticMatrixFactorization(factors=30, regularization=0.1, random_state=21122024)\n",
    "model_implicit.fit(user_item_matrix_implicit)"
   ]
  },
  {
   "cell_type": "code",
   "execution_count": null,
   "id": "4745e1ba-676e-4c48-a0a8-80ddc6c3c46f",
   "metadata": {},
   "outputs": [],
   "source": []
  }
 ],
 "metadata": {
  "kernelspec": {
   "display_name": "Python 3 (ipykernel)",
   "language": "python",
   "name": "python3"
  },
  "language_info": {
   "codemirror_mode": {
    "name": "ipython",
    "version": 3
   },
   "file_extension": ".py",
   "mimetype": "text/x-python",
   "name": "python",
   "nbconvert_exporter": "python",
   "pygments_lexer": "ipython3",
   "version": "3.13.1"
  }
 },
 "nbformat": 4,
 "nbformat_minor": 5
}
