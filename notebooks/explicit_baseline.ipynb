{
 "cells": [
  {
   "cell_type": "code",
   "execution_count": 13,
   "id": "4dc26ffc-0ac5-4e75-985f-b5e06d13662c",
   "metadata": {},
   "outputs": [],
   "source": [
    "import pathlib\n",
    "\n",
    "import numpy as np\n",
    "import pandas as pd\n",
    "import matplotlib.pyplot as plt\n",
    "import seaborn as sns\n",
    "from implicit import als, lmf\n",
    "from scipy.sparse import csr_matrix"
   ]
  },
  {
   "cell_type": "code",
   "execution_count": 2,
   "id": "bf0f6dfb-93f1-4cfd-8080-445131cea500",
   "metadata": {},
   "outputs": [
    {
     "name": "stdout",
     "output_type": "stream",
     "text": [
      "reviews-1-115.csv       reviews-13495-13500.csv reviews-4575-6805.csv\n",
      "reviews-11265-13495.csv reviews-13500-13537.csv reviews-6805-9035.csv\n",
      "reviews-115-1230.csv    reviews-13537-27075.csv reviews-9035-11265.csv\n",
      "reviews-1230-2345.csv   reviews-2345-4575.csv\n"
     ]
    }
   ],
   "source": [
    "!ls ../data/raw/steam-reviews-dataset/"
   ]
  },
  {
   "cell_type": "code",
   "execution_count": 17,
   "id": "c2332abd-563f-4223-9a7d-820f8b818c3a",
   "metadata": {
    "scrolled": true
   },
   "outputs": [
    {
     "name": "stdout",
     "output_type": "stream",
     "text": [
      "CPU times: user 3.27 s, sys: 550 ms, total: 3.82 s\n",
      "Wall time: 4.14 s\n"
     ]
    },
    {
     "data": {
      "text/html": [
       "<div>\n",
       "<style scoped>\n",
       "    .dataframe tbody tr th:only-of-type {\n",
       "        vertical-align: middle;\n",
       "    }\n",
       "\n",
       "    .dataframe tbody tr th {\n",
       "        vertical-align: top;\n",
       "    }\n",
       "\n",
       "    .dataframe thead th {\n",
       "        text-align: right;\n",
       "    }\n",
       "</style>\n",
       "<table border=\"1\" class=\"dataframe\">\n",
       "  <thead>\n",
       "    <tr style=\"text-align: right;\">\n",
       "      <th></th>\n",
       "      <th>steamid</th>\n",
       "      <th>appid</th>\n",
       "      <th>voted_up</th>\n",
       "      <th>votes_up</th>\n",
       "      <th>votes_funny</th>\n",
       "      <th>weighted_vote_score</th>\n",
       "      <th>playtime_forever</th>\n",
       "      <th>playtime_at_review</th>\n",
       "      <th>num_games_owned</th>\n",
       "      <th>num_reviews</th>\n",
       "      <th>review</th>\n",
       "      <th>unix_timestamp_created</th>\n",
       "      <th>unix_timestamp_updated</th>\n",
       "    </tr>\n",
       "  </thead>\n",
       "  <tbody>\n",
       "    <tr>\n",
       "      <th>0</th>\n",
       "      <td>76561198107294407</td>\n",
       "      <td>10</td>\n",
       "      <td>True</td>\n",
       "      <td>0</td>\n",
       "      <td>0</td>\n",
       "      <td>0.0</td>\n",
       "      <td>8549</td>\n",
       "      <td>8549</td>\n",
       "      <td>3</td>\n",
       "      <td>1</td>\n",
       "      <td>best gameplay ever created</td>\n",
       "      <td>1619038050</td>\n",
       "      <td>1619038050</td>\n",
       "    </tr>\n",
       "    <tr>\n",
       "      <th>1</th>\n",
       "      <td>76561198011733201</td>\n",
       "      <td>10</td>\n",
       "      <td>True</td>\n",
       "      <td>0</td>\n",
       "      <td>0</td>\n",
       "      <td>0.0</td>\n",
       "      <td>25381</td>\n",
       "      <td>25381</td>\n",
       "      <td>74</td>\n",
       "      <td>1</td>\n",
       "      <td>Timeless. Thank you volvo.</td>\n",
       "      <td>1619013754</td>\n",
       "      <td>1619013754</td>\n",
       "    </tr>\n",
       "    <tr>\n",
       "      <th>2</th>\n",
       "      <td>76561198168961276</td>\n",
       "      <td>10</td>\n",
       "      <td>True</td>\n",
       "      <td>0</td>\n",
       "      <td>0</td>\n",
       "      <td>0.0</td>\n",
       "      <td>681</td>\n",
       "      <td>616</td>\n",
       "      <td>26</td>\n",
       "      <td>6</td>\n",
       "      <td>this game literally made me love guns and fps ...</td>\n",
       "      <td>1619008681</td>\n",
       "      <td>1619008681</td>\n",
       "    </tr>\n",
       "    <tr>\n",
       "      <th>3</th>\n",
       "      <td>76561198957877160</td>\n",
       "      <td>10</td>\n",
       "      <td>True</td>\n",
       "      <td>0</td>\n",
       "      <td>0</td>\n",
       "      <td>0.0</td>\n",
       "      <td>2071</td>\n",
       "      <td>1990</td>\n",
       "      <td>5</td>\n",
       "      <td>1</td>\n",
       "      <td>If this gets a rework in 2021 it's going to be...</td>\n",
       "      <td>1619003706</td>\n",
       "      <td>1619003706</td>\n",
       "    </tr>\n",
       "    <tr>\n",
       "      <th>4</th>\n",
       "      <td>76561199050314447</td>\n",
       "      <td>10</td>\n",
       "      <td>True</td>\n",
       "      <td>0</td>\n",
       "      <td>0</td>\n",
       "      <td>0.0</td>\n",
       "      <td>36718</td>\n",
       "      <td>36718</td>\n",
       "      <td>3</td>\n",
       "      <td>1</td>\n",
       "      <td>ok</td>\n",
       "      <td>1618994842</td>\n",
       "      <td>1618994842</td>\n",
       "    </tr>\n",
       "  </tbody>\n",
       "</table>\n",
       "</div>"
      ],
      "text/plain": [
       "             steamid  appid  voted_up  votes_up  votes_funny  \\\n",
       "0  76561198107294407     10      True         0            0   \n",
       "1  76561198011733201     10      True         0            0   \n",
       "2  76561198168961276     10      True         0            0   \n",
       "3  76561198957877160     10      True         0            0   \n",
       "4  76561199050314447     10      True         0            0   \n",
       "\n",
       "   weighted_vote_score  playtime_forever  playtime_at_review  num_games_owned  \\\n",
       "0                  0.0              8549                8549                3   \n",
       "1                  0.0             25381               25381               74   \n",
       "2                  0.0               681                 616               26   \n",
       "3                  0.0              2071                1990                5   \n",
       "4                  0.0             36718               36718                3   \n",
       "\n",
       "   num_reviews                                             review  \\\n",
       "0            1                         best gameplay ever created   \n",
       "1            1                         Timeless. Thank you volvo.   \n",
       "2            6  this game literally made me love guns and fps ...   \n",
       "3            1  If this gets a rework in 2021 it's going to be...   \n",
       "4            1                                                 ok   \n",
       "\n",
       "   unix_timestamp_created  unix_timestamp_updated  \n",
       "0              1619038050              1619038050  \n",
       "1              1619013754              1619013754  \n",
       "2              1619008681              1619008681  \n",
       "3              1619003706              1619003706  \n",
       "4              1618994842              1618994842  "
      ]
     },
     "execution_count": 17,
     "metadata": {},
     "output_type": "execute_result"
    }
   ],
   "source": [
    "%%time\n",
    "# chunk_paths = [path for path in pathlib.Path(\"../data/raw/steam-reviews-dataset/\").glob(\"*.csv\")]\n",
    "# dfs = []\n",
    "# for i in chunk_paths:\n",
    "#     dfs.append(pd.read_csv(i))\n",
    "# df = pd.concat(dfs)\n",
    "df = pd.read_csv(\"../data/raw/steam-reviews-dataset/reviews-1-115.csv\")\n",
    "df.head()"
   ]
  },
  {
   "cell_type": "code",
   "execution_count": 18,
   "id": "041db708-ad0a-4f68-b28f-4afefad50fae",
   "metadata": {},
   "outputs": [
    {
     "name": "stdout",
     "output_type": "stream",
     "text": [
      "(1460621, 13)\n"
     ]
    }
   ],
   "source": [
    "print(df.shape)"
   ]
  },
  {
   "cell_type": "code",
   "execution_count": 19,
   "id": "eb04faad-73e5-463b-a54f-efd15ae23eec",
   "metadata": {},
   "outputs": [],
   "source": [
    "df[\"unix_timestamp_created\"] = pd.to_datetime(df[\"unix_timestamp_created\"], unit=\"s\")\n",
    "df[\"unix_timestamp_updated\"] = pd.to_datetime(df[\"unix_timestamp_updated\"], unit=\"s\")\n",
    "# df[\"unix_timestamp_created\"] = "
   ]
  },
  {
   "cell_type": "code",
   "execution_count": 20,
   "id": "6c8a4f8d-c965-408f-a8f7-500015a7cba1",
   "metadata": {},
   "outputs": [],
   "source": [
    "df[\"voted_up\"] = df[\"voted_up\"].astype(int)"
   ]
  },
  {
   "cell_type": "code",
   "execution_count": 21,
   "id": "4ad33915-c103-4c8b-8218-bed2eb8f9b5e",
   "metadata": {},
   "outputs": [
    {
     "name": "stderr",
     "output_type": "stream",
     "text": [
      "/var/folders/58/q1f7wcd51gjfk1jks4vsk0z80000gn/T/ipykernel_21855/1354114264.py:4: SettingWithCopyWarning: \n",
      "A value is trying to be set on a copy of a slice from a DataFrame.\n",
      "Try using .loc[row_indexer,col_indexer] = value instead\n",
      "\n",
      "See the caveats in the documentation: https://pandas.pydata.org/pandas-docs/stable/user_guide/indexing.html#returning-a-view-versus-a-copy\n",
      "  dataset.loc[:, \"user_id\"] = dataset[\"steamid\"].map(steamid_to_index)\n",
      "/var/folders/58/q1f7wcd51gjfk1jks4vsk0z80000gn/T/ipykernel_21855/1354114264.py:5: SettingWithCopyWarning: \n",
      "A value is trying to be set on a copy of a slice from a DataFrame.\n",
      "Try using .loc[row_indexer,col_indexer] = value instead\n",
      "\n",
      "See the caveats in the documentation: https://pandas.pydata.org/pandas-docs/stable/user_guide/indexing.html#returning-a-view-versus-a-copy\n",
      "  dataset.loc[:, \"item_id\"] = dataset[\"appid\"].map(app_id_to_index)\n"
     ]
    }
   ],
   "source": [
    "dataset = df[[\"steamid\", \"appid\", \"voted_up\", \"playtime_at_review\", \"unix_timestamp_created\"]]\n",
    "steamid_to_index = {steam_id: index for index, steam_id in enumerate(dataset[\"steamid\"].values)}\n",
    "app_id_to_index = {app_id: index for index, app_id in enumerate(dataset[\"appid\"].values)}\n",
    "dataset.loc[:, \"user_id\"] = dataset[\"steamid\"].map(steamid_to_index)\n",
    "dataset.loc[:, \"item_id\"] = dataset[\"appid\"].map(app_id_to_index)\n",
    "# dataset.to_csv(\"../data/interim/steam-games-review-interim.csv\")"
   ]
  },
  {
   "cell_type": "markdown",
   "id": "b83f5809-684c-4970-92c6-9735d62115da",
   "metadata": {},
   "source": [
    "Add train-test-split on datetime"
   ]
  },
  {
   "cell_type": "markdown",
   "id": "b59fec9e-030c-4b5a-93b7-73f83f935e43",
   "metadata": {},
   "source": [
    "## Explicit feedback"
   ]
  },
  {
   "cell_type": "code",
   "execution_count": 10,
   "id": "22253336-94dd-43f8-b5eb-3c3f9c0d81dc",
   "metadata": {},
   "outputs": [
    {
     "name": "stdout",
     "output_type": "stream",
     "text": [
      "CPU times: user 27.6 ms, sys: 16.9 ms, total: 44.5 ms\n",
      "Wall time: 43.3 ms\n"
     ]
    }
   ],
   "source": [
    "%%time\n",
    "# positive_reviews = dataset.query(\"voted_up == 1\")\n",
    "user_item_matrix = csr_matrix(\n",
    "    (dataset[\"voted_up\"].to_numpy(), (dataset[\"user_id\"].to_numpy(), dataset[\"item_id\"].to_numpy())),\n",
    "    # shape=(dataset[\"steamid\"].nunique(), dataset[\"appid\"].nunique()),\n",
    ")"
   ]
  },
  {
   "cell_type": "code",
   "execution_count": 12,
   "id": "b3573c23-1ab0-4cc6-b9ea-5ecff9c51046",
   "metadata": {},
   "outputs": [
    {
     "data": {
      "application/vnd.jupyter.widget-view+json": {
       "model_id": "2d14d28f77874193854e4a2f79d74f3f",
       "version_major": 2,
       "version_minor": 0
      },
      "text/plain": [
       "  0%|          | 0/15 [00:00<?, ?it/s]"
      ]
     },
     "metadata": {},
     "output_type": "display_data"
    },
    {
     "name": "stdout",
     "output_type": "stream",
     "text": [
      "CPU times: user 45 s, sys: 952 ms, total: 46 s\n",
      "Wall time: 47.2 s\n"
     ]
    }
   ],
   "source": [
    "%%time\n",
    "# Initialize and train the ALS model\n",
    "model = als.AlternatingLeastSquares(factors=50, regularization=0.1, random_state=21122024) #factors is the number of latent factors\n",
    "model.fit(user_item_matrix)"
   ]
  },
  {
   "cell_type": "code",
   "execution_count": 60,
   "id": "9ac0b19b-dd02-4755-8482-df3c0075d99d",
   "metadata": {},
   "outputs": [],
   "source": [
    "model.save(\"../models/als-all-reviews-f-50-r-0.1-21-12-2024.npz\")"
   ]
  },
  {
   "cell_type": "markdown",
   "id": "e5768bef-e009-484f-a2f7-4b701f184058",
   "metadata": {},
   "source": [
    "Calculate mAp@10, calculate diversity and novelty. Cold start on games or users? "
   ]
  },
  {
   "cell_type": "code",
   "execution_count": null,
   "id": "8329df6a-15c0-4dce-a0dd-a20ea9607606",
   "metadata": {},
   "outputs": [],
   "source": [
    "# Recommend items for a user\n",
    "user_id = 0\n",
    "recommendations = model.recommend(user_id, user_item_matrix[user_id])\n",
    "print(recommendations)\n",
    "\n",
    "# Get similar items\n",
    "item_id = 0\n",
    "similar = model.similar_items(item_id)\n",
    "print(similar)"
   ]
  },
  {
   "cell_type": "markdown",
   "id": "265470e6-90ec-450e-b31b-5e597314ff9c",
   "metadata": {},
   "source": [
    "## Implicit feedback"
   ]
  },
  {
   "cell_type": "code",
   "execution_count": 22,
   "id": "eeddfade-2205-4878-bb43-c91fff3fdfc0",
   "metadata": {},
   "outputs": [],
   "source": [
    "user_item_matrix_implicit = csr_matrix(\n",
    "    (dataset[\"playtime_at_review\"].to_numpy(), (dataset[\"user_id\"].to_numpy(), dataset[\"item_id\"].to_numpy())),\n",
    "    # shape=(dataset[\"steamid\"].nunique(), dataset[\"appid\"].nunique()),\n",
    ")"
   ]
  },
  {
   "cell_type": "code",
   "execution_count": 24,
   "id": "b3c1f9ec-6202-41c6-b6b0-e7c492c25465",
   "metadata": {},
   "outputs": [
    {
     "data": {
      "application/vnd.jupyter.widget-view+json": {
       "model_id": "4fef2c4b1618413a99d271d0a21bfcee",
       "version_major": 2,
       "version_minor": 0
      },
      "text/plain": [
       "  0%|          | 0/30 [00:00<?, ?it/s]"
      ]
     },
     "metadata": {},
     "output_type": "display_data"
    }
   ],
   "source": [
    "model_implicit = lmf.LogisticMatrixFactorization(factors=30, regularization=0.1, random_state=21122024)\n",
    "model_implicit.fit(user_item_matrix_implicit)"
   ]
  },
  {
   "cell_type": "code",
   "execution_count": null,
   "id": "4745e1ba-676e-4c48-a0a8-80ddc6c3c46f",
   "metadata": {},
   "outputs": [],
   "source": []
  }
 ],
 "metadata": {
  "kernelspec": {
   "display_name": "Python 3 (ipykernel)",
   "language": "python",
   "name": "python3"
  },
  "language_info": {
   "codemirror_mode": {
    "name": "ipython",
    "version": 3
   },
   "file_extension": ".py",
   "mimetype": "text/x-python",
   "name": "python",
   "nbconvert_exporter": "python",
   "pygments_lexer": "ipython3",
   "version": "3.13.1"
  }
 },
 "nbformat": 4,
 "nbformat_minor": 5
}
